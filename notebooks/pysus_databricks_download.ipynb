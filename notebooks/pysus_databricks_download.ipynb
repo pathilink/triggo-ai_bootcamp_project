{
 "cells": [
  {
   "cell_type": "code",
   "execution_count": 0,
   "metadata": {
    "application/vnd.databricks.v1+cell": {
     "cellMetadata": {
      "byteLimit": 2048000,
      "rowLimit": 10000
     },
     "inputWidgets": {},
     "nuid": "5f613854-639f-4cfa-b1e6-1dfd269769ae",
     "showTitle": false,
     "tableResultSettingsMap": {},
     "title": ""
    }
   },
   "outputs": [
    {
     "output_type": "stream",
     "name": "stdout",
     "output_type": "stream",
     "text": [
      "Collecting pysus\n  Downloading pysus-1.0.0-py3-none-any.whl.metadata (1.3 kB)\nCollecting Unidecode<2.0.0,>=1.3.6 (from pysus)\n  Downloading Unidecode-1.4.0-py3-none-any.whl.metadata (13 kB)\nCollecting aioftp<0.22.0,>=0.21.4 (from pysus)\n  Downloading aioftp-0.21.4-py3-none-any.whl.metadata (6.1 kB)\nCollecting bigtree<0.13.0,>=0.12.2 (from pysus)\n  Downloading bigtree-0.12.5-py3-none-any.whl.metadata (28 kB)\nCollecting dateparser<2.0.0,>=1.1.8 (from pysus)\n  Downloading dateparser-1.2.2-py3-none-any.whl.metadata (29 kB)\nCollecting dbfread==2.0.7 (from pysus)\n  Downloading dbfread-2.0.7-py2.py3-none-any.whl.metadata (3.3 kB)\nCollecting elasticsearch==7.16.2 (from elasticsearch[preprocessing]==7.16.2->pysus)\n  Downloading elasticsearch-7.16.2-py2.py3-none-any.whl.metadata (5.7 kB)\nCollecting fastparquet<=2024.11.0,>=2023.10.1 (from pysus)\n  Downloading fastparquet-2024.11.0-cp311-cp311-manylinux_2_17_aarch64.manylinux2014_aarch64.whl.metadata (4.2 kB)\nCollecting humanize<5.0.0,>=4.8.0 (from pysus)\n  Downloading humanize-4.12.3-py3-none-any.whl.metadata (7.8 kB)\nCollecting loguru<0.7.0,>=0.6.0 (from pysus)\n  Downloading loguru-0.6.0-py3-none-any.whl.metadata (21 kB)\nRequirement already satisfied: numpy<3,>1 in /databricks/python3/lib/python3.11/site-packages (from pysus) (1.23.5)\nCollecting pandas<3.0.0,>=2.2.2 (from pysus)\n  Downloading pandas-2.3.1-cp311-cp311-manylinux_2_17_aarch64.manylinux2014_aarch64.whl.metadata (91 kB)\nRequirement already satisfied: pyarrow>=11.0.0 in /databricks/python3/lib/python3.11/site-packages (from pysus) (14.0.1)\nRequirement already satisfied: pycparser==2.21 in /databricks/python3/lib/python3.11/site-packages (from pysus) (2.21)\nCollecting pyreaddbc>=1.1.0 (from pysus)\n  Downloading pyreaddbc-1.2.0.tar.gz (57 kB)\n  Installing build dependencies: started\n  Installing build dependencies: finished with status 'done'\n  Getting requirements to build wheel: started\n  Getting requirements to build wheel: finished with status 'done'\n  Preparing metadata (pyproject.toml): started\n  Preparing metadata (pyproject.toml): finished with status 'done'\nRequirement already satisfied: python-dateutil==2.8.2 in /databricks/python3/lib/python3.11/site-packages (from pysus) (2.8.2)\nCollecting tqdm==4.64.0 (from pysus)\n  Downloading tqdm-4.64.0-py2.py3-none-any.whl.metadata (57 kB)\nRequirement already satisfied: typing-extensions<5.0.0,>=4.9.0 in /databricks/python3/lib/python3.11/site-packages (from pysus) (4.10.0)\nCollecting urwid<3.0.0,>=2.1.2 (from pysus)\n  Downloading urwid-2.6.16-py3-none-any.whl.metadata (11 kB)\nCollecting wget<4.0,>=3.2 (from pysus)\n  Downloading wget-3.2.zip (10 kB)\n  Preparing metadata (setup.py): started\n  Preparing metadata (setup.py): finished with status 'done'\nRequirement already satisfied: urllib3<2,>=1.21.1 in /databricks/python3/lib/python3.11/site-packages (from elasticsearch==7.16.2->elasticsearch[preprocessing]==7.16.2->pysus) (1.26.16)\nRequirement already satisfied: certifi in /databricks/python3/lib/python3.11/site-packages (from elasticsearch==7.16.2->elasticsearch[preprocessing]==7.16.2->pysus) (2023.7.22)\n\u001B[33mWARNING: elasticsearch 7.16.2 does not provide the extra 'preprocessing'\u001B[0m\u001B[33m\n\u001B[0mRequirement already satisfied: six>=1.5 in /usr/lib/python3/dist-packages (from python-dateutil==2.8.2->pysus) (1.16.0)\nCollecting pytz>=2024.2 (from dateparser<2.0.0,>=1.1.8->pysus)\n  Downloading pytz-2025.2-py2.py3-none-any.whl.metadata (22 kB)\nCollecting regex>=2024.9.11 (from dateparser<2.0.0,>=1.1.8->pysus)\n  Downloading regex-2025.7.34-cp311-cp311-manylinux2014_aarch64.manylinux_2_17_aarch64.manylinux_2_28_aarch64.whl.metadata (40 kB)\nCollecting tzlocal>=0.2 (from dateparser<2.0.0,>=1.1.8->pysus)\n  Downloading tzlocal-5.3.1-py3-none-any.whl.metadata (7.6 kB)\nCollecting cramjam>=2.3 (from fastparquet<=2024.11.0,>=2023.10.1->pysus)\n  Downloading cramjam-2.11.0-cp311-cp311-manylinux_2_17_aarch64.manylinux2014_aarch64.whl.metadata (5.6 kB)\nCollecting fsspec (from fastparquet<=2024.11.0,>=2023.10.1->pysus)\n  Downloading fsspec-2025.7.0-py3-none-any.whl.metadata (12 kB)\nRequirement already satisfied: packaging in /databricks/python3/lib/python3.11/site-packages (from fastparquet<=2024.11.0,>=2023.10.1->pysus) (23.2)\nCollecting tzdata>=2022.7 (from pandas<3.0.0,>=2.2.2->pysus)\n  Downloading tzdata-2025.2-py2.py3-none-any.whl.metadata (1.4 kB)\nRequirement already satisfied: cffi<2,>=1.15.1 in /databricks/python3/lib/python3.11/site-packages (from pyreaddbc>=1.1.0->pysus) (1.15.1)\nRequirement already satisfied: pyyaml>=6 in /databricks/python3/lib/python3.11/site-packages (from pyreaddbc>=1.1.0->pysus) (6.0)\nRequirement already satisfied: wcwidth in /databricks/python3/lib/python3.11/site-packages (from urwid<3.0.0,>=2.1.2->pysus) (0.2.5)\nDownloading pysus-1.0.0-py3-none-any.whl (1.4 MB)\n\u001B[?25l   \u001B[90m━━━━━━━━━━━━━━━━━━━━━━━━━━━━━━━━━━━━━━━━\u001B[0m \u001B[32m0.0/1.4 MB\u001B[0m \u001B[31m?\u001B[0m eta \u001B[36m-:--:--\u001B[0m\r\u001B[2K   \u001B[90m━━━━━━━━━━━━━━━━━━━━━━━━━━━━━━━━━━━━━━━━\u001B[0m \u001B[32m1.4/1.4 MB\u001B[0m \u001B[31m39.1 MB/s\u001B[0m eta \u001B[36m0:00:00\u001B[0m\n\u001B[?25hDownloading dbfread-2.0.7-py2.py3-none-any.whl (20 kB)\nDownloading elasticsearch-7.16.2-py2.py3-none-any.whl (385 kB)\nDownloading tqdm-4.64.0-py2.py3-none-any.whl (78 kB)\nDownloading aioftp-0.21.4-py3-none-any.whl (37 kB)\nDownloading bigtree-0.12.5-py3-none-any.whl (63 kB)\nDownloading dateparser-1.2.2-py3-none-any.whl (315 kB)\nDownloading fastparquet-2024.11.0-cp311-cp311-manylinux_2_17_aarch64.manylinux2014_aarch64.whl (1.8 MB)\n\u001B[?25l   \u001B[90m━━━━━━━━━━━━━━━━━━━━━━━━━━━━━━━━━━━━━━━━\u001B[0m \u001B[32m0.0/1.8 MB\u001B[0m \u001B[31m?\u001B[0m eta \u001B[36m-:--:--\u001B[0m\r\u001B[2K   \u001B[90m━━━━━━━━━━━━━━━━━━━━━━━━━━━━━━━━━━━━━━━━\u001B[0m \u001B[32m1.8/1.8 MB\u001B[0m \u001B[31m60.3 MB/s\u001B[0m eta \u001B[36m0:00:00\u001B[0m\n\u001B[?25hDownloading humanize-4.12.3-py3-none-any.whl (128 kB)\nDownloading loguru-0.6.0-py3-none-any.whl (58 kB)\nDownloading pandas-2.3.1-cp311-cp311-manylinux_2_17_aarch64.manylinux2014_aarch64.whl (11.8 MB)\n\u001B[?25l   \u001B[90m━━━━━━━━━━━━━━━━━━━━━━━━━━━━━━━━━━━━━━━━\u001B[0m \u001B[32m0.0/11.8 MB\u001B[0m \u001B[31m?\u001B[0m eta \u001B[36m-:--:--\u001B[0m\r\u001B[2K   \u001B[90m━━━━━━━━━━━━━━━━━━━━━━━━━━━━━━━━━━━━━━━━\u001B[0m \u001B[32m11.8/11.8 MB\u001B[0m \u001B[31m130.0 MB/s\u001B[0m eta \u001B[36m0:00:00\u001B[0m\n\u001B[?25hDownloading Unidecode-1.4.0-py3-none-any.whl (235 kB)\nDownloading urwid-2.6.16-py3-none-any.whl (297 kB)\nDownloading cramjam-2.11.0-cp311-cp311-manylinux_2_17_aarch64.manylinux2014_aarch64.whl (1.8 MB)\n\u001B[?25l   \u001B[90m━━━━━━━━━━━━━━━━━━━━━━━━━━━━━━━━━━━━━━━━\u001B[0m \u001B[32m0.0/1.8 MB\u001B[0m \u001B[31m?\u001B[0m eta \u001B[36m-:--:--\u001B[0m\r\u001B[2K   \u001B[90m━━━━━━━━━━━━━━━━━━━━━━━━━━━━━━━━━━━━━━━━\u001B[0m \u001B[32m1.8/1.8 MB\u001B[0m \u001B[31m83.6 MB/s\u001B[0m eta \u001B[36m0:00:00\u001B[0m\n\u001B[?25hDownloading pytz-2025.2-py2.py3-none-any.whl (509 kB)\nDownloading regex-2025.7.34-cp311-cp311-manylinux2014_aarch64.manylinux_2_17_aarch64.manylinux_2_28_aarch64.whl (792 kB)\n\u001B[?25l   \u001B[90m━━━━━━━━━━━━━━━━━━━━━━━━━━━━━━━━━━━━━━━━\u001B[0m \u001B[32m0.0/792.3 kB\u001B[0m \u001B[31m?\u001B[0m eta \u001B[36m-:--:--\u001B[0m\r\u001B[2K   \u001B[90m━━━━━━━━━━━━━━━━━━━━━━━━━━━━━━━━━━━━━━━━\u001B[0m \u001B[32m792.3/792.3 kB\u001B[0m \u001B[31m73.2 MB/s\u001B[0m eta \u001B[36m0:00:00\u001B[0m\n\u001B[?25hDownloading tzdata-2025.2-py2.py3-none-any.whl (347 kB)\nDownloading tzlocal-5.3.1-py3-none-any.whl (18 kB)\nDownloading fsspec-2025.7.0-py3-none-any.whl (199 kB)\nBuilding wheels for collected packages: pyreaddbc, wget\n  Building wheel for pyreaddbc (pyproject.toml): started\n  Building wheel for pyreaddbc (pyproject.toml): finished with status 'done'\n  Created wheel for pyreaddbc: filename=pyreaddbc-1.2.0-cp311-cp311-manylinux_2_35_aarch64.whl size=89609 sha256=c18068aee29541a69cfb9b399132e0db9e183132ffcc04e58bb686c30301b3d5\n  Stored in directory: /home/spark-af82a461-e817-4e9e-9e1f-a0/.cache/pip/wheels/1c/24/ff/03c9d6c394a14bf0f14a18333ff9345e8ff1bc3c62b10b399e\n  Building wheel for wget (setup.py): started\n  Building wheel for wget (setup.py): finished with status 'done'\n  Created wheel for wget: filename=wget-3.2-py3-none-any.whl size=9656 sha256=8667a4dae21e3cb873f15b4cb4cc8c25b1e0d0648d6af81df6c7fb908c74ffa4\n  Stored in directory: /home/spark-af82a461-e817-4e9e-9e1f-a0/.cache/pip/wheels/40/b3/0f/a40dbd1c6861731779f62cc4babcb234387e11d697df70ee97\nSuccessfully built pyreaddbc wget\nInstalling collected packages: wget, pytz, dbfread, urwid, Unidecode, tzlocal, tzdata, tqdm, regex, loguru, humanize, fsspec, elasticsearch, cramjam, bigtree, aioftp, pyreaddbc, pandas, dateparser, fastparquet, pysus\n  Attempting uninstall: pytz\n    Found existing installation: pytz 2022.7\n    Not uninstalling pytz at /databricks/python3/lib/python3.11/site-packages, outside environment /local_disk0/.ephemeral_nfs/envs/pythonEnv-af82a461-e817-4e9e-9e1f-a0d6eec3c5c5\n    Can't uninstall 'pytz'. No files were found to uninstall.\n  Attempting uninstall: tzdata\n    Found existing installation: tzdata 2022.1\n    Not uninstalling tzdata at /databricks/python3/lib/python3.11/site-packages, outside environment /local_disk0/.ephemeral_nfs/envs/pythonEnv-af82a461-e817-4e9e-9e1f-a0d6eec3c5c5\n    Can't uninstall 'tzdata'. No files were found to uninstall.\n  Attempting uninstall: pandas\n    Found existing installation: pandas 1.5.3\n    Not uninstalling pandas at /databricks/python3/lib/python3.11/site-packages, outside environment /local_disk0/.ephemeral_nfs/envs/pythonEnv-af82a461-e817-4e9e-9e1f-a0d6eec3c5c5\n    Can't uninstall 'pandas'. No files were found to uninstall.\n\u001B[31mERROR: pip's dependency resolver does not currently take into account all the packages that are installed. This behaviour is the source of the following dependency conflicts.\nmlflow-skinny 2.11.4 requires protobuf<5,>=3.12.0, but you have protobuf 5.29.3 which is incompatible.\nmlflow-skinny 2.11.4 requires pytz<2025, but you have pytz 2025.2 which is incompatible.\u001B[0m\u001B[31m\n\u001B[0mSuccessfully installed Unidecode-1.4.0 aioftp-0.21.4 bigtree-0.12.5 cramjam-2.11.0 dateparser-1.2.2 dbfread-2.0.7 elasticsearch-7.16.2 fastparquet-2024.11.0 fsspec-2025.7.0 humanize-4.12.3 loguru-0.6.0 pandas-2.3.1 pyreaddbc-1.2.0 pysus-1.0.0 pytz-2025.2 regex-2025.7.34 tqdm-4.64.0 tzdata-2025.2 tzlocal-5.3.1 urwid-2.6.16 wget-3.2\n\u001B[43mNote: you may need to restart the kernel using %restart_python or dbutils.library.restartPython() to use updated packages.\u001B[0m\n"
     ]
    }
   ],
   "source": [
    "# needs to be installed once\n",
    "# !pip install pysus"
   ]
  },
  {
   "cell_type": "code",
   "execution_count": 0,
   "metadata": {
    "application/vnd.databricks.v1+cell": {
     "cellMetadata": {
      "byteLimit": 2048000,
      "rowLimit": 10000
     },
     "inputWidgets": {},
     "nuid": "9be503a6-1baa-43f7-95b7-dee40ed9d289",
     "showTitle": false,
     "tableResultSettingsMap": {},
     "title": ""
    }
   },
   "outputs": [],
   "source": [
    "# restart after installation\n",
    "# dbutils.library.restartPython()"
   ]
  },
  {
   "cell_type": "code",
   "execution_count": 0,
   "metadata": {
    "application/vnd.databricks.v1+cell": {
     "cellMetadata": {
      "byteLimit": 2048000,
      "rowLimit": 10000
     },
     "inputWidgets": {},
     "nuid": "9ba7310d-c59c-4a1e-9dca-f5a14d4be9a8",
     "showTitle": false,
     "tableResultSettingsMap": {},
     "title": ""
    }
   },
   "outputs": [],
   "source": [
    "# libraries\n",
    "from pysus.online_data.SINASC import download\n",
    "from pyspark.sql import functions as F\n",
    "\n",
    "from functools import reduce"
   ]
  },
  {
   "cell_type": "code",
   "execution_count": 0,
   "metadata": {
    "application/vnd.databricks.v1+cell": {
     "cellMetadata": {
      "byteLimit": 2048000,
      "rowLimit": 10000
     },
     "inputWidgets": {},
     "nuid": "8f96e5b5-411b-4e94-bf3b-ff936b64bb1f",
     "showTitle": false,
     "tableResultSettingsMap": {},
     "title": ""
    }
   },
   "outputs": [
    {
     "output_type": "stream",
     "name": "stderr",
     "output_type": "stream",
     "text": [
      "\r  0%|          | 0/1 [00:00<?, ?it/s]\r  0%|          | 0.00/723k [00:00<?, ?B/s]\rDNAC2020.dbc:   0%|          | 0.00/723k [00:00<?, ?B/s]\rDNAC2020.dbc:   0%|          | 1.45k/723k [00:01<09:35, 1.25kB/s]\rDNAC2020.dbc:   1%|          | 7.24k/723k [00:01<01:40, 7.14kB/s]\rDNAC2020.dbc:   3%|▎         | 18.8k/723k [00:01<00:35, 20.1kB/s]\rDNAC2020.dbc:   6%|▌         | 43.4k/723k [00:01<00:13, 50.5kB/s]\rDNAC2020.dbc:  12%|█▏        | 86.9k/723k [00:01<00:05, 106kB/s] \rDNAC2020.dbc:  20%|█▉        | 143k/723k [00:01<00:03, 175kB/s] \rDNAC2020.dbc:  27%|██▋       | 198k/723k [00:02<00:02, 227kB/s]\rDNAC2020.dbc:  35%|███▌      | 255k/723k [00:02<00:01, 271kB/s]\rDNAC2020.dbc:  43%|████▎     | 313k/723k [00:02<00:01, 306kB/s]\rDNAC2020.dbc:  51%|█████     | 366k/723k [00:02<00:01, 324kB/s]\rDNAC2020.dbc:  59%|█████▊    | 424k/723k [00:02<00:00, 345kB/s]\rDNAC2020.dbc:  66%|██████▌   | 476k/723k [00:02<00:00, 362kB/s]\rDNAC2020.dbc:  78%|███████▊  | 560k/723k [00:02<00:00, 469kB/s]\rDNAC2020.dbc:  91%|█████████▏| 661k/723k [00:03<00:00, 477kB/s]\rDNAC2020.dbc: 100%|██████████| 723k/723k [00:03<00:00, 459kB/s]\rDNAC2020.dbc:   0%|          | 0.00/1.00 [00:00<?, ?B/s]       \rDNAC2020.dbf:   0%|          | 0.00/1.00 [00:00<?, ?B/s]\rDNAC2020.dbf:   0%|          | 0.00/17.0k [00:00<?, ?B/s]\rDNAC2020.parquet:   0%|          | 0.00/17.0k [00:00<?, ?B/s]\rDNAC2020.parquet: 100%|██████████| 17.0k/17.0k [00:00<00:00, 20.4kB/s]\n\r  0%|          | 0/1 [00:00<?, ?it/s]\r  0%|          | 0.00/684k [00:00<?, ?B/s]\rDNAP2020.dbc:   0%|          | 0.00/684k [00:00<?, ?B/s]\rDNAP2020.dbc:   0%|          | 2.90k/684k [00:01<05:38, 2.01kB/s]\rDNAP2020.dbc:   1%|▏         | 8.69k/684k [00:01<01:39, 6.79kB/s]\rDNAP2020.dbc:   3%|▎         | 20.3k/684k [00:01<00:37, 17.9kB/s]\rDNAP2020.dbc:   6%|▌         | 42.0k/684k [00:01<00:15, 41.5kB/s]\rDNAP2020.dbc:  13%|█▎        | 89.8k/684k [00:02<00:05, 100kB/s] \rDNAP2020.dbc:  21%|██▏       | 146k/684k [00:02<00:03, 165kB/s] \rDNAP2020.dbc:  30%|██▉       | 203k/684k [00:02<00:02, 220kB/s]\rDNAP2020.dbc:  46%|████▌     | 313k/684k [00:02<00:01, 358kB/s]\rDNAP2020.dbc:  58%|█████▊    | 395k/684k [00:02<00:00, 413kB/s]\rDNAP2020.dbc:  77%|███████▋  | 526k/684k [00:02<00:00, 547kB/s]\rDNAP2020.dbc:  97%|█████████▋| 664k/684k [00:02<00:00, 656kB/s]\rDNAP2020.dbc:   0%|          | 0.00/1.00 [00:00<?, ?B/s]       \rDNAP2020.dbf:   0%|          | 0.00/1.00 [00:00<?, ?B/s]\rDNAP2020.dbf:   0%|          | 0.00/16.4k [00:00<?, ?B/s]\rDNAP2020.parquet:   0%|          | 0.00/16.4k [00:00<?, ?B/s]\rDNAP2020.parquet: 100%|██████████| 16.4k/16.4k [00:00<00:00, 22.6kB/s]\n\r  0%|          | 0/1 [00:00<?, ?it/s]\r  0%|          | 0.00/3.58M [00:00<?, ?B/s]\rDNAM2020.dbc:   0%|          | 0.00/3.58M [00:00<?, ?B/s]\rDNAM2020.dbc:   0%|          | 2.90k/3.58M [00:01<23:43, 2.51kB/s]\rDNAM2020.dbc:   0%|          | 8.69k/3.58M [00:01<07:14, 8.23kB/s]\rDNAM2020.dbc:   1%|          | 18.8k/3.58M [00:01<03:04, 19.3kB/s]\rDNAM2020.dbc:   1%|▏         | 48.7k/3.58M [00:01<01:01, 57.5kB/s]\rDNAM2020.dbc:   3%|▎         | 95.1k/3.58M [00:01<00:29, 117kB/s] \rDNAM2020.dbc:   3%|▎         | 122k/3.58M [00:01<00:25, 133kB/s] \rDNAM2020.dbc:   5%|▍         | 178k/3.58M [00:02<00:17, 200kB/s]\rDNAM2020.dbc:   7%|▋         | 235k/3.58M [00:02<00:13, 252kB/s]\rDNAM2020.dbc:   7%|▋         | 265k/3.58M [00:02<00:13, 240kB/s]\rDNAM2020.dbc:   9%|▉         | 317k/3.58M [00:02<00:11, 274kB/s]\rDNAM2020.dbc:  10%|▉         | 353k/3.58M [00:02<00:12, 268kB/s]\rDNAM2020.dbc:  12%|█▏        | 424k/3.58M [00:02<00:09, 335kB/s]\rDNAM2020.dbc:  15%|█▍        | 527k/3.58M [00:02<00:06, 445kB/s]\rDNAM2020.dbc:  18%|█▊        | 658k/3.58M [00:03<00:05, 581kB/s]\rDNAM2020.dbc:  22%|██▏       | 789k/3.58M [00:03<00:04, 677kB/s]\rDNAM2020.dbc:  26%|██▌       | 926k/3.58M [00:03<00:03, 755kB/s]\rDNAM2020.dbc:  29%|██▉       | 1.05M/3.58M [00:03<00:03, 787kB/s]\rDNAM2020.dbc:  33%|███▎      | 1.18M/3.58M [00:03<00:02, 829kB/s]\rDNAM2020.dbc:  37%|███▋      | 1.32M/3.58M [00:03<00:02, 859kB/s]\rDNAM2020.dbc:  40%|████      | 1.44M/3.58M [00:03<00:02, 858kB/s]\rDNAM2020.dbc:  44%|████▍     | 1.57M/3.58M [00:04<00:02, 873kB/s]\rDNAM2020.dbc:  48%|████▊     | 1.71M/3.58M [00:04<00:02, 893kB/s]\rDNAM2020.dbc:  51%|█████▏    | 1.84M/3.58M [00:04<00:01, 891kB/s]\rDNAM2020.dbc:  55%|█████▌    | 1.97M/3.58M [00:04<00:01, 901kB/s]\rDNAM2020.dbc:  59%|█████▊    | 2.10M/3.58M [00:04<00:01, 896kB/s]\rDNAM2020.dbc:  62%|██████▏   | 2.23M/3.58M [00:04<00:01, 898kB/s]\rDNAM2020.dbc:  66%|██████▌   | 2.37M/3.58M [00:04<00:01, 911kB/s]\rDNAM2020.dbc:  70%|██████▉   | 2.50M/3.58M [00:05<00:01, 910kB/s]\rDNAM2020.dbc:  73%|███████▎  | 2.62M/3.58M [00:05<00:01, 896kB/s]\rDNAM2020.dbc:  77%|███████▋  | 2.76M/3.58M [00:05<00:00, 910kB/s]\rDNAM2020.dbc:  81%|████████  | 2.89M/3.58M [00:05<00:00, 894kB/s]\rDNAM2020.dbc:  84%|████████▍ | 3.02M/3.58M [00:05<00:00, 897kB/s]\rDNAM2020.dbc:  88%|████████▊ | 3.15M/3.58M [00:05<00:00, 899kB/s]\rDNAM2020.dbc:  92%|█████████▏| 3.28M/3.58M [00:05<00:00, 902kB/s]\rDNAM2020.dbc:  95%|█████████▌| 3.42M/3.58M [00:06<00:00, 916kB/s]\rDNAM2020.dbc:  99%|█████████▉| 3.54M/3.58M [00:06<00:00, 902kB/s]\rDNAM2020.dbc:   0%|          | 0.00/1.00 [00:00<?, ?B/s]         \rDNAM2020.dbf:   0%|          | 0.00/1.00 [00:00<?, ?B/s]\rDNAM2020.dbf:   0%|          | 0.00/84.7k [00:00<?, ?B/s]\rDNAM2020.parquet:   0%|          | 0.00/84.7k [00:00<?, ?B/s]\rDNAM2020.parquet: 100%|██████████| 84.7k/84.7k [00:04<00:00, 19.1kB/s]\n\r  0%|          | 0/1 [00:00<?, ?it/s]\r  0%|          | 0.00/6.35M [00:00<?, ?B/s]\rDNPA2020.dbc:   0%|          | 0.00/6.35M [00:00<?, ?B/s]\rDNPA2020.dbc:   0%|          | 5.79k/6.35M [00:01<26:51, 3.93kB/s]\rDNPA2020.dbc:   0%|          | 7.24k/6.35M [00:01<22:27, 4.70kB/s]\rDNPA2020.dbc:   0%|          | 20.3k/6.35M [00:01<06:00, 17.5kB/s]\rDNPA2020.dbc:   1%|          | 42.0k/6.35M [00:01<02:33, 41.1kB/s]\rDNPA2020.dbc:   1%|▏         | 89.8k/6.35M [00:02<01:02, 99.6kB/s]\rDNPA2020.dbc:   2%|▏         | 145k/6.35M [00:02<00:38, 163kB/s]  \rDNPA2020.dbc:   3%|▎         | 201k/6.35M [00:02<00:28, 219kB/s]\rDNPA2020.dbc:   5%|▍         | 301k/6.35M [00:02<00:17, 342kB/s]\rDNPA2020.dbc:   6%|▌         | 395k/6.35M [00:02<00:14, 425kB/s]\rDNPA2020.dbc:   8%|▊         | 526k/6.35M [00:02<00:10, 559kB/s]\rDNPA2020.dbc:  10%|█         | 657k/6.35M [00:02<00:08, 659kB/s]\rDNPA2020.dbc:  12%|█▏        | 789k/6.35M [00:03<00:07, 734kB/s]\rDNPA2020.dbc:  15%|█▍        | 920k/6.35M [00:03<00:06, 785kB/s]\rDNPA2020.dbc:  17%|█▋        | 1.05M/6.35M [00:03<00:06, 819kB/s]\rDNPA2020.dbc:  19%|█▊        | 1.18M/6.35M [00:03<00:06, 846kB/s]\rDNPA2020.dbc:  21%|██        | 1.31M/6.35M [00:03<00:05, 867kB/s]\rDNPA2020.dbc:  23%|██▎       | 1.44M/6.35M [00:03<00:05, 879kB/s]\rDNPA2020.dbc:  25%|██▍       | 1.57M/6.35M [00:03<00:05, 885kB/s]\rDNPA2020.dbc:  27%|██▋       | 1.71M/6.35M [00:04<00:05, 892kB/s]\rDNPA2020.dbc:  29%|██▉       | 1.84M/6.35M [00:04<00:04, 907kB/s]\rDNPA2020.dbc:  31%|███       | 1.97M/6.35M [00:04<00:04, 896kB/s]\rDNPA2020.dbc:  33%|███▎      | 2.11M/6.35M [00:04<00:04, 913kB/s]\rDNPA2020.dbc:  35%|███▌      | 2.23M/6.35M [00:04<00:04, 898kB/s]\rDNPA2020.dbc:  37%|███▋      | 2.37M/6.35M [00:04<00:04, 912kB/s]\rDNPA2020.dbc:  39%|███▉      | 2.49M/6.35M [00:04<00:04, 899kB/s]\rDNPA2020.dbc:  41%|████▏     | 2.63M/6.35M [00:05<00:04, 906kB/s]\rDNPA2020.dbc:  43%|████▎     | 2.75M/6.35M [00:05<00:04, 892kB/s]\rDNPA2020.dbc:  46%|████▌     | 2.89M/6.35M [00:05<00:03, 910kB/s]\rDNPA2020.dbc:  48%|████▊     | 3.02M/6.35M [00:05<00:03, 895kB/s]\rDNPA2020.dbc:  50%|████▉     | 3.15M/6.35M [00:05<00:03, 901kB/s]\rDNPA2020.dbc:  52%|█████▏    | 3.28M/6.35M [00:05<00:03, 908kB/s]\rDNPA2020.dbc:  54%|█████▎    | 3.41M/6.35M [00:05<00:03, 901kB/s]\rDNPA2020.dbc:  56%|█████▌    | 3.54M/6.35M [00:06<00:03, 904kB/s]\rDNPA2020.dbc:  58%|█████▊    | 3.67M/6.35M [00:06<00:02, 905kB/s]\rDNPA2020.dbc:  60%|█████▉    | 3.80M/6.35M [00:06<00:02, 903kB/s]\rDNPA2020.dbc:  62%|██████▏   | 3.93M/6.35M [00:06<00:02, 905kB/s]\rDNPA2020.dbc:  64%|██████▍   | 4.06M/6.35M [00:06<00:02, 906kB/s]\rDNPA2020.dbc:  66%|██████▌   | 4.20M/6.35M [00:06<00:02, 906kB/s]\rDNPA2020.dbc:  68%|██████▊   | 4.33M/6.35M [00:06<00:02, 920kB/s]\rDNPA2020.dbc:  70%|███████   | 4.46M/6.35M [00:07<00:02, 905kB/s]\rDNPA2020.dbc:  72%|███████▏  | 4.59M/6.35M [00:07<00:01, 904kB/s]\rDNPA2020.dbc:  74%|███████▍  | 4.72M/6.35M [00:07<00:01, 906kB/s]\rDNPA2020.dbc:  76%|███████▋  | 4.85M/6.35M [00:07<00:01, 913kB/s]\rDNPA2020.dbc:  79%|███████▊  | 4.98M/6.35M [00:07<00:01, 903kB/s]\rDNPA2020.dbc:  81%|████████  | 5.11M/6.35M [00:07<00:01, 907kB/s]\rDNPA2020.dbc:  83%|████████▎ | 5.24M/6.35M [00:07<00:01, 905kB/s]\rDNPA2020.dbc:  85%|████████▍ | 5.38M/6.35M [00:08<00:01, 905kB/s]\rDNPA2020.dbc:  87%|████████▋ | 5.51M/6.35M [00:08<00:00, 902kB/s]\rDNPA2020.dbc:  89%|████████▉ | 5.64M/6.35M [00:08<00:00, 909kB/s]\rDNPA2020.dbc:  91%|█████████ | 5.78M/6.35M [00:08<00:00, 916kB/s]\rDNPA2020.dbc:  93%|█████████▎| 5.91M/6.35M [00:08<00:00, 912kB/s]\rDNPA2020.dbc:  95%|█████████▌| 6.03M/6.35M [00:08<00:00, 897kB/s]\rDNPA2020.dbc:  97%|█████████▋| 6.17M/6.35M [00:08<00:00, 914kB/s]\rDNPA2020.dbc:  99%|█████████▉| 6.30M/6.35M [00:09<00:00, 907kB/s]\rDNPA2020.dbc:   0%|          | 0.00/1.00 [00:00<?, ?B/s]         \rDNPA2020.dbf:   0%|          | 0.00/1.00 [00:00<?, ?B/s]\rDNPA2020.dbf:   0%|          | 0.00/149k [00:00<?, ?B/s]\rDNPA2020.parquet:   0%|          | 0.00/149k [00:00<?, ?B/s]\rDNPA2020.parquet:  81%|████████  | 120k/149k [00:05<00:01, 22.2kB/s]\rDNPA2020.parquet: : 150kB [00:06, 22.9kB/s]                         \rDNPA2020.parquet: 100%|██████████| 149k/149k [00:07<00:00, 20.9kB/s]\n\r  0%|          | 0/1 [00:00<?, ?it/s]\r  0%|          | 0.00/1.27M [00:00<?, ?B/s]\rDNRO2020.dbc:   0%|          | 0.00/1.27M [00:00<?, ?B/s]\rDNRO2020.dbc:   0%|          | 1.45k/1.27M [00:01<19:00, 1.11kB/s]\rDNRO2020.dbc:   1%|          | 8.69k/1.27M [00:01<02:41, 7.83kB/s]\rDNRO2020.dbc:   2%|▏         | 23.2k/1.27M [00:01<00:54, 23.0kB/s]\rDNRO2020.dbc:   3%|▎         | 43.4k/1.27M [00:01<00:27, 45.3kB/s]\rDNRO2020.dbc:   7%|▋         | 92.7k/1.27M [00:01<00:10, 109kB/s] \rDNRO2020.dbc:  10%|▉         | 125k/1.27M [00:02<00:08, 135kB/s] \rDNRO2020.dbc:  16%|█▌        | 200k/1.27M [00:02<00:04, 231kB/s]\rDNRO2020.dbc:  24%|██▍       | 305k/1.27M [00:02<00:02, 361kB/s]\rDNRO2020.dbc:  31%|███       | 395k/1.27M [00:02<00:02, 433kB/s]\rDNRO2020.dbc:  41%|████▏     | 526k/1.27M [00:02<00:01, 566kB/s]\rDNRO2020.dbc:  52%|█████▏    | 657k/1.27M [00:02<00:00, 664kB/s]\rDNRO2020.dbc:  62%|██████▏   | 788k/1.27M [00:02<00:00, 735kB/s]\rDNRO2020.dbc:  72%|███████▏  | 919k/1.27M [00:03<00:00, 784kB/s]\rDNRO2020.dbc:  83%|████████▎ | 1.05M/1.27M [00:03<00:00, 829kB/s]\rDNRO2020.dbc:  93%|█████████▎| 1.18M/1.27M [00:03<00:00, 844kB/s]\rDNRO2020.dbc: 100%|██████████| 1.27M/1.27M [00:03<00:00, 776kB/s]\rDNRO2020.dbc:   0%|          | 0.00/1.00 [00:00<?, ?B/s]         \rDNRO2020.dbf:   0%|          | 0.00/1.00 [00:00<?, ?B/s]\rDNRO2020.dbf:   0%|          | 0.00/28.9k [00:00<?, ?B/s]\rDNRO2020.parquet:   0%|          | 0.00/28.9k [00:00<?, ?B/s]\rDNRO2020.parquet: 100%|██████████| 28.9k/28.9k [00:01<00:00, 21.5kB/s]\n\r  0%|          | 0/1 [00:00<?, ?it/s]\r  0%|          | 0.00/660k [00:00<?, ?B/s]\rDNRR2020.dbc:   0%|          | 0.00/660k [00:00<?, ?B/s]\rDNRR2020.dbc:   0%|          | 1.45k/660k [00:01<08:44, 1.25kB/s]\rDNRR2020.dbc:   1%|          | 7.24k/660k [00:01<01:31, 7.14kB/s]\rDNRR2020.dbc:   3%|▎         | 20.3k/660k [00:01<00:29, 21.9kB/s]\rDNRR2020.dbc:   7%|▋         | 43.4k/660k [00:01<00:12, 49.9kB/s]\rDNRR2020.dbc:  13%|█▎        | 86.9k/660k [00:01<00:05, 106kB/s] \rDNRR2020.dbc:  22%|██▏       | 143k/660k [00:01<00:02, 175kB/s] \rDNRR2020.dbc:  30%|███       | 200k/660k [00:02<00:01, 230kB/s]\rDNRR2020.dbc:  43%|████▎     | 285k/660k [00:02<00:01, 327kB/s]\rDNRR2020.dbc:  60%|█████▉    | 395k/660k [00:02<00:00, 444kB/s]\rDNRR2020.dbc:  80%|███████▉  | 526k/660k [00:02<00:00, 573kB/s]\rDNRR2020.dbc: 100%|█████████▉| 657k/660k [00:02<00:00, 667kB/s]\rDNRR2020.dbc:   0%|          | 0.00/1.00 [00:00<?, ?B/s]       \rDNRR2020.dbf:   0%|          | 0.00/1.00 [00:00<?, ?B/s]\rDNRR2020.dbf:   0%|          | 0.00/15.4k [00:00<?, ?B/s]\rDNRR2020.parquet:   0%|          | 0.00/15.4k [00:00<?, ?B/s]\rDNRR2020.parquet: 100%|██████████| 15.4k/15.4k [00:00<00:00, 20.0kB/s]\n\r  0%|          | 0/1 [00:00<?, ?it/s]\r  0%|          | 0.00/1.17M [00:00<?, ?B/s]\rDNTO2020.dbc:   0%|          | 0.00/1.17M [00:00<?, ?B/s]\rDNTO2020.dbc:   0%|          | 1.45k/1.17M [00:01<15:41, 1.24kB/s]\rDNTO2020.dbc:   1%|          | 8.69k/1.17M [00:01<02:15, 8.60kB/s]\rDNTO2020.dbc:   2%|▏         | 18.8k/1.17M [00:01<00:59, 19.5kB/s]\rDNTO2020.dbc:   4%|▎         | 43.4k/1.17M [00:01<00:22, 49.9kB/s]\rDNTO2020.dbc:   7%|▋         | 86.9k/1.17M [00:01<00:10, 106kB/s] \rDNTO2020.dbc:  12%|█▏        | 143k/1.17M [00:01<00:05, 175kB/s] \rDNTO2020.dbc:  19%|█▉        | 227k/1.17M [00:02<00:03, 279kB/s]\rDNTO2020.dbc:  29%|██▊       | 335k/1.17M [00:02<00:02, 402kB/s]\rDNTO2020.dbc:  39%|███▉      | 460k/1.17M [00:02<00:01, 530kB/s]\rDNTO2020.dbc:  51%|█████     | 593k/1.17M [00:02<00:00, 638kB/s]\rDNTO2020.dbc:  62%|██████▏   | 729k/1.17M [00:02<00:00, 721kB/s]\rDNTO2020.dbc:  73%|███████▎  | 855k/1.17M [00:02<00:00, 763kB/s]\rDNTO2020.dbc:  84%|████████▍ | 986k/1.17M [00:02<00:00, 803kB/s]\rDNTO2020.dbc:  96%|█████████▌| 1.12M/1.17M [00:03<00:00, 842kB/s]\rDNTO2020.dbc:   0%|          | 0.00/1.00 [00:00<?, ?B/s]         \rDNTO2020.dbf:   0%|          | 0.00/1.00 [00:00<?, ?B/s]\rDNTO2020.dbf:   0%|          | 0.00/26.6k [00:00<?, ?B/s]\rDNTO2020.parquet:   0%|          | 0.00/26.6k [00:00<?, ?B/s]\rDNTO2020.parquet: 100%|██████████| 26.6k/26.6k [00:01<00:00, 20.6kB/s]\n"
     ]
    },
    {
     "output_type": "stream",
     "name": "stdout",
     "output_type": "stream",
     "text": [
      "✅ Spark dataframe created and saved: norte_2020 (301635 records)\n"
     ]
    },
    {
     "output_type": "stream",
     "name": "stderr",
     "output_type": "stream",
     "text": [
      "\r  0%|          | 0/1 [00:00<?, ?it/s]\r  0%|          | 0.00/2.37M [00:00<?, ?B/s]\rDNAL2020.dbc:   0%|          | 0.00/2.37M [00:00<?, ?B/s]\rDNAL2020.dbc:   0%|          | 5.79k/2.37M [00:01<09:02, 4.35kB/s]\rDNAL2020.dbc:   0%|          | 8.69k/2.37M [00:01<06:04, 6.47kB/s]\rDNAL2020.dbc:   1%|          | 18.8k/2.37M [00:01<02:20, 16.8kB/s]\rDNAL2020.dbc:   2%|▏         | 42.0k/2.37M [00:01<00:53, 43.7kB/s]\rDNAL2020.dbc:   4%|▎         | 88.3k/2.37M [00:01<00:22, 102kB/s] \rDNAL2020.dbc:   6%|▌         | 145k/2.37M [00:02<00:13, 170kB/s] \rDNAL2020.dbc:   9%|▊         | 203k/2.37M [00:02<00:09, 227kB/s]\rDNAL2020.dbc:  11%|█         | 259k/2.37M [00:02<00:07, 271kB/s]\rDNAL2020.dbc:  14%|█▍        | 331k/2.37M [00:02<00:06, 332kB/s]\rDNAL2020.dbc:  19%|█▉        | 460k/2.37M [00:02<00:03, 490kB/s]\rDNAL2020.dbc:  25%|██▌       | 597k/2.37M [00:02<00:02, 621kB/s]\rDNAL2020.dbc:  31%|███       | 724k/2.37M [00:02<00:02, 696kB/s]\rDNAL2020.dbc:  36%|███▌      | 855k/2.37M [00:03<00:02, 754kB/s]\rDNAL2020.dbc:  42%|████▏     | 986k/2.37M [00:03<00:01, 798kB/s]\rDNAL2020.dbc:  47%|████▋     | 1.12M/2.37M [00:03<00:01, 833kB/s]\rDNAL2020.dbc:  53%|█████▎    | 1.25M/2.37M [00:03<00:01, 850kB/s]\rDNAL2020.dbc:  59%|█████▊    | 1.38M/2.37M [00:03<00:01, 880kB/s]\rDNAL2020.dbc:  64%|██████▍   | 1.52M/2.37M [00:03<00:00, 887kB/s]\rDNAL2020.dbc:  69%|██████▉   | 1.64M/2.37M [00:03<00:00, 883kB/s]\rDNAL2020.dbc:  75%|███████▍  | 1.77M/2.37M [00:04<00:00, 888kB/s]\rDNAL2020.dbc:  80%|████████  | 1.90M/2.37M [00:04<00:00, 895kB/s]\rDNAL2020.dbc:  86%|████████▌ | 2.03M/2.37M [00:04<00:00, 899kB/s]\rDNAL2020.dbc:  92%|█████████▏| 2.17M/2.37M [00:04<00:00, 904kB/s]\rDNAL2020.dbc:  97%|█████████▋| 2.30M/2.37M [00:04<00:00, 914kB/s]\rDNAL2020.dbc:   0%|          | 0.00/1.00 [00:00<?, ?B/s]         \rDNAL2020.dbf:   0%|          | 0.00/1.00 [00:00<?, ?B/s]\rDNAL2020.dbf:   0%|          | 0.00/54.2k [00:00<?, ?B/s]\rDNAL2020.parquet:   0%|          | 0.00/54.2k [00:00<?, ?B/s]\rDNAL2020.parquet: 100%|██████████| 54.2k/54.2k [00:02<00:00, 21.0kB/s]\n\r  0%|          | 0/1 [00:00<?, ?it/s]\r  0%|          | 0.00/9.16M [00:00<?, ?B/s]\rDNBA2020.dbc:   0%|          | 0.00/9.16M [00:00<?, ?B/s]\rDNBA2020.dbc:   0%|          | 1.45k/9.16M [00:01<2:01:48, 1.25kB/s]\rDNBA2020.dbc:   0%|          | 8.69k/9.16M [00:01<17:38, 8.65kB/s]  \rDNBA2020.dbc:   0%|          | 20.3k/9.16M [00:01<07:08, 21.3kB/s]\rDNBA2020.dbc:   0%|          | 42.0k/9.16M [00:01<03:12, 47.4kB/s]\rDNBA2020.dbc:   1%|          | 88.3k/9.16M [00:01<01:23, 108kB/s] \rDNBA2020.dbc:   1%|▏         | 123k/9.16M [00:01<01:04, 140kB/s] \rDNBA2020.dbc:   2%|▏         | 180k/9.16M [00:02<00:43, 204kB/s]\rDNBA2020.dbc:   3%|▎         | 264k/9.16M [00:02<00:29, 304kB/s]\rDNBA2020.dbc:   4%|▍         | 395k/9.16M [00:02<00:18, 469kB/s]\rDNBA2020.dbc:   6%|▌         | 526k/9.16M [00:02<00:14, 591kB/s]\rDNBA2020.dbc:   7%|▋         | 664k/9.16M [00:02<00:12, 692kB/s]\rDNBA2020.dbc:   9%|▊         | 794k/9.16M [00:02<00:11, 750kB/s]\rDNBA2020.dbc:  10%|█         | 919k/9.16M [00:02<00:10, 781kB/s]\rDNBA2020.dbc:  11%|█▏        | 1.05M/9.16M [00:03<00:09, 818kB/s]\rDNBA2020.dbc:  13%|█▎        | 1.18M/9.16M [00:03<00:09, 838kB/s]\rDNBA2020.dbc:  14%|█▍        | 1.32M/9.16M [00:03<00:09, 866kB/s]\rDNBA2020.dbc:  16%|█▌        | 1.45M/9.16M [00:03<00:08, 874kB/s]\rDNBA2020.dbc:  17%|█▋        | 1.57M/9.16M [00:03<00:08, 869kB/s]\rDNBA2020.dbc:  19%|█▊        | 1.71M/9.16M [00:03<00:08, 877kB/s]\rDNBA2020.dbc:  20%|██        | 1.84M/9.16M [00:03<00:08, 882kB/s]\rDNBA2020.dbc:  21%|██▏       | 1.97M/9.16M [00:04<00:08, 889kB/s]\rDNBA2020.dbc:  23%|██▎       | 2.10M/9.16M [00:04<00:07, 890kB/s]\rDNBA2020.dbc:  24%|██▍       | 2.23M/9.16M [00:04<00:07, 887kB/s]\rDNBA2020.dbc:  26%|██▌       | 2.36M/9.16M [00:04<00:07, 890kB/s]\rDNBA2020.dbc:  27%|██▋       | 2.50M/9.16M [00:04<00:07, 903kB/s]\rDNBA2020.dbc:  29%|██▊       | 2.62M/9.16M [00:04<00:07, 889kB/s]\rDNBA2020.dbc:  30%|███       | 2.76M/9.16M [00:04<00:07, 896kB/s]\rDNBA2020.dbc:  32%|███▏      | 2.89M/9.16M [00:05<00:07, 891kB/s]\rDNBA2020.dbc:  33%|███▎      | 3.02M/9.16M [00:05<00:06, 894kB/s]\rDNBA2020.dbc:  34%|███▍      | 3.15M/9.16M [00:05<00:06, 891kB/s]\rDNBA2020.dbc:  36%|███▌      | 3.28M/9.16M [00:05<00:06, 892kB/s]\rDNBA2020.dbc:  37%|███▋      | 3.42M/9.16M [00:05<00:06, 902kB/s]\rDNBA2020.dbc:  39%|███▊      | 3.54M/9.16M [00:05<00:06, 887kB/s]\rDNBA2020.dbc:  40%|████      | 3.67M/9.16M [00:05<00:06, 890kB/s]\rDNBA2020.dbc:  42%|████▏     | 3.80M/9.16M [00:06<00:05, 895kB/s]\rDNBA2020.dbc:  43%|████▎     | 3.94M/9.16M [00:06<00:05, 905kB/s]\rDNBA2020.dbc:  44%|████▍     | 4.06M/9.16M [00:06<00:05, 889kB/s]\rDNBA2020.dbc:  46%|████▌     | 4.20M/9.16M [00:06<00:05, 891kB/s]\rDNBA2020.dbc:  47%|████▋     | 4.33M/9.16M [00:06<00:05, 896kB/s]\rDNBA2020.dbc:  49%|████▊     | 4.46M/9.16M [00:06<00:05, 893kB/s]\rDNBA2020.dbc:  50%|█████     | 4.59M/9.16M [00:07<00:05, 902kB/s]\rDNBA2020.dbc:  52%|█████▏    | 4.72M/9.16M [00:07<00:04, 888kB/s]\rDNBA2020.dbc:  53%|█████▎    | 4.85M/9.16M [00:07<00:04, 894kB/s]\rDNBA2020.dbc:  54%|█████▍    | 4.98M/9.16M [00:07<00:04, 891kB/s]\rDNBA2020.dbc:  56%|█████▌    | 5.12M/9.16M [00:07<00:04, 907kB/s]\rDNBA2020.dbc:  57%|█████▋    | 5.24M/9.16M [00:07<00:04, 890kB/s]\rDNBA2020.dbc:  59%|█████▉    | 5.38M/9.16M [00:07<00:04, 903kB/s]\rDNBA2020.dbc:  60%|██████    | 5.51M/9.16M [00:08<00:04, 892kB/s]\rDNBA2020.dbc:  62%|██████▏   | 5.64M/9.16M [00:08<00:03, 890kB/s]\rDNBA2020.dbc:  63%|██████▎   | 5.77M/9.16M [00:08<00:03, 893kB/s]\rDNBA2020.dbc:  64%|██████▍   | 5.90M/9.16M [00:08<00:03, 893kB/s]\rDNBA2020.dbc:  66%|██████▌   | 6.03M/9.16M [00:08<00:03, 893kB/s]\rDNBA2020.dbc:  67%|██████▋   | 6.17M/9.16M [00:08<00:03, 905kB/s]\rDNBA2020.dbc:  69%|██████▊   | 6.29M/9.16M [00:08<00:03, 891kB/s]\rDNBA2020.dbc:  70%|███████   | 6.42M/9.16M [00:09<00:03, 893kB/s]\rDNBA2020.dbc:  72%|███████▏  | 6.56M/9.16M [00:09<00:02, 893kB/s]\rDNBA2020.dbc:  73%|███████▎  | 6.69M/9.16M [00:09<00:02, 895kB/s]\rDNBA2020.dbc:  74%|███████▍  | 6.82M/9.16M [00:09<00:02, 896kB/s]\rDNBA2020.dbc:  76%|███████▌  | 6.95M/9.16M [00:09<00:02, 897kB/s]\rDNBA2020.dbc:  77%|███████▋  | 7.08M/9.16M [00:09<00:02, 902kB/s]\rDNBA2020.dbc:  79%|███████▊  | 7.21M/9.16M [00:09<00:02, 894kB/s]\rDNBA2020.dbc:  80%|████████  | 7.34M/9.16M [00:10<00:02, 895kB/s]\rDNBA2020.dbc:  82%|████████▏ | 7.47M/9.16M [00:10<00:01, 898kB/s]\rDNBA2020.dbc:  83%|████████▎ | 7.60M/9.16M [00:10<00:01, 894kB/s]\rDNBA2020.dbc:  84%|████████▍ | 7.74M/9.16M [00:10<00:01, 897kB/s]\rDNBA2020.dbc:  86%|████████▌ | 7.87M/9.16M [00:10<00:01, 893kB/s]\rDNBA2020.dbc:  87%|████████▋ | 8.00M/9.16M [00:10<00:01, 900kB/s]\rDNBA2020.dbc:  89%|████████▉ | 8.13M/9.16M [00:10<00:01, 895kB/s]\rDNBA2020.dbc:  90%|█████████ | 8.26M/9.16M [00:11<00:01, 889kB/s]\rDNBA2020.dbc:  92%|█████████▏| 8.39M/9.16M [00:11<00:00, 897kB/s]\rDNBA2020.dbc:  93%|█████████▎| 8.52M/9.16M [00:11<00:00, 891kB/s]\rDNBA2020.dbc:  94%|█████████▍| 8.65M/9.16M [00:11<00:00, 893kB/s]\rDNBA2020.dbc:  96%|█████████▌| 8.78M/9.16M [00:11<00:00, 894kB/s]\rDNBA2020.dbc:  97%|█████████▋| 8.91M/9.16M [00:11<00:00, 894kB/s]\rDNBA2020.dbc:  99%|█████████▉| 9.05M/9.16M [00:11<00:00, 898kB/s]\rDNBA2020.dbc: 100%|██████████| 9.16M/9.16M [00:12<00:00, 857kB/s]\rDNBA2020.dbc:   0%|          | 0.00/1.00 [00:00<?, ?B/s]         \rDNBA2020.dbf:   0%|          | 0.00/1.00 [00:00<?, ?B/s]\rDNBA2020.dbf:   0%|          | 0.00/212k [00:00<?, ?B/s]\rDNBA2020.parquet:   0%|          | 0.00/212k [00:00<?, ?B/s]\rDNBA2020.parquet:  43%|████▎     | 90.0k/212k [00:03<00:05, 23.9kB/s]\rDNBA2020.parquet:  57%|█████▋    | 120k/212k [00:05<00:04, 20.4kB/s] \rDNBA2020.parquet:  71%|███████   | 150k/212k [00:07<00:03, 19.4kB/s]\rDNBA2020.parquet:  85%|████████▌ | 180k/212k [00:08<00:01, 19.4kB/s]\rDNBA2020.parquet:  99%|█████████▉| 210k/212k [00:10<00:00, 20.4kB/s]\rDNBA2020.parquet: 100%|██████████| 212k/212k [00:10<00:00, 19.9kB/s]\n\r  0%|          | 0/1 [00:00<?, ?it/s]\r  0%|          | 0.00/5.83M [00:00<?, ?B/s]\rDNCE2020.dbc:   0%|          | 0.00/5.83M [00:00<?, ?B/s]\rDNCE2020.dbc:   0%|          | 2.90k/5.83M [00:01<43:24, 2.24kB/s]\rDNCE2020.dbc:   0%|          | 7.24k/5.83M [00:01<15:58, 6.07kB/s]\rDNCE2020.dbc:   0%|          | 20.3k/5.83M [00:01<04:51, 19.9kB/s]\rDNCE2020.dbc:   1%|          | 42.0k/5.83M [00:01<02:09, 44.8kB/s]\rDNCE2020.dbc:   1%|▏         | 86.9k/5.83M [00:01<00:56, 102kB/s] \rDNCE2020.dbc:   2%|▏         | 143k/5.83M [00:02<00:33, 170kB/s] \rDNCE2020.dbc:   3%|▎         | 178k/5.83M [00:02<00:30, 187kB/s]\rDNCE2020.dbc:   4%|▍         | 227k/5.83M [00:02<00:24, 229kB/s]\rDNCE2020.dbc:   5%|▌         | 309k/5.83M [00:02<00:17, 322kB/s]\rDNCE2020.dbc:   7%|▋         | 395k/5.83M [00:02<00:13, 398kB/s]\rDNCE2020.dbc:   9%|▉         | 526k/5.83M [00:02<00:09, 544kB/s]\rDNCE2020.dbc:  11%|█▏        | 658k/5.83M [00:02<00:07, 652kB/s]\rDNCE2020.dbc:  14%|█▎        | 788k/5.83M [00:03<00:06, 724kB/s]\rDNCE2020.dbc:  16%|█▌        | 919k/5.83M [00:03<00:06, 778kB/s]\rDNCE2020.dbc:  18%|█▊        | 1.05M/5.83M [00:03<00:05, 815kB/s]\rDNCE2020.dbc:  20%|██        | 1.18M/5.83M [00:03<00:05, 843kB/s]\rDNCE2020.dbc:  23%|██▎       | 1.31M/5.83M [00:03<00:05, 863kB/s]\rDNCE2020.dbc:  25%|██▍       | 1.44M/5.83M [00:03<00:05, 876kB/s]\rDNCE2020.dbc:  27%|██▋       | 1.57M/5.83M [00:03<00:04, 885kB/s]\rDNCE2020.dbc:  29%|██▉       | 1.71M/5.83M [00:04<00:04, 890kB/s]\rDNCE2020.dbc:  32%|███▏      | 1.84M/5.83M [00:04<00:04, 894kB/s]\rDNCE2020.dbc:  34%|███▍      | 1.97M/5.83M [00:04<00:04, 898kB/s]\rDNCE2020.dbc:  36%|███▌      | 2.10M/5.83M [00:04<00:04, 901kB/s]\rDNCE2020.dbc:  38%|███▊      | 2.23M/5.83M [00:04<00:03, 906kB/s]\rDNCE2020.dbc:  41%|████      | 2.36M/5.83M [00:04<00:03, 903kB/s]\rDNCE2020.dbc:  43%|████▎     | 2.49M/5.83M [00:04<00:03, 905kB/s]\rDNCE2020.dbc:  45%|████▌     | 2.63M/5.83M [00:05<00:03, 918kB/s]\rDNCE2020.dbc:  47%|████▋     | 2.75M/5.83M [00:05<00:03, 900kB/s]\rDNCE2020.dbc:  50%|████▉     | 2.89M/5.83M [00:05<00:03, 902kB/s]\rDNCE2020.dbc:  52%|█████▏    | 3.02M/5.83M [00:05<00:03, 904kB/s]\rDNCE2020.dbc:  54%|█████▍    | 3.15M/5.83M [00:05<00:02, 901kB/s]\rDNCE2020.dbc:  56%|█████▋    | 3.28M/5.83M [00:05<00:02, 904kB/s]\rDNCE2020.dbc:  59%|█████▊    | 3.41M/5.83M [00:05<00:02, 904kB/s]\rDNCE2020.dbc:  61%|██████    | 3.54M/5.83M [00:06<00:02, 901kB/s]\rDNCE2020.dbc:  63%|██████▎   | 3.67M/5.83M [00:06<00:02, 902kB/s]\rDNCE2020.dbc:  65%|██████▌   | 3.81M/5.83M [00:06<00:02, 909kB/s]\rDNCE2020.dbc:  68%|██████▊   | 3.93M/5.83M [00:06<00:02, 903kB/s]\rDNCE2020.dbc:  70%|██████▉   | 4.06M/5.83M [00:06<00:01, 904kB/s]\rDNCE2020.dbc:  72%|███████▏  | 4.20M/5.83M [00:06<00:01, 905kB/s]\rDNCE2020.dbc:  74%|███████▍  | 4.33M/5.83M [00:06<00:01, 906kB/s]\rDNCE2020.dbc:  77%|███████▋  | 4.46M/5.83M [00:07<00:01, 906kB/s]\rDNCE2020.dbc:  79%|███████▉  | 4.59M/5.83M [00:07<00:01, 906kB/s]\rDNCE2020.dbc:  81%|████████  | 4.73M/5.83M [00:07<00:01, 918kB/s]\rDNCE2020.dbc:  83%|████████▎ | 4.85M/5.83M [00:07<00:01, 899kB/s]\rDNCE2020.dbc:  85%|████████▌ | 4.98M/5.83M [00:07<00:00, 902kB/s]\rDNCE2020.dbc:  88%|████████▊ | 5.11M/5.83M [00:07<00:00, 904kB/s]\rDNCE2020.dbc:  90%|█████████ | 5.25M/5.83M [00:07<00:00, 918kB/s]\rDNCE2020.dbc:  92%|█████████▏| 5.38M/5.83M [00:08<00:00, 912kB/s]\rDNCE2020.dbc:  94%|█████████▍| 5.51M/5.83M [00:08<00:00, 897kB/s]\rDNCE2020.dbc:  97%|█████████▋| 5.64M/5.83M [00:08<00:00, 902kB/s]\rDNCE2020.dbc:  99%|█████████▉| 5.77M/5.83M [00:08<00:00, 900kB/s]\rDNCE2020.dbc:   0%|          | 0.00/1.00 [00:00<?, ?B/s]         \rDNCE2020.dbf:   0%|          | 0.00/1.00 [00:00<?, ?B/s]\rDNCE2020.dbf:   0%|          | 0.00/137k [00:00<?, ?B/s]\rDNCE2020.parquet:   0%|          | 0.00/137k [00:00<?, ?B/s]\rDNCE2020.parquet:  88%|████████▊ | 120k/137k [00:05<00:00, 23.1kB/s]\rDNCE2020.parquet: : 150kB [00:06, 23.8kB/s]                         \rDNCE2020.parquet: 100%|██████████| 137k/137k [00:06<00:00, 20.8kB/s]\n\r  0%|          | 0/1 [00:00<?, ?it/s]\r  0%|          | 0.00/4.93M [00:00<?, ?B/s]\rDNMA2020.dbc:   0%|          | 0.00/4.93M [00:00<?, ?B/s]\rDNMA2020.dbc:   0%|          | 2.90k/4.93M [00:01<36:45, 2.23kB/s]\rDNMA2020.dbc:   0%|          | 7.24k/4.93M [00:01<13:31, 6.06kB/s]\rDNMA2020.dbc:   0%|          | 20.3k/4.93M [00:01<04:06, 19.9kB/s]\rDNMA2020.dbc:   1%|          | 43.4k/4.93M [00:01<01:44, 46.7kB/s]\rDNMA2020.dbc:   2%|▏         | 86.9k/4.93M [00:01<00:47, 101kB/s] \rDNMA2020.dbc:   3%|▎         | 143k/4.93M [00:02<00:28, 169kB/s] \rDNMA2020.dbc:   4%|▍         | 200k/4.93M [00:02<00:20, 225kB/s]\rDNMA2020.dbc:   5%|▌         | 256k/4.93M [00:02<00:17, 270kB/s]\rDNMA2020.dbc:   7%|▋         | 329k/4.93M [00:02<00:13, 334kB/s]\rDNMA2020.dbc:   9%|▉         | 462k/4.93M [00:02<00:08, 498kB/s]\rDNMA2020.dbc:  12%|█▏        | 591k/4.93M [00:02<00:07, 613kB/s]\rDNMA2020.dbc:  15%|█▍        | 724k/4.93M [00:02<00:05, 702kB/s]\rDNMA2020.dbc:  17%|█▋        | 853k/4.93M [00:03<00:05, 759kB/s]\rDNMA2020.dbc:  20%|██        | 991k/4.93M [00:03<00:04, 817kB/s]\rDNMA2020.dbc:  23%|██▎       | 1.12M/4.93M [00:03<00:04, 842kB/s]\rDNMA2020.dbc:  25%|██▌       | 1.25M/4.93M [00:03<00:04, 850kB/s]\rDNMA2020.dbc:  28%|██▊       | 1.38M/4.93M [00:03<00:04, 869kB/s]\rDNMA2020.dbc:  31%|███       | 1.52M/4.93M [00:03<00:03, 893kB/s]\rDNMA2020.dbc:  33%|███▎      | 1.64M/4.93M [00:03<00:03, 881kB/s]\rDNMA2020.dbc:  36%|███▌      | 1.77M/4.93M [00:04<00:03, 889kB/s]\rDNMA2020.dbc:  39%|███▊      | 1.90M/4.93M [00:04<00:03, 897kB/s]\rDNMA2020.dbc:  41%|████▏     | 2.03M/4.93M [00:04<00:03, 901kB/s]\rDNMA2020.dbc:  44%|████▍     | 2.17M/4.93M [00:04<00:03, 902kB/s]\rDNMA2020.dbc:  47%|████▋     | 2.30M/4.93M [00:04<00:02, 905kB/s]\rDNMA2020.dbc:  49%|████▉     | 2.43M/4.93M [00:04<00:02, 904kB/s]\rDNMA2020.dbc:  52%|█████▏    | 2.56M/4.93M [00:04<00:02, 912kB/s]\rDNMA2020.dbc:  55%|█████▍    | 2.69M/4.93M [00:05<00:02, 901kB/s]\rDNMA2020.dbc:  57%|█████▋    | 2.83M/4.93M [00:05<00:02, 918kB/s]\rDNMA2020.dbc:  60%|█████▉    | 2.95M/4.93M [00:05<00:02, 904kB/s]\rDNMA2020.dbc:  63%|██████▎   | 3.08M/4.93M [00:05<00:02, 906kB/s]\rDNMA2020.dbc:  65%|██████▌   | 3.21M/4.93M [00:05<00:01, 904kB/s]\rDNMA2020.dbc:  68%|██████▊   | 3.35M/4.93M [00:05<00:01, 918kB/s]\rDNMA2020.dbc:  71%|███████   | 3.48M/4.93M [00:05<00:01, 905kB/s]\rDNMA2020.dbc:  73%|███████▎  | 3.61M/4.93M [00:06<00:01, 904kB/s]\rDNMA2020.dbc:  76%|███████▌  | 3.74M/4.93M [00:06<00:01, 905kB/s]\rDNMA2020.dbc:  79%|███████▊  | 3.87M/4.93M [00:06<00:01, 906kB/s]\rDNMA2020.dbc:  81%|████████  | 4.00M/4.93M [00:06<00:01, 907kB/s]\rDNMA2020.dbc:  84%|████████▍ | 4.13M/4.93M [00:06<00:00, 911kB/s]\rDNMA2020.dbc:  87%|████████▋ | 4.26M/4.93M [00:06<00:00, 909kB/s]\rDNMA2020.dbc:  89%|████████▉ | 4.40M/4.93M [00:06<00:00, 919kB/s]\rDNMA2020.dbc:  92%|█████████▏| 4.53M/4.93M [00:07<00:00, 908kB/s]\rDNMA2020.dbc:  94%|█████████▍| 4.65M/4.93M [00:07<00:00, 902kB/s]\rDNMA2020.dbc:  97%|█████████▋| 4.79M/4.93M [00:07<00:00, 916kB/s]\rDNMA2020.dbc: 100%|█████████▉| 4.92M/4.93M [00:07<00:00, 905kB/s]\rDNMA2020.dbc:   0%|          | 0.00/1.00 [00:00<?, ?B/s]         \rDNMA2020.dbf:   0%|          | 0.00/1.00 [00:00<?, ?B/s]\rDNMA2020.dbf:   0%|          | 0.00/119k [00:00<?, ?B/s]\rDNMA2020.parquet:   0%|          | 0.00/119k [00:00<?, ?B/s]\rDNMA2020.parquet: : 120kB [00:08, 14.6kB/s]                 \rDNMA2020.parquet: 100%|██████████| 119k/119k [00:09<00:00, 13.1kB/s]\n\r  0%|          | 0/1 [00:00<?, ?it/s]\r  0%|          | 0.00/2.67M [00:00<?, ?B/s]\rDNPB2020.dbc:   0%|          | 0.00/2.67M [00:00<?, ?B/s]\rDNPB2020.dbc:   0%|          | 1.45k/2.67M [00:01<43:13, 1.03kB/s]\rDNPB2020.dbc:   0%|          | 7.24k/2.67M [00:01<07:21, 6.04kB/s]\rDNPB2020.dbc:   1%|          | 18.8k/2.67M [00:01<02:31, 17.6kB/s]\rDNPB2020.dbc:   2%|▏         | 42.0k/2.67M [00:01<01:00, 43.6kB/s]\rDNPB2020.dbc:   3%|▎         | 84.0k/2.67M [00:01<00:27, 94.6kB/s]\rDNPB2020.dbc:   6%|▌         | 147k/2.67M [00:02<00:14, 173kB/s]  \rDNPB2020.dbc:   8%|▊         | 211k/2.67M [00:02<00:10, 240kB/s]\rDNPB2020.dbc:  12%|█▏        | 328k/2.67M [00:02<00:06, 388kB/s]\rDNPB2020.dbc:  15%|█▍        | 395k/2.67M [00:02<00:05, 410kB/s]\rDNPB2020.dbc:  20%|█▉        | 532k/2.67M [00:02<00:03, 561kB/s]\rDNPB2020.dbc:  25%|██▍       | 658k/2.67M [00:02<00:03, 651kB/s]\rDNPB2020.dbc:  29%|██▉       | 788k/2.67M [00:02<00:02, 723kB/s]\rDNPB2020.dbc:  34%|███▍      | 919k/2.67M [00:03<00:02, 777kB/s]\rDNPB2020.dbc:  39%|███▉      | 1.05M/2.67M [00:03<00:01, 819kB/s]\rDNPB2020.dbc:  44%|████▍     | 1.18M/2.67M [00:03<00:01, 843kB/s]\rDNPB2020.dbc:  49%|████▉     | 1.31M/2.67M [00:03<00:01, 863kB/s]\rDNPB2020.dbc:  54%|█████▍    | 1.44M/2.67M [00:03<00:01, 878kB/s]\rDNPB2020.dbc:  59%|█████▉    | 1.57M/2.67M [00:03<00:01, 888kB/s]\rDNPB2020.dbc:  64%|██████▍   | 1.71M/2.67M [00:03<00:01, 905kB/s]\rDNPB2020.dbc:  69%|██████▊   | 1.84M/2.67M [00:04<00:00, 897kB/s]\rDNPB2020.dbc:  74%|███████▎  | 1.97M/2.67M [00:04<00:00, 897kB/s]\rDNPB2020.dbc:  79%|███████▊  | 2.10M/2.67M [00:04<00:00, 904kB/s]\rDNPB2020.dbc:  83%|████████▎ | 2.23M/2.67M [00:04<00:00, 902kB/s]\rDNPB2020.dbc:  88%|████████▊ | 2.36M/2.67M [00:04<00:00, 904kB/s]\rDNPB2020.dbc:  93%|█████████▎| 2.49M/2.67M [00:04<00:00, 906kB/s]\rDNPB2020.dbc:  98%|█████████▊| 2.62M/2.67M [00:05<00:00, 907kB/s]\rDNPB2020.dbc:   0%|          | 0.00/1.00 [00:00<?, ?B/s]         \rDNPB2020.dbf:   0%|          | 0.00/1.00 [00:00<?, ?B/s]\rDNPB2020.dbf:   0%|          | 0.00/63.2k [00:00<?, ?B/s]\rDNPB2020.parquet:   0%|          | 0.00/63.2k [00:00<?, ?B/s]\rDNPB2020.parquet: 100%|██████████| 63.2k/63.2k [00:02<00:00, 21.7kB/s]\n\r  0%|          | 0/1 [00:00<?, ?it/s]\r  0%|          | 0.00/6.45M [00:00<?, ?B/s]\rDNPE2020.dbc:   0%|          | 0.00/6.45M [00:00<?, ?B/s]\rDNPE2020.dbc:   0%|          | 1.45k/6.45M [00:01<1:25:46, 1.25kB/s]\rDNPE2020.dbc:   0%|          | 8.69k/6.45M [00:01<12:24, 8.64kB/s]  \rDNPE2020.dbc:   0%|          | 18.8k/6.45M [00:01<05:28, 19.6kB/s]\rDNPE2020.dbc:   1%|          | 42.0k/6.45M [00:01<02:13, 48.0kB/s]\rDNPE2020.dbc:   1%|▏         | 86.9k/6.45M [00:01<00:59, 107kB/s] \rDNPE2020.dbc:   2%|▏         | 142k/6.45M [00:01<00:36, 173kB/s] \rDNPE2020.dbc:   4%|▍         | 255k/6.45M [00:02<00:18, 328kB/s]\rDNPE2020.dbc:   5%|▌         | 329k/6.45M [00:02<00:16, 377kB/s]\rDNPE2020.dbc:   7%|▋         | 462k/6.45M [00:02<00:11, 525kB/s]\rDNPE2020.dbc:   9%|▉         | 591k/6.45M [00:02<00:09, 628kB/s]\rDNPE2020.dbc:  11%|█         | 722k/6.45M [00:02<00:08, 706kB/s]\rDNPE2020.dbc:  13%|█▎        | 855k/6.45M [00:02<00:07, 764kB/s]\rDNPE2020.dbc:  15%|█▌        | 986k/6.45M [00:02<00:06, 802kB/s]\rDNPE2020.dbc:  17%|█▋        | 1.12M/6.45M [00:03<00:06, 830kB/s]\rDNPE2020.dbc:  19%|█▉        | 1.25M/6.45M [00:03<00:06, 849kB/s]\rDNPE2020.dbc:  21%|██▏       | 1.38M/6.45M [00:03<00:05, 850kB/s]\rDNPE2020.dbc:  23%|██▎       | 1.51M/6.45M [00:03<00:05, 860kB/s]\rDNPE2020.dbc:  25%|██▌       | 1.64M/6.45M [00:03<00:05, 861kB/s]\rDNPE2020.dbc:  27%|██▋       | 1.77M/6.45M [00:03<00:05, 870kB/s]\rDNPE2020.dbc:  30%|██▉       | 1.90M/6.45M [00:03<00:05, 877kB/s]\rDNPE2020.dbc:  32%|███▏      | 2.03M/6.45M [00:04<00:05, 882kB/s]\rDNPE2020.dbc:  34%|███▎      | 2.17M/6.45M [00:04<00:04, 889kB/s]\rDNPE2020.dbc:  36%|███▌      | 2.30M/6.45M [00:04<00:04, 889kB/s]\rDNPE2020.dbc:  38%|███▊      | 2.43M/6.45M [00:04<00:04, 888kB/s]\rDNPE2020.dbc:  40%|███▉      | 2.56M/6.45M [00:04<00:04, 892kB/s]\rDNPE2020.dbc:  42%|████▏     | 2.69M/6.45M [00:04<00:04, 892kB/s]\rDNPE2020.dbc:  44%|████▎     | 2.82M/6.45M [00:04<00:04, 890kB/s]\rDNPE2020.dbc:  46%|████▌     | 2.95M/6.45M [00:05<00:03, 892kB/s]\rDNPE2020.dbc:  48%|████▊     | 3.08M/6.45M [00:05<00:03, 894kB/s]\rDNPE2020.dbc:  50%|████▉     | 3.21M/6.45M [00:05<00:03, 894kB/s]\rDNPE2020.dbc:  52%|█████▏    | 3.34M/6.45M [00:05<00:03, 895kB/s]\rDNPE2020.dbc:  54%|█████▍    | 3.47M/6.45M [00:05<00:03, 895kB/s]\rDNPE2020.dbc:  56%|█████▌    | 3.61M/6.45M [00:05<00:03, 898kB/s]\rDNPE2020.dbc:  58%|█████▊    | 3.74M/6.45M [00:05<00:02, 902kB/s]\rDNPE2020.dbc:  60%|██████    | 3.87M/6.45M [00:06<00:02, 891kB/s]\rDNPE2020.dbc:  62%|██████▏   | 4.00M/6.45M [00:06<00:02, 893kB/s]\rDNPE2020.dbc:  64%|██████▍   | 4.13M/6.45M [00:06<00:02, 893kB/s]\rDNPE2020.dbc:  66%|██████▌   | 4.26M/6.45M [00:06<00:02, 894kB/s]\rDNPE2020.dbc:  68%|██████▊   | 4.39M/6.45M [00:06<00:02, 894kB/s]\rDNPE2020.dbc:  70%|███████   | 4.52M/6.45M [00:06<00:02, 895kB/s]\rDNPE2020.dbc:  72%|███████▏  | 4.66M/6.45M [00:07<00:01, 909kB/s]\rDNPE2020.dbc:  74%|███████▍  | 4.79M/6.45M [00:07<00:01, 892kB/s]\rDNPE2020.dbc:  76%|███████▋  | 4.92M/6.45M [00:07<00:01, 892kB/s]\rDNPE2020.dbc:  78%|███████▊  | 5.05M/6.45M [00:07<00:01, 896kB/s]\rDNPE2020.dbc:  80%|████████  | 5.18M/6.45M [00:07<00:01, 895kB/s]\rDNPE2020.dbc:  82%|████████▏ | 5.31M/6.45M [00:07<00:01, 893kB/s]\rDNPE2020.dbc:  84%|████████▍ | 5.44M/6.45M [00:07<00:01, 895kB/s]\rDNPE2020.dbc:  87%|████████▋ | 5.58M/6.45M [00:08<00:00, 906kB/s]\rDNPE2020.dbc:  88%|████████▊ | 5.70M/6.45M [00:08<00:00, 891kB/s]\rDNPE2020.dbc:  91%|█████████ | 5.84M/6.45M [00:08<00:00, 896kB/s]\rDNPE2020.dbc:  93%|█████████▎| 5.97M/6.45M [00:08<00:00, 893kB/s]\rDNPE2020.dbc:  95%|█████████▍| 6.10M/6.45M [00:08<00:00, 894kB/s]\rDNPE2020.dbc:  97%|█████████▋| 6.23M/6.45M [00:08<00:00, 908kB/s]\rDNPE2020.dbc:  99%|█████████▉| 6.37M/6.45M [00:08<00:00, 901kB/s]\rDNPE2020.dbc:   0%|          | 0.00/1.00 [00:00<?, ?B/s]         \rDNPE2020.dbf:   0%|          | 0.00/1.00 [00:00<?, ?B/s]\rDNPE2020.dbf:   0%|          | 0.00/144k [00:00<?, ?B/s]\rDNPE2020.parquet:   0%|          | 0.00/144k [00:00<?, ?B/s]\rDNPE2020.parquet:  83%|████████▎ | 120k/144k [00:05<00:01, 21.9kB/s]\rDNPE2020.parquet: : 150kB [00:06, 22.5kB/s]                         \rDNPE2020.parquet: 100%|██████████| 144k/144k [00:07<00:00, 20.2kB/s]\n\r  0%|          | 0/1 [00:00<?, ?it/s]\r  0%|          | 0.00/2.18M [00:00<?, ?B/s]\rDNPI2020.dbc:   0%|          | 0.00/2.18M [00:00<?, ?B/s]\rDNPI2020.dbc:   0%|          | 1.45k/2.18M [00:01<33:04, 1.10kB/s]\rDNPI2020.dbc:   0%|          | 7.24k/2.18M [00:01<05:41, 6.38kB/s]\rDNPI2020.dbc:   1%|          | 18.8k/2.18M [00:01<01:58, 18.3kB/s]\rDNPI2020.dbc:   2%|▏         | 43.4k/2.18M [00:01<00:45, 46.8kB/s]\rDNPI2020.dbc:   4%|▍         | 89.8k/2.18M [00:01<00:20, 105kB/s] \rDNPI2020.dbc:   7%|▋         | 145k/2.18M [00:02<00:12, 169kB/s] \rDNPI2020.dbc:   9%|▉         | 203k/2.18M [00:02<00:08, 226kB/s]\rDNPI2020.dbc:  14%|█▍        | 304k/2.18M [00:02<00:05, 350kB/s]\rDNPI2020.dbc:  18%|█▊        | 395k/2.18M [00:02<00:04, 424kB/s]\rDNPI2020.dbc:  24%|██▍       | 532k/2.18M [00:02<00:02, 569kB/s]\rDNPI2020.dbc:  30%|███       | 658k/2.18M [00:02<00:02, 652kB/s]\rDNPI2020.dbc:  36%|███▌      | 788k/2.18M [00:02<00:01, 718kB/s]\rDNPI2020.dbc:  42%|████▏     | 920k/2.18M [00:03<00:01, 771kB/s]\rDNPI2020.dbc:  48%|████▊     | 1.05M/2.18M [00:03<00:01, 804kB/s]\rDNPI2020.dbc:  54%|█████▍    | 1.18M/2.18M [00:03<00:01, 832kB/s]\rDNPI2020.dbc:  60%|██████    | 1.31M/2.18M [00:03<00:01, 854kB/s]\rDNPI2020.dbc:  66%|██████▌   | 1.44M/2.18M [00:03<00:00, 863kB/s]\rDNPI2020.dbc:  72%|███████▏  | 1.57M/2.18M [00:03<00:00, 874kB/s]\rDNPI2020.dbc:  78%|███████▊  | 1.71M/2.18M [00:03<00:00, 883kB/s]\rDNPI2020.dbc:  84%|████████▍ | 1.84M/2.18M [00:04<00:00, 884kB/s]\rDNPI2020.dbc:  90%|█████████ | 1.97M/2.18M [00:04<00:00, 889kB/s]\rDNPI2020.dbc:  96%|█████████▌| 2.10M/2.18M [00:04<00:00, 890kB/s]\rDNPI2020.dbc:   0%|          | 0.00/1.00 [00:00<?, ?B/s]         \rDNPI2020.dbf:   0%|          | 0.00/1.00 [00:00<?, ?B/s]\rDNPI2020.dbf:   0%|          | 0.00/50.7k [00:00<?, ?B/s]\rDNPI2020.parquet:   0%|          | 0.00/50.7k [00:00<?, ?B/s]\rDNPI2020.parquet: 100%|██████████| 50.7k/50.7k [00:02<00:00, 20.1kB/s]\n\r  0%|          | 0/1 [00:00<?, ?it/s]\r  0%|          | 0.00/2.14M [00:00<?, ?B/s]\rDNRN2020.dbc:   0%|          | 0.00/2.14M [00:00<?, ?B/s]\rDNRN2020.dbc:   0%|          | 2.90k/2.14M [00:01<14:29, 2.46kB/s]\rDNRN2020.dbc:   0%|          | 7.24k/2.14M [00:01<05:24, 6.56kB/s]\rDNRN2020.dbc:   1%|          | 18.8k/2.14M [00:01<01:49, 19.4kB/s]\rDNRN2020.dbc:   2%|▏         | 43.4k/2.14M [00:01<00:42, 49.6kB/s]\rDNRN2020.dbc:   4%|▍         | 86.9k/2.14M [00:01<00:19, 105kB/s] \rDNRN2020.dbc:   7%|▋         | 148k/2.14M [00:01<00:11, 181kB/s] \rDNRN2020.dbc:  10%|█         | 217k/2.14M [00:02<00:07, 257kB/s]\rDNRN2020.dbc:  15%|█▌        | 329k/2.14M [00:02<00:04, 394kB/s]\rDNRN2020.dbc:  19%|█▉        | 401k/2.14M [00:02<00:04, 420kB/s]\rDNRN2020.dbc:  23%|██▎       | 483k/2.14M [00:02<00:03, 461kB/s]\rDNRN2020.dbc:  25%|██▍       | 534k/2.14M [00:02<00:03, 428kB/s]\rDNRN2020.dbc:  27%|██▋       | 580k/2.14M [00:02<00:03, 396kB/s]\rDNRN2020.dbc:  29%|██▉       | 623k/2.14M [00:02<00:04, 368kB/s]\rDNRN2020.dbc:  31%|███       | 663k/2.14M [00:03<00:04, 339kB/s]\rDNRN2020.dbc:  33%|███▎      | 710k/2.14M [00:03<00:04, 336kB/s]\rDNRN2020.dbc:  36%|███▌      | 760k/2.14M [00:03<00:04, 337kB/s]\rDNRN2020.dbc:  38%|███▊      | 810k/2.14M [00:03<00:03, 341kB/s]\rDNRN2020.dbc:  40%|████      | 861k/2.14M [00:03<00:03, 343kB/s]\rDNRN2020.dbc:  43%|████▎     | 914k/2.14M [00:03<00:03, 351kB/s]\rDNRN2020.dbc:  45%|████▌     | 968k/2.14M [00:03<00:03, 356kB/s]\rDNRN2020.dbc:  48%|████▊     | 1.02M/2.14M [00:04<00:03, 363kB/s]\rDNRN2020.dbc:  50%|█████     | 1.08M/2.14M [00:04<00:02, 374kB/s]\rDNRN2020.dbc:  53%|█████▎    | 1.14M/2.14M [00:04<00:02, 381kB/s]\rDNRN2020.dbc:  56%|█████▌    | 1.20M/2.14M [00:04<00:02, 390kB/s]\rDNRN2020.dbc:  59%|█████▉    | 1.26M/2.14M [00:04<00:02, 404kB/s]\rDNRN2020.dbc:  62%|██████▏   | 1.32M/2.14M [00:04<00:01, 422kB/s]\rDNRN2020.dbc:  65%|██████▌   | 1.39M/2.14M [00:04<00:01, 426kB/s]\rDNRN2020.dbc:  68%|██████▊   | 1.46M/2.14M [00:05<00:01, 442kB/s]\rDNRN2020.dbc:  72%|███████▏  | 1.53M/2.14M [00:05<00:01, 456kB/s]\rDNRN2020.dbc:  75%|███████▌  | 1.61M/2.14M [00:05<00:01, 469kB/s]\rDNRN2020.dbc:  79%|███████▊  | 1.68M/2.14M [00:05<00:00, 483kB/s]\rDNRN2020.dbc:  82%|████████▏ | 1.76M/2.14M [00:05<00:00, 498kB/s]\rDNRN2020.dbc:  86%|████████▌ | 1.84M/2.14M [00:05<00:00, 510kB/s]\rDNRN2020.dbc:  90%|████████▉ | 1.92M/2.14M [00:05<00:00, 525kB/s]\rDNRN2020.dbc:  94%|█████████▎| 2.00M/2.14M [00:06<00:00, 535kB/s]\rDNRN2020.dbc:  97%|█████████▋| 2.08M/2.14M [00:06<00:00, 560kB/s]\rDNRN2020.dbc:   0%|          | 0.00/1.00 [00:00<?, ?B/s]         \rDNRN2020.dbf:   0%|          | 0.00/1.00 [00:00<?, ?B/s]\rDNRN2020.dbf:   0%|          | 0.00/48.8k [00:00<?, ?B/s]\rDNRN2020.parquet:   0%|          | 0.00/48.8k [00:00<?, ?B/s]\rDNRN2020.parquet: : 60.0kB [00:01, 34.0kB/s]                 \rDNRN2020.parquet: 100%|██████████| 48.8k/48.8k [00:02<00:00, 21.0kB/s]\n\r  0%|          | 0/1 [00:00<?, ?it/s]\r  0%|          | 0.00/1.51M [00:00<?, ?B/s]\rDNSE2020.dbc:   0%|          | 0.00/1.51M [00:00<?, ?B/s]\rDNSE2020.dbc:   0%|          | 5.79k/1.51M [00:01<05:40, 4.43kB/s]\rDNSE2020.dbc:   1%|          | 8.69k/1.51M [00:01<03:48, 6.57kB/s]\rDNSE2020.dbc:   1%|          | 18.8k/1.51M [00:01<01:27, 17.0kB/s]\rDNSE2020.dbc:   3%|▎         | 42.0k/1.51M [00:01<00:33, 44.2kB/s]\rDNSE2020.dbc:   6%|▌         | 84.0k/1.51M [00:01<00:14, 97.0kB/s]\rDNSE2020.dbc:   8%|▊         | 122k/1.51M [00:02<00:10, 136kB/s]  \rDNSE2020.dbc:  12%|█▏        | 180k/1.51M [00:02<00:06, 202kB/s]\rDNSE2020.dbc:  17%|█▋        | 264k/1.51M [00:02<00:04, 303kB/s]\rDNSE2020.dbc:  26%|██▌       | 395k/1.51M [00:02<00:02, 469kB/s]\rDNSE2020.dbc:  35%|███▌      | 532k/1.51M [00:02<00:01, 603kB/s]\rDNSE2020.dbc:  43%|████▎     | 657k/1.51M [00:02<00:01, 679kB/s]\rDNSE2020.dbc:  52%|█████▏    | 788k/1.51M [00:02<00:00, 745kB/s]\rDNSE2020.dbc:  61%|██████    | 919k/1.51M [00:03<00:00, 794kB/s]\rDNSE2020.dbc:  69%|██████▉   | 1.05M/1.51M [00:03<00:00, 829kB/s]\rDNSE2020.dbc:  78%|███████▊  | 1.18M/1.51M [00:03<00:00, 853kB/s]\rDNSE2020.dbc:  87%|████████▋ | 1.32M/1.51M [00:03<00:00, 883kB/s]\rDNSE2020.dbc:  96%|█████████▌| 1.44M/1.51M [00:03<00:00, 882kB/s]\rDNSE2020.dbc:   0%|          | 0.00/1.00 [00:00<?, ?B/s]         \rDNSE2020.dbf:   0%|          | 0.00/1.00 [00:00<?, ?B/s]\rDNSE2020.dbf:   0%|          | 0.00/35.6k [00:00<?, ?B/s]\rDNSE2020.parquet:   0%|          | 0.00/35.6k [00:00<?, ?B/s]\rDNSE2020.parquet: 100%|██████████| 35.6k/35.6k [00:01<00:00, 20.4kB/s]\n"
     ]
    },
    {
     "output_type": "stream",
     "name": "stdout",
     "output_type": "stream",
     "text": [
      "✅ Spark dataframe created and saved: nordeste_2020 (770688 records)\n"
     ]
    },
    {
     "output_type": "stream",
     "name": "stderr",
     "output_type": "stream",
     "text": [
      "\r  0%|          | 0/1 [00:00<?, ?it/s]\r  0%|          | 0.00/2.02M [00:00<?, ?B/s]\rDNDF2020.dbc:   0%|          | 0.00/2.02M [00:00<?, ?B/s]\rDNDF2020.dbc:   0%|          | 1.45k/2.02M [00:01<30:52, 1.09kB/s]\rDNDF2020.dbc:   0%|          | 7.24k/2.02M [00:01<05:18, 6.32kB/s]\rDNDF2020.dbc:   1%|▏         | 25.6k/2.02M [00:01<01:17, 25.6kB/s]\rDNDF2020.dbc:   2%|▏         | 43.4k/2.02M [00:01<00:44, 44.0kB/s]\rDNDF2020.dbc:   4%|▍         | 88.3k/2.02M [00:01<00:19, 100kB/s] \rDNDF2020.dbc:   7%|▋         | 140k/2.02M [00:02<00:11, 160kB/s] \rDNDF2020.dbc:  13%|█▎        | 260k/2.02M [00:02<00:05, 325kB/s]\rDNDF2020.dbc:  16%|█▋        | 332k/2.02M [00:02<00:04, 369kB/s]\rDNDF2020.dbc:  23%|██▎       | 460k/2.02M [00:02<00:03, 508kB/s]\rDNDF2020.dbc:  29%|██▉       | 591k/2.02M [00:02<00:02, 615kB/s]\rDNDF2020.dbc:  36%|███▌      | 724k/2.02M [00:02<00:01, 696kB/s]\rDNDF2020.dbc:  43%|████▎     | 860k/2.02M [00:02<00:01, 761kB/s]\rDNDF2020.dbc:  49%|████▉     | 986k/2.02M [00:03<00:01, 790kB/s]\rDNDF2020.dbc:  55%|█████▌    | 1.12M/2.02M [00:03<00:01, 821kB/s]\rDNDF2020.dbc:  62%|██████▏   | 1.25M/2.02M [00:03<00:00, 840kB/s]\rDNDF2020.dbc:  69%|██████▊   | 1.38M/2.02M [00:03<00:00, 869kB/s]\rDNDF2020.dbc:  75%|███████▍  | 1.51M/2.02M [00:03<00:00, 866kB/s]\rDNDF2020.dbc:  81%|████████▏ | 1.64M/2.02M [00:03<00:00, 874kB/s]\rDNDF2020.dbc:  88%|████████▊ | 1.78M/2.02M [00:03<00:00, 891kB/s]\rDNDF2020.dbc:  94%|█████████▍| 1.90M/2.02M [00:04<00:00, 882kB/s]\rDNDF2020.dbc: 100%|██████████| 2.02M/2.02M [00:04<00:00, 841kB/s]\rDNDF2020.dbc:   0%|          | 0.00/1.00 [00:00<?, ?B/s]         \rDNDF2020.dbf:   0%|          | 0.00/1.00 [00:00<?, ?B/s]\rDNDF2020.dbf:   0%|          | 0.00/44.1k [00:00<?, ?B/s]\rDNDF2020.parquet:   0%|          | 0.00/44.1k [00:00<?, ?B/s]\rDNDF2020.parquet: 100%|██████████| 44.1k/44.1k [00:02<00:00, 20.0kB/s]\n\r  0%|          | 0/1 [00:00<?, ?it/s]\r  0%|          | 0.00/5.12M [00:00<?, ?B/s]\rDNGO2020.dbc:   0%|          | 0.00/5.12M [00:00<?, ?B/s]\rDNGO2020.dbc:   0%|          | 2.90k/5.12M [00:01<34:08, 2.50kB/s]\rDNGO2020.dbc:   0%|          | 7.24k/5.12M [00:01<12:47, 6.66kB/s]\rDNGO2020.dbc:   0%|          | 20.3k/5.12M [00:01<03:57, 21.5kB/s]\rDNGO2020.dbc:   1%|          | 43.4k/5.12M [00:01<01:42, 49.5kB/s]\rDNGO2020.dbc:   2%|▏         | 86.9k/5.12M [00:01<00:47, 106kB/s] \rDNGO2020.dbc:   2%|▏         | 123k/5.12M [00:01<00:35, 140kB/s] \rDNGO2020.dbc:   4%|▎         | 181k/5.12M [00:02<00:23, 207kB/s]\rDNGO2020.dbc:   5%|▌         | 264k/5.12M [00:02<00:15, 304kB/s]\rDNGO2020.dbc:   8%|▊         | 395k/5.12M [00:02<00:10, 470kB/s]\rDNGO2020.dbc:  10%|█         | 526k/5.12M [00:02<00:07, 592kB/s]\rDNGO2020.dbc:  13%|█▎        | 657k/5.12M [00:02<00:06, 681kB/s]\rDNGO2020.dbc:  15%|█▌        | 789k/5.12M [00:02<00:05, 745kB/s]\rDNGO2020.dbc:  18%|█▊        | 920k/5.12M [00:02<00:05, 790kB/s]\rDNGO2020.dbc:  21%|██        | 1.05M/5.12M [00:03<00:04, 819kB/s]\rDNGO2020.dbc:  23%|██▎       | 1.18M/5.12M [00:03<00:04, 845kB/s]\rDNGO2020.dbc:  26%|██▌       | 1.31M/5.12M [00:03<00:04, 858kB/s]\rDNGO2020.dbc:  28%|██▊       | 1.44M/5.12M [00:03<00:04, 870kB/s]\rDNGO2020.dbc:  31%|███       | 1.58M/5.12M [00:03<00:03, 891kB/s]\rDNGO2020.dbc:  33%|███▎      | 1.71M/5.12M [00:03<00:03, 891kB/s]\rDNGO2020.dbc:  36%|███▌      | 1.84M/5.12M [00:03<00:03, 884kB/s]\rDNGO2020.dbc:  39%|███▊      | 1.97M/5.12M [00:04<00:03, 900kB/s]\rDNGO2020.dbc:  41%|████      | 2.10M/5.12M [00:04<00:03, 890kB/s]\rDNGO2020.dbc:  44%|████▎     | 2.23M/5.12M [00:04<00:03, 892kB/s]\rDNGO2020.dbc:  46%|████▌     | 2.36M/5.12M [00:04<00:03, 890kB/s]\rDNGO2020.dbc:  49%|████▊     | 2.49M/5.12M [00:04<00:02, 892kB/s]\rDNGO2020.dbc:  51%|█████▏    | 2.62M/5.12M [00:04<00:02, 896kB/s]\rDNGO2020.dbc:  54%|█████▍    | 2.76M/5.12M [00:04<00:02, 896kB/s]\rDNGO2020.dbc:  56%|█████▋    | 2.89M/5.12M [00:05<00:02, 894kB/s]\rDNGO2020.dbc:  59%|█████▉    | 3.02M/5.12M [00:05<00:02, 895kB/s]\rDNGO2020.dbc:  62%|██████▏   | 3.15M/5.12M [00:05<00:02, 899kB/s]\rDNGO2020.dbc:  64%|██████▍   | 3.28M/5.12M [00:05<00:02, 894kB/s]\rDNGO2020.dbc:  67%|██████▋   | 3.41M/5.12M [00:05<00:01, 895kB/s]\rDNGO2020.dbc:  69%|██████▉   | 3.54M/5.12M [00:05<00:01, 898kB/s]\rDNGO2020.dbc:  72%|███████▏  | 3.67M/5.12M [00:05<00:01, 895kB/s]\rDNGO2020.dbc:  74%|███████▍  | 3.80M/5.12M [00:06<00:01, 896kB/s]\rDNGO2020.dbc:  77%|███████▋  | 3.93M/5.12M [00:06<00:01, 897kB/s]\rDNGO2020.dbc:  79%|███████▉  | 4.06M/5.12M [00:06<00:01, 898kB/s]\rDNGO2020.dbc:  82%|████████▏ | 4.20M/5.12M [00:06<00:01, 905kB/s]\rDNGO2020.dbc:  85%|████████▍ | 4.33M/5.12M [00:06<00:00, 888kB/s]\rDNGO2020.dbc:  87%|████████▋ | 4.46M/5.12M [00:06<00:00, 898kB/s]\rDNGO2020.dbc:  90%|████████▉ | 4.59M/5.12M [00:07<00:00, 892kB/s]\rDNGO2020.dbc:  92%|█████████▏| 4.72M/5.12M [00:07<00:00, 892kB/s]\rDNGO2020.dbc:  95%|█████████▍| 4.86M/5.12M [00:07<00:00, 901kB/s]\rDNGO2020.dbc:  97%|█████████▋| 4.99M/5.12M [00:07<00:00, 890kB/s]\rDNGO2020.dbc: 100%|█████████▉| 5.12M/5.12M [00:07<00:00, 895kB/s]\rDNGO2020.dbc:   0%|          | 0.00/1.00 [00:00<?, ?B/s]         \rDNGO2020.dbf:   0%|          | 0.00/1.00 [00:00<?, ?B/s]\rDNGO2020.dbf:   0%|          | 0.00/104k [00:00<?, ?B/s]\rDNGO2020.parquet:   0%|          | 0.00/104k [00:00<?, ?B/s]\rDNGO2020.parquet:  87%|████████▋ | 90.0k/104k [00:03<00:00, 23.9kB/s]\rDNGO2020.parquet: : 120kB [00:04, 24.1kB/s]                          \rDNGO2020.parquet: 100%|██████████| 104k/104k [00:05<00:00, 20.1kB/s]\n\r  0%|          | 0/1 [00:00<?, ?it/s]\r  0%|          | 0.00/2.82M [00:00<?, ?B/s]\rDNMT2020.dbc:   0%|          | 0.00/2.82M [00:00<?, ?B/s]\rDNMT2020.dbc:   0%|          | 2.90k/2.82M [00:01<21:09, 2.22kB/s]\rDNMT2020.dbc:   0%|          | 8.69k/2.82M [00:01<06:19, 7.40kB/s]\rDNMT2020.dbc:   1%|          | 20.3k/2.82M [00:01<02:24, 19.3kB/s]\rDNMT2020.dbc:   1%|▏         | 42.0k/2.82M [00:01<01:02, 44.3kB/s]\rDNMT2020.dbc:   3%|▎         | 88.3k/2.82M [00:01<00:26, 103kB/s] \rDNMT2020.dbc:   4%|▍         | 123k/2.82M [00:02<00:19, 136kB/s] \rDNMT2020.dbc:   6%|▋         | 181k/2.82M [00:02<00:13, 203kB/s]\rDNMT2020.dbc:   8%|▊         | 237k/2.82M [00:02<00:10, 253kB/s]\rDNMT2020.dbc:  12%|█▏        | 331k/2.82M [00:02<00:06, 360kB/s]\rDNMT2020.dbc:  16%|█▋        | 460k/2.82M [00:02<00:04, 512kB/s]\rDNMT2020.dbc:  21%|██        | 591k/2.82M [00:02<00:03, 626kB/s]\rDNMT2020.dbc:  26%|██▌       | 724k/2.82M [00:02<00:02, 710kB/s]\rDNMT2020.dbc:  30%|███       | 855k/2.82M [00:03<00:02, 768kB/s]\rDNMT2020.dbc:  35%|███▍      | 986k/2.82M [00:03<00:02, 809kB/s]\rDNMT2020.dbc:  40%|███▉      | 1.12M/2.82M [00:03<00:01, 849kB/s]\rDNMT2020.dbc:  44%|████▍     | 1.25M/2.82M [00:03<00:01, 854kB/s]\rDNMT2020.dbc:  49%|████▉     | 1.38M/2.82M [00:03<00:01, 871kB/s]\rDNMT2020.dbc:  54%|█████▎    | 1.51M/2.82M [00:03<00:01, 882kB/s]\rDNMT2020.dbc:  58%|█████▊    | 1.65M/2.82M [00:03<00:01, 895kB/s]\rDNMT2020.dbc:  63%|██████▎   | 1.77M/2.82M [00:04<00:01, 886kB/s]\rDNMT2020.dbc:  67%|██████▋   | 1.90M/2.82M [00:04<00:01, 893kB/s]\rDNMT2020.dbc:  72%|███████▏  | 2.03M/2.82M [00:04<00:00, 896kB/s]\rDNMT2020.dbc:  77%|███████▋  | 2.17M/2.82M [00:04<00:00, 904kB/s]\rDNMT2020.dbc:  81%|████████▏ | 2.30M/2.82M [00:04<00:00, 905kB/s]\rDNMT2020.dbc:  86%|████████▌ | 2.43M/2.82M [00:04<00:00, 905kB/s]\rDNMT2020.dbc:  91%|█████████ | 2.56M/2.82M [00:04<00:00, 903kB/s]\rDNMT2020.dbc:  96%|█████████▌| 2.70M/2.82M [00:05<00:00, 916kB/s]\rDNMT2020.dbc: 100%|██████████| 2.82M/2.82M [00:05<00:00, 900kB/s]\rDNMT2020.dbc:   0%|          | 0.00/1.00 [00:00<?, ?B/s]         \rDNMT2020.dbf:   0%|          | 0.00/1.00 [00:00<?, ?B/s]\rDNMT2020.dbf:   0%|          | 0.00/63.9k [00:00<?, ?B/s]\rDNMT2020.parquet:   0%|          | 0.00/63.9k [00:00<?, ?B/s]\rDNMT2020.parquet: 100%|██████████| 63.9k/63.9k [00:02<00:00, 21.7kB/s]\n\r  0%|          | 0/1 [00:00<?, ?it/s]\r  0%|          | 0.00/2.11M [00:00<?, ?B/s]\rDNMS2020.dbc:   0%|          | 0.00/2.11M [00:00<?, ?B/s]\rDNMS2020.dbc:   0%|          | 5.79k/2.11M [00:01<07:50, 4.47kB/s]\rDNMS2020.dbc:   0%|          | 7.24k/2.11M [00:01<06:41, 5.24kB/s]\rDNMS2020.dbc:   1%|          | 18.8k/2.11M [00:01<01:59, 17.6kB/s]\rDNMS2020.dbc:   2%|▏         | 43.4k/2.11M [00:01<00:44, 46.7kB/s]\rDNMS2020.dbc:   4%|▍         | 85.4k/2.11M [00:01<00:20, 99.2kB/s]\rDNMS2020.dbc:   6%|▌         | 127k/2.11M [00:02<00:13, 144kB/s]  \rDNMS2020.dbc:  10%|▉         | 205k/2.11M [00:02<00:07, 242kB/s]\rDNMS2020.dbc:  15%|█▍        | 309k/2.11M [00:02<00:04, 369kB/s]\rDNMS2020.dbc:  19%|█▊        | 395k/2.11M [00:02<00:03, 430kB/s]\rDNMS2020.dbc:  25%|██▍       | 526k/2.11M [00:02<00:02, 564kB/s]\rDNMS2020.dbc:  31%|███       | 657k/2.11M [00:02<00:02, 663kB/s]\rDNMS2020.dbc:  37%|███▋      | 788k/2.11M [00:02<00:01, 734kB/s]\rDNMS2020.dbc:  44%|████▎     | 919k/2.11M [00:03<00:01, 785kB/s]\rDNMS2020.dbc:  50%|████▉     | 1.05M/2.11M [00:03<00:01, 821kB/s]\rDNMS2020.dbc:  56%|█████▌    | 1.18M/2.11M [00:03<00:01, 847kB/s]\rDNMS2020.dbc:  62%|██████▏   | 1.32M/2.11M [00:03<00:00, 877kB/s]\rDNMS2020.dbc:  68%|██████▊   | 1.44M/2.11M [00:03<00:00, 873kB/s]\rDNMS2020.dbc:  75%|███████▍  | 1.57M/2.11M [00:03<00:00, 885kB/s]\rDNMS2020.dbc:  81%|████████  | 1.71M/2.11M [00:03<00:00, 892kB/s]\rDNMS2020.dbc:  87%|████████▋ | 1.84M/2.11M [00:04<00:00, 897kB/s]\rDNMS2020.dbc:  93%|█████████▎| 1.97M/2.11M [00:04<00:00, 900kB/s]\rDNMS2020.dbc:  99%|█████████▉| 2.10M/2.11M [00:04<00:00, 902kB/s]\rDNMS2020.dbc:   0%|          | 0.00/1.00 [00:00<?, ?B/s]         \rDNMS2020.dbf:   0%|          | 0.00/1.00 [00:00<?, ?B/s]\rDNMS2020.dbf:   0%|          | 0.00/46.3k [00:00<?, ?B/s]\rDNMS2020.parquet:   0%|          | 0.00/46.3k [00:00<?, ?B/s]\rDNMS2020.parquet: 100%|██████████| 46.3k/46.3k [00:02<00:00, 21.6kB/s]\n"
     ]
    },
    {
     "output_type": "stream",
     "name": "stdout",
     "output_type": "stream",
     "text": [
      "✅ Spark dataframe created and saved: centro_oeste_2020 (230474 records)\n"
     ]
    },
    {
     "output_type": "stream",
     "name": "stderr",
     "output_type": "stream",
     "text": [
      "\r  0%|          | 0/1 [00:00<?, ?it/s]\r  0%|          | 0.00/2.61M [00:00<?, ?B/s]\rDNES2020.dbc:   0%|          | 0.00/2.61M [00:00<?, ?B/s]\rDNES2020.dbc:   0%|          | 5.79k/2.61M [00:01<09:50, 4.42kB/s]\rDNES2020.dbc:   0%|          | 7.24k/2.61M [00:01<08:21, 5.20kB/s]\rDNES2020.dbc:   1%|          | 18.8k/2.61M [00:01<02:28, 17.5kB/s]\rDNES2020.dbc:   2%|▏         | 42.0k/2.61M [00:01<00:57, 44.6kB/s]\rDNES2020.dbc:   3%|▎         | 88.3k/2.61M [00:01<00:24, 104kB/s] \rDNES2020.dbc:   5%|▌         | 142k/2.61M [00:02<00:14, 166kB/s] \rDNES2020.dbc:   8%|▊         | 198k/2.61M [00:02<00:10, 223kB/s]\rDNES2020.dbc:  11%|█         | 277k/2.61M [00:02<00:07, 308kB/s]\rDNES2020.dbc:  15%|█▌        | 395k/2.61M [00:02<00:04, 448kB/s]\rDNES2020.dbc:  20%|██        | 526k/2.61M [00:02<00:03, 576kB/s]\rDNES2020.dbc:  25%|██▌       | 657k/2.61M [00:02<00:02, 670kB/s]\rDNES2020.dbc:  30%|███       | 788k/2.61M [00:02<00:02, 739kB/s]\rDNES2020.dbc:  35%|███▌      | 926k/2.61M [00:03<00:02, 800kB/s]\rDNES2020.dbc:  40%|████      | 1.05M/2.61M [00:03<00:01, 821kB/s]\rDNES2020.dbc:  45%|████▌     | 1.19M/2.61M [00:03<00:01, 856kB/s]\rDNES2020.dbc:  50%|█████     | 1.31M/2.61M [00:03<00:01, 860kB/s]\rDNES2020.dbc:  55%|█████▌    | 1.44M/2.61M [00:03<00:01, 874kB/s]\rDNES2020.dbc:  60%|██████    | 1.58M/2.61M [00:03<00:01, 887kB/s]\rDNES2020.dbc:  65%|██████▌   | 1.71M/2.61M [00:03<00:01, 899kB/s]\rDNES2020.dbc:  70%|███████   | 1.84M/2.61M [00:04<00:00, 896kB/s]\rDNES2020.dbc:  75%|███████▌  | 1.97M/2.61M [00:04<00:00, 897kB/s]\rDNES2020.dbc:  80%|████████  | 2.10M/2.61M [00:04<00:00, 899kB/s]\rDNES2020.dbc:  86%|████████▌ | 2.24M/2.61M [00:04<00:00, 902kB/s]\rDNES2020.dbc:  90%|█████████ | 2.36M/2.61M [00:04<00:00, 892kB/s]\rDNES2020.dbc:  95%|█████████▌| 2.49M/2.61M [00:04<00:00, 900kB/s]\rDNES2020.dbc: 100%|██████████| 2.61M/2.61M [00:04<00:00, 874kB/s]\rDNES2020.dbc:   0%|          | 0.00/1.00 [00:00<?, ?B/s]         \rDNES2020.dbf:   0%|          | 0.00/1.00 [00:00<?, ?B/s]\rDNES2020.dbf:   0%|          | 0.00/60.2k [00:00<?, ?B/s]\rDNES2020.parquet:   0%|          | 0.00/60.2k [00:00<?, ?B/s]\rDNES2020.parquet: 100%|██████████| 60.2k/60.2k [00:03<00:00, 18.6kB/s]\n\r  0%|          | 0/1 [00:00<?, ?it/s]\r  0%|          | 0.00/12.3M [00:00<?, ?B/s]\rDNMG2020.dbc:   0%|          | 0.00/12.3M [00:00<?, ?B/s]\rDNMG2020.dbc:   0%|          | 1.45k/12.3M [00:01<3:05:28, 1.10kB/s]\rDNMG2020.dbc:   0%|          | 7.24k/12.3M [00:01<31:53, 6.40kB/s]  \rDNMG2020.dbc:   0%|          | 18.8k/12.3M [00:01<11:04, 18.4kB/s]\rDNMG2020.dbc:   0%|          | 42.0k/12.3M [00:01<04:29, 45.3kB/s]\rDNMG2020.dbc:   1%|          | 84.0k/12.3M [00:01<02:04, 97.7kB/s]\rDNMG2020.dbc:   1%|          | 122k/12.3M [00:02<01:29, 136kB/s]  \rDNMG2020.dbc:   2%|▏         | 198k/12.3M [00:02<00:51, 234kB/s]\rDNMG2020.dbc:   3%|▎         | 329k/12.3M [00:02<00:28, 412kB/s]\rDNMG2020.dbc:   4%|▍         | 462k/12.3M [00:02<00:21, 550kB/s]\rDNMG2020.dbc:   5%|▍         | 597k/12.3M [00:02<00:17, 660kB/s]\rDNMG2020.dbc:   6%|▌         | 729k/12.3M [00:02<00:15, 727kB/s]\rDNMG2020.dbc:   7%|▋         | 853k/12.3M [00:02<00:14, 766kB/s]\rDNMG2020.dbc:   8%|▊         | 991k/12.3M [00:03<00:13, 819kB/s]\rDNMG2020.dbc:   9%|▉         | 1.12M/12.3M [00:03<00:13, 832kB/s]\rDNMG2020.dbc:  10%|█         | 1.25M/12.3M [00:03<00:12, 856kB/s]\rDNMG2020.dbc:  11%|█▏        | 1.38M/12.3M [00:03<00:12, 881kB/s]\rDNMG2020.dbc:  12%|█▏        | 1.51M/12.3M [00:03<00:12, 876kB/s]\rDNMG2020.dbc:  13%|█▎        | 1.65M/12.3M [00:03<00:11, 898kB/s]\rDNMG2020.dbc:  14%|█▍        | 1.77M/12.3M [00:03<00:11, 887kB/s]\rDNMG2020.dbc:  16%|█▌        | 1.91M/12.3M [00:04<00:11, 907kB/s]\rDNMG2020.dbc:  17%|█▋        | 2.03M/12.3M [00:04<00:11, 894kB/s]\rDNMG2020.dbc:  18%|█▊        | 2.16M/12.3M [00:04<00:11, 899kB/s]\rDNMG2020.dbc:  19%|█▊        | 2.30M/12.3M [00:04<00:11, 903kB/s]\rDNMG2020.dbc:  20%|█▉        | 2.43M/12.3M [00:04<00:10, 905kB/s]\rDNMG2020.dbc:  21%|██        | 2.56M/12.3M [00:04<00:10, 907kB/s]\rDNMG2020.dbc:  22%|██▏       | 2.69M/12.3M [00:04<00:10, 907kB/s]\rDNMG2020.dbc:  23%|██▎       | 2.82M/12.3M [00:05<00:10, 911kB/s]\rDNMG2020.dbc:  24%|██▍       | 2.95M/12.3M [00:05<00:10, 907kB/s]\rDNMG2020.dbc:  25%|██▌       | 3.08M/12.3M [00:05<00:10, 908kB/s]\rDNMG2020.dbc:  26%|██▌       | 3.21M/12.3M [00:05<00:09, 908kB/s]\rDNMG2020.dbc:  27%|██▋       | 3.34M/12.3M [00:05<00:09, 908kB/s]\rDNMG2020.dbc:  28%|██▊       | 3.47M/12.3M [00:05<00:09, 909kB/s]\rDNMG2020.dbc:  29%|██▉       | 3.61M/12.3M [00:05<00:09, 910kB/s]\rDNMG2020.dbc:  30%|███       | 3.74M/12.3M [00:06<00:09, 909kB/s]\rDNMG2020.dbc:  32%|███▏      | 3.87M/12.3M [00:06<00:09, 923kB/s]\rDNMG2020.dbc:  33%|███▎      | 4.00M/12.3M [00:06<00:09, 905kB/s]\rDNMG2020.dbc:  34%|███▎      | 4.13M/12.3M [00:06<00:08, 907kB/s]\rDNMG2020.dbc:  35%|███▍      | 4.26M/12.3M [00:06<00:08, 911kB/s]\rDNMG2020.dbc:  36%|███▌      | 4.40M/12.3M [00:06<00:08, 914kB/s]\rDNMG2020.dbc:  37%|███▋      | 4.53M/12.3M [00:06<00:08, 913kB/s]\rDNMG2020.dbc:  38%|███▊      | 4.65M/12.3M [00:07<00:08, 899kB/s]\rDNMG2020.dbc:  39%|███▉      | 4.79M/12.3M [00:07<00:08, 895kB/s]\rDNMG2020.dbc:  40%|████      | 4.92M/12.3M [00:07<00:08, 898kB/s]\rDNMG2020.dbc:  41%|████      | 5.05M/12.3M [00:07<00:08, 900kB/s]\rDNMG2020.dbc:  42%|████▏     | 5.18M/12.3M [00:07<00:07, 903kB/s]\rDNMG2020.dbc:  43%|████▎     | 5.31M/12.3M [00:07<00:07, 905kB/s]\rDNMG2020.dbc:  44%|████▍     | 5.44M/12.3M [00:07<00:07, 906kB/s]\rDNMG2020.dbc:  45%|████▌     | 5.58M/12.3M [00:08<00:07, 920kB/s]\rDNMG2020.dbc:  47%|████▋     | 5.71M/12.3M [00:08<00:07, 915kB/s]\rDNMG2020.dbc:  48%|████▊     | 5.84M/12.3M [00:08<00:07, 904kB/s]\rDNMG2020.dbc:  49%|████▊     | 5.97M/12.3M [00:08<00:06, 912kB/s]\rDNMG2020.dbc:  50%|████▉     | 6.10M/12.3M [00:08<00:06, 902kB/s]\rDNMG2020.dbc:  51%|█████     | 6.23M/12.3M [00:08<00:06, 901kB/s]\rDNMG2020.dbc:  52%|█████▏    | 6.36M/12.3M [00:08<00:06, 903kB/s]\rDNMG2020.dbc:  53%|█████▎    | 6.49M/12.3M [00:09<00:06, 907kB/s]\rDNMG2020.dbc:  54%|█████▍    | 6.62M/12.3M [00:09<00:06, 905kB/s]\rDNMG2020.dbc:  55%|█████▌    | 6.75M/12.3M [00:09<00:06, 908kB/s]\rDNMG2020.dbc:  56%|█████▌    | 6.88M/12.3M [00:09<00:05, 905kB/s]\rDNMG2020.dbc:  57%|█████▋    | 7.01M/12.3M [00:09<00:05, 905kB/s]\rDNMG2020.dbc:  58%|█████▊    | 7.14M/12.3M [00:09<00:05, 906kB/s]\rDNMG2020.dbc:  59%|█████▉    | 7.28M/12.3M [00:09<00:05, 909kB/s]\rDNMG2020.dbc:  60%|██████    | 7.41M/12.3M [00:10<00:05, 906kB/s]\rDNMG2020.dbc:  62%|██████▏   | 7.54M/12.3M [00:10<00:05, 916kB/s]\rDNMG2020.dbc:  63%|██████▎   | 7.68M/12.3M [00:10<00:05, 910kB/s]\rDNMG2020.dbc:  64%|██████▎   | 7.80M/12.3M [00:10<00:04, 898kB/s]\rDNMG2020.dbc:  65%|██████▍   | 7.93M/12.3M [00:10<00:04, 894kB/s]\rDNMG2020.dbc:  66%|██████▌   | 8.06M/12.3M [00:10<00:04, 898kB/s]\rDNMG2020.dbc:  67%|██████▋   | 8.20M/12.3M [00:10<00:04, 911kB/s]\rDNMG2020.dbc:  68%|██████▊   | 8.32M/12.3M [00:11<00:04, 899kB/s]\rDNMG2020.dbc:  69%|██████▉   | 8.46M/12.3M [00:11<00:04, 902kB/s]\rDNMG2020.dbc:  70%|███████   | 8.59M/12.3M [00:11<00:04, 903kB/s]\rDNMG2020.dbc:  71%|███████   | 8.72M/12.3M [00:11<00:03, 904kB/s]\rDNMG2020.dbc:  72%|███████▏  | 8.85M/12.3M [00:11<00:03, 914kB/s]\rDNMG2020.dbc:  73%|███████▎  | 8.98M/12.3M [00:11<00:03, 904kB/s]\rDNMG2020.dbc:  74%|███████▍  | 9.11M/12.3M [00:12<00:03, 907kB/s]\rDNMG2020.dbc:  75%|███████▌  | 9.24M/12.3M [00:12<00:03, 907kB/s]\rDNMG2020.dbc:  76%|███████▋  | 9.37M/12.3M [00:12<00:03, 906kB/s]\rDNMG2020.dbc:  77%|███████▋  | 9.50M/12.3M [00:12<00:03, 907kB/s]\rDNMG2020.dbc:  79%|███████▊  | 9.64M/12.3M [00:12<00:02, 907kB/s]\rDNMG2020.dbc:  80%|███████▉  | 9.77M/12.3M [00:12<00:02, 908kB/s]\rDNMG2020.dbc:  81%|████████  | 9.90M/12.3M [00:12<00:02, 908kB/s]\rDNMG2020.dbc:  82%|████████▏ | 10.0M/12.3M [00:13<00:02, 917kB/s]\rDNMG2020.dbc:  83%|████████▎ | 10.2M/12.3M [00:13<00:02, 906kB/s]\rDNMG2020.dbc:  84%|████████▍ | 10.3M/12.3M [00:13<00:02, 907kB/s]\rDNMG2020.dbc:  85%|████████▍ | 10.4M/12.3M [00:13<00:02, 908kB/s]\rDNMG2020.dbc:  86%|████████▌ | 10.6M/12.3M [00:13<00:01, 908kB/s]\rDNMG2020.dbc:  87%|████████▋ | 10.7M/12.3M [00:13<00:01, 921kB/s]\rDNMG2020.dbc:  88%|████████▊ | 10.8M/12.3M [00:13<00:01, 903kB/s]\rDNMG2020.dbc:  89%|████████▉ | 10.9M/12.3M [00:14<00:01, 905kB/s]\rDNMG2020.dbc:  90%|█████████ | 11.1M/12.3M [00:14<00:01, 920kB/s]\rDNMG2020.dbc:  91%|█████████▏| 11.2M/12.3M [00:14<00:01, 902kB/s]\rDNMG2020.dbc:  92%|█████████▏| 11.3M/12.3M [00:14<00:01, 907kB/s]\rDNMG2020.dbc:  94%|█████████▎| 11.5M/12.3M [00:14<00:00, 904kB/s]\rDNMG2020.dbc:  95%|█████████▍| 11.6M/12.3M [00:14<00:00, 906kB/s]\rDNMG2020.dbc:  96%|█████████▌| 11.7M/12.3M [00:14<00:00, 908kB/s]\rDNMG2020.dbc:  97%|█████████▋| 11.9M/12.3M [00:15<00:00, 908kB/s]\rDNMG2020.dbc:  98%|█████████▊| 12.0M/12.3M [00:15<00:00, 909kB/s]\rDNMG2020.dbc:  99%|█████████▉| 12.1M/12.3M [00:15<00:00, 910kB/s]\rDNMG2020.dbc: 100%|█████████▉| 12.3M/12.3M [00:15<00:00, 910kB/s]\rDNMG2020.dbc:   0%|          | 0.00/1.00 [00:00<?, ?B/s]         \rDNMG2020.dbf:   0%|          | 0.00/1.00 [00:00<?, ?B/s]\rDNMG2020.dbf:   0%|          | 0.00/277k [00:00<?, ?B/s]\rDNMG2020.parquet:   0%|          | 0.00/277k [00:00<?, ?B/s]\rDNMG2020.parquet:  43%|████▎     | 120k/277k [00:05<00:06, 23.5kB/s]\rDNMG2020.parquet:  54%|█████▍    | 150k/277k [00:06<00:05, 22.9kB/s]\rDNMG2020.parquet:  65%|██████▌   | 180k/277k [00:08<00:04, 21.7kB/s]\rDNMG2020.parquet:  76%|███████▌  | 210k/277k [00:09<00:03, 21.2kB/s]\rDNMG2020.parquet:  87%|████████▋ | 240k/277k [00:11<00:01, 20.8kB/s]\rDNMG2020.parquet:  98%|█████████▊| 270k/277k [00:12<00:00, 21.5kB/s]\rDNMG2020.parquet: 100%|██████████| 277k/277k [00:12<00:00, 21.3kB/s]\rDNMG2020.parquet: 100%|██████████| 277k/277k [00:12<00:00, 21.7kB/s]\n\r  0%|          | 0/1 [00:00<?, ?it/s]\r  0%|          | 0.00/9.77M [00:00<?, ?B/s]\rDNRJ2020.dbc:   0%|          | 0.00/9.77M [00:00<?, ?B/s]\rDNRJ2020.dbc:   0%|          | 2.90k/9.77M [00:01<1:16:15, 2.14kB/s]\rDNRJ2020.dbc:   0%|          | 11.6k/9.77M [00:01<16:35, 9.81kB/s]  \rDNRJ2020.dbc:   0%|          | 20.3k/9.77M [00:01<09:07, 17.8kB/s]\rDNRJ2020.dbc:   0%|          | 43.4k/9.77M [00:01<03:39, 44.3kB/s]\rDNRJ2020.dbc:   1%|          | 85.4k/9.77M [00:01<01:40, 96.0kB/s]\rDNRJ2020.dbc:   1%|▏         | 143k/9.77M [00:02<00:57, 167kB/s]  \rDNRJ2020.dbc:   2%|▏         | 200k/9.77M [00:02<00:43, 223kB/s]\rDNRJ2020.dbc:   3%|▎         | 295k/9.77M [00:02<00:28, 338kB/s]\rDNRJ2020.dbc:   4%|▍         | 395k/9.77M [00:02<00:21, 432kB/s]\rDNRJ2020.dbc:   5%|▌         | 527k/9.77M [00:02<00:16, 568kB/s]\rDNRJ2020.dbc:   7%|▋         | 664k/9.77M [00:02<00:13, 675kB/s]\rDNRJ2020.dbc:   8%|▊         | 788k/9.77M [00:02<00:12, 726kB/s]\rDNRJ2020.dbc:   9%|▉         | 920k/9.77M [00:03<00:11, 783kB/s]\rDNRJ2020.dbc:  11%|█         | 1.05M/9.77M [00:03<00:10, 825kB/s]\rDNRJ2020.dbc:  12%|█▏        | 1.18M/9.77M [00:03<00:10, 842kB/s]\rDNRJ2020.dbc:  13%|█▎        | 1.31M/9.77M [00:03<00:09, 865kB/s]\rDNRJ2020.dbc:  15%|█▍        | 1.44M/9.77M [00:03<00:09, 877kB/s]\rDNRJ2020.dbc:  16%|█▌        | 1.57M/9.77M [00:03<00:09, 882kB/s]\rDNRJ2020.dbc:  17%|█▋        | 1.71M/9.77M [00:03<00:09, 890kB/s]\rDNRJ2020.dbc:  19%|█▉        | 1.84M/9.77M [00:04<00:08, 895kB/s]\rDNRJ2020.dbc:  20%|██        | 1.97M/9.77M [00:04<00:08, 899kB/s]\rDNRJ2020.dbc:  21%|██▏       | 2.10M/9.77M [00:04<00:08, 905kB/s]\rDNRJ2020.dbc:  23%|██▎       | 2.23M/9.77M [00:04<00:08, 903kB/s]\rDNRJ2020.dbc:  24%|██▍       | 2.37M/9.77M [00:04<00:08, 917kB/s]\rDNRJ2020.dbc:  25%|██▌       | 2.49M/9.77M [00:04<00:08, 903kB/s]\rDNRJ2020.dbc:  27%|██▋       | 2.62M/9.77M [00:04<00:07, 906kB/s]\rDNRJ2020.dbc:  28%|██▊       | 2.75M/9.77M [00:05<00:07, 907kB/s]\rDNRJ2020.dbc:  30%|██▉       | 2.89M/9.77M [00:05<00:07, 910kB/s]\rDNRJ2020.dbc:  31%|███       | 3.02M/9.77M [00:05<00:07, 918kB/s]\rDNRJ2020.dbc:  32%|███▏      | 3.15M/9.77M [00:05<00:07, 903kB/s]\rDNRJ2020.dbc:  34%|███▎      | 3.28M/9.77M [00:05<00:07, 905kB/s]\rDNRJ2020.dbc:  35%|███▍      | 3.41M/9.77M [00:05<00:07, 905kB/s]\rDNRJ2020.dbc:  36%|███▋      | 3.54M/9.77M [00:05<00:06, 915kB/s]\rDNRJ2020.dbc:  38%|███▊      | 3.67M/9.77M [00:06<00:06, 904kB/s]\rDNRJ2020.dbc:  39%|███▉      | 3.80M/9.77M [00:06<00:06, 908kB/s]\rDNRJ2020.dbc:  40%|████      | 3.93M/9.77M [00:06<00:06, 905kB/s]\rDNRJ2020.dbc:  42%|████▏     | 4.07M/9.77M [00:06<00:06, 907kB/s]\rDNRJ2020.dbc:  43%|████▎     | 4.20M/9.77M [00:06<00:06, 905kB/s]\rDNRJ2020.dbc:  44%|████▍     | 4.33M/9.77M [00:06<00:06, 905kB/s]\rDNRJ2020.dbc:  46%|████▌     | 4.46M/9.77M [00:06<00:05, 906kB/s]\rDNRJ2020.dbc:  47%|████▋     | 4.59M/9.77M [00:07<00:05, 906kB/s]\rDNRJ2020.dbc:  48%|████▊     | 4.72M/9.77M [00:07<00:05, 907kB/s]\rDNRJ2020.dbc:  50%|████▉     | 4.85M/9.77M [00:07<00:05, 905kB/s]\rDNRJ2020.dbc:  51%|█████     | 4.98M/9.77M [00:07<00:05, 907kB/s]\rDNRJ2020.dbc:  52%|█████▏    | 5.11M/9.77M [00:07<00:05, 907kB/s]\rDNRJ2020.dbc:  54%|█████▎    | 5.25M/9.77M [00:07<00:04, 909kB/s]\rDNRJ2020.dbc:  55%|█████▌    | 5.38M/9.77M [00:07<00:04, 914kB/s]\rDNRJ2020.dbc:  56%|█████▋    | 5.51M/9.77M [00:08<00:04, 904kB/s]\rDNRJ2020.dbc:  58%|█████▊    | 5.64M/9.77M [00:08<00:04, 905kB/s]\rDNRJ2020.dbc:  59%|█████▉    | 5.77M/9.77M [00:08<00:04, 909kB/s]\rDNRJ2020.dbc:  60%|██████    | 5.90M/9.77M [00:08<00:04, 907kB/s]\rDNRJ2020.dbc:  62%|██████▏   | 6.03M/9.77M [00:08<00:04, 908kB/s]\rDNRJ2020.dbc:  63%|██████▎   | 6.17M/9.77M [00:08<00:03, 918kB/s]\rDNRJ2020.dbc:  64%|██████▍   | 6.29M/9.77M [00:09<00:03, 904kB/s]\rDNRJ2020.dbc:  66%|██████▌   | 6.42M/9.77M [00:09<00:03, 906kB/s]\rDNRJ2020.dbc:  67%|██████▋   | 6.56M/9.77M [00:09<00:03, 907kB/s]\rDNRJ2020.dbc:  68%|██████▊   | 6.69M/9.77M [00:09<00:03, 906kB/s]\rDNRJ2020.dbc:  70%|██████▉   | 6.82M/9.77M [00:09<00:03, 910kB/s]\rDNRJ2020.dbc:  71%|███████   | 6.96M/9.77M [00:09<00:03, 920kB/s]\rDNRJ2020.dbc:  72%|███████▏  | 7.08M/9.77M [00:09<00:02, 902kB/s]\rDNRJ2020.dbc:  74%|███████▍  | 7.21M/9.77M [00:10<00:02, 903kB/s]\rDNRJ2020.dbc:  75%|███████▌  | 7.34M/9.77M [00:10<00:02, 906kB/s]\rDNRJ2020.dbc:  76%|███████▋  | 7.47M/9.77M [00:10<00:02, 910kB/s]\rDNRJ2020.dbc:  78%|███████▊  | 7.61M/9.77M [00:10<00:02, 909kB/s]\rDNRJ2020.dbc:  79%|███████▉  | 7.73M/9.77M [00:10<00:02, 907kB/s]\rDNRJ2020.dbc:  80%|████████  | 7.87M/9.77M [00:10<00:02, 907kB/s]\rDNRJ2020.dbc:  82%|████████▏ | 8.00M/9.77M [00:10<00:01, 908kB/s]\rDNRJ2020.dbc:  83%|████████▎ | 8.13M/9.77M [00:11<00:01, 907kB/s]\rDNRJ2020.dbc:  85%|████████▍ | 8.26M/9.77M [00:11<00:01, 919kB/s]\rDNRJ2020.dbc:  86%|████████▌ | 8.39M/9.77M [00:11<00:01, 904kB/s]\rDNRJ2020.dbc:  87%|████████▋ | 8.52M/9.77M [00:11<00:01, 909kB/s]\rDNRJ2020.dbc:  89%|████████▊ | 8.65M/9.77M [00:11<00:01, 903kB/s]\rDNRJ2020.dbc:  90%|████████▉ | 8.78M/9.77M [00:11<00:01, 905kB/s]\rDNRJ2020.dbc:  91%|█████████ | 8.91M/9.77M [00:11<00:00, 905kB/s]\rDNRJ2020.dbc:  93%|█████████▎| 9.05M/9.77M [00:12<00:00, 907kB/s]\rDNRJ2020.dbc:  94%|█████████▍| 9.18M/9.77M [00:12<00:00, 911kB/s]\rDNRJ2020.dbc:  95%|█████████▌| 9.31M/9.77M [00:12<00:00, 921kB/s]\rDNRJ2020.dbc:  97%|█████████▋| 9.44M/9.77M [00:12<00:00, 915kB/s]\rDNRJ2020.dbc:  98%|█████████▊| 9.57M/9.77M [00:12<00:00, 905kB/s]\rDNRJ2020.dbc:  99%|█████████▉| 9.70M/9.77M [00:12<00:00, 904kB/s]\rDNRJ2020.dbc:   0%|          | 0.00/1.00 [00:00<?, ?B/s]         \rDNRJ2020.dbf:   0%|          | 0.00/1.00 [00:00<?, ?B/s]\rDNRJ2020.dbf:   0%|          | 0.00/223k [00:00<?, ?B/s]\rDNRJ2020.parquet:   0%|          | 0.00/223k [00:00<?, ?B/s]\rDNRJ2020.parquet:  54%|█████▍    | 120k/223k [00:05<00:04, 23.4kB/s]\rDNRJ2020.parquet:  67%|██████▋   | 150k/223k [00:06<00:03, 21.7kB/s]\rDNRJ2020.parquet:  81%|████████  | 180k/223k [00:08<00:02, 20.9kB/s]\rDNRJ2020.parquet:  94%|█████████▍| 210k/223k [00:09<00:00, 21.0kB/s]\rDNRJ2020.parquet: 100%|██████████| 223k/223k [00:10<00:00, 20.8kB/s]\rDNRJ2020.parquet: 100%|██████████| 223k/223k [00:10<00:00, 21.3kB/s]\n\r  0%|          | 0/1 [00:00<?, ?it/s]\r  0%|          | 0.00/27.0M [00:00<?, ?B/s]\rDNSP2020.dbc:   0%|          | 0.00/27.0M [00:00<?, ?B/s]\rDNSP2020.dbc:   0%|          | 2.90k/27.0M [00:01<3:24:34, 2.20kB/s]\rDNSP2020.dbc:   0%|          | 14.0k/27.0M [00:01<36:39, 12.3kB/s]  \rDNSP2020.dbc:   0%|          | 18.8k/27.0M [00:01<28:28, 15.8kB/s]\rDNSP2020.dbc:   0%|          | 42.0k/27.0M [00:01<10:25, 43.2kB/s]\rDNSP2020.dbc:   0%|          | 89.8k/27.0M [00:01<04:17, 104kB/s] \rDNSP2020.dbc:   1%|          | 145k/27.0M [00:02<02:38, 169kB/s] \rDNSP2020.dbc:   1%|          | 203k/27.0M [00:02<01:57, 228kB/s]\rDNSP2020.dbc:   1%|          | 297k/27.0M [00:02<01:18, 340kB/s]\rDNSP2020.dbc:   1%|▏         | 395k/27.0M [00:02<01:01, 432kB/s]\rDNSP2020.dbc:   2%|▏         | 526k/27.0M [00:02<00:46, 564kB/s]\rDNSP2020.dbc:   2%|▏         | 664k/27.0M [00:02<00:39, 676kB/s]\rDNSP2020.dbc:   3%|▎         | 795k/27.0M [00:02<00:35, 743kB/s]\rDNSP2020.dbc:   3%|▎         | 920k/27.0M [00:03<00:33, 782kB/s]\rDNSP2020.dbc:   4%|▍         | 1.06M/27.0M [00:03<00:31, 830kB/s]\rDNSP2020.dbc:   4%|▍         | 1.18M/27.0M [00:03<00:30, 842kB/s]\rDNSP2020.dbc:   5%|▍         | 1.31M/27.0M [00:03<00:29, 861kB/s]\rDNSP2020.dbc:   5%|▌         | 1.44M/27.0M [00:03<00:29, 875kB/s]\rDNSP2020.dbc:   6%|▌         | 1.57M/27.0M [00:03<00:29, 877kB/s]\rDNSP2020.dbc:   6%|▋         | 1.71M/27.0M [00:03<00:28, 886kB/s]\rDNSP2020.dbc:   7%|▋         | 1.84M/27.0M [00:04<00:28, 893kB/s]\rDNSP2020.dbc:   7%|▋         | 1.97M/27.0M [00:04<00:27, 903kB/s]\rDNSP2020.dbc:   8%|▊         | 2.10M/27.0M [00:04<00:27, 892kB/s]\rDNSP2020.dbc:   8%|▊         | 2.24M/27.0M [00:04<00:27, 910kB/s]\rDNSP2020.dbc:   9%|▊         | 2.36M/27.0M [00:04<00:27, 896kB/s]\rDNSP2020.dbc:   9%|▉         | 2.49M/27.0M [00:04<00:27, 903kB/s]\rDNSP2020.dbc:  10%|▉         | 2.63M/27.0M [00:04<00:26, 917kB/s]\rDNSP2020.dbc:  10%|█         | 2.75M/27.0M [00:05<00:26, 901kB/s]\rDNSP2020.dbc:  11%|█         | 2.89M/27.0M [00:05<00:26, 907kB/s]\rDNSP2020.dbc:  11%|█         | 3.02M/27.0M [00:05<00:26, 905kB/s]\rDNSP2020.dbc:  12%|█▏        | 3.15M/27.0M [00:05<00:26, 908kB/s]\rDNSP2020.dbc:  12%|█▏        | 3.28M/27.0M [00:05<00:26, 908kB/s]\rDNSP2020.dbc:  13%|█▎        | 3.41M/27.0M [00:05<00:26, 904kB/s]\rDNSP2020.dbc:  13%|█▎        | 3.55M/27.0M [00:05<00:25, 915kB/s]\rDNSP2020.dbc:  14%|█▎        | 3.67M/27.0M [00:06<00:25, 901kB/s]\rDNSP2020.dbc:  14%|█▍        | 3.80M/27.0M [00:06<00:25, 906kB/s]\rDNSP2020.dbc:  15%|█▍        | 3.94M/27.0M [00:06<00:25, 902kB/s]\rDNSP2020.dbc:  15%|█▌        | 4.06M/27.0M [00:06<00:25, 898kB/s]\rDNSP2020.dbc:  16%|█▌        | 4.20M/27.0M [00:06<00:25, 909kB/s]\rDNSP2020.dbc:  16%|█▌        | 4.33M/27.0M [00:06<00:25, 886kB/s]\rDNSP2020.dbc:  16%|█▋        | 4.46M/27.0M [00:06<00:25, 893kB/s]\rDNSP2020.dbc:  17%|█▋        | 4.59M/27.0M [00:07<00:25, 898kB/s]\rDNSP2020.dbc:  17%|█▋        | 4.72M/27.0M [00:07<00:24, 901kB/s]\rDNSP2020.dbc:  18%|█▊        | 4.86M/27.0M [00:07<00:24, 911kB/s]\rDNSP2020.dbc:  18%|█▊        | 4.98M/27.0M [00:07<00:24, 902kB/s]\rDNSP2020.dbc:  19%|█▉        | 5.11M/27.0M [00:07<00:24, 902kB/s]\rDNSP2020.dbc:  19%|█▉        | 5.24M/27.0M [00:07<00:24, 905kB/s]\rDNSP2020.dbc:  20%|█▉        | 5.38M/27.0M [00:07<00:23, 906kB/s]\rDNSP2020.dbc:  20%|██        | 5.51M/27.0M [00:08<00:23, 907kB/s]\rDNSP2020.dbc:  21%|██        | 5.64M/27.0M [00:08<00:23, 910kB/s]\rDNSP2020.dbc:  21%|██▏       | 5.77M/27.0M [00:08<00:23, 909kB/s]\rDNSP2020.dbc:  22%|██▏       | 5.90M/27.0M [00:08<00:23, 905kB/s]\rDNSP2020.dbc:  22%|██▏       | 6.03M/27.0M [00:08<00:23, 898kB/s]\rDNSP2020.dbc:  23%|██▎       | 6.16M/27.0M [00:08<00:23, 901kB/s]\rDNSP2020.dbc:  23%|██▎       | 6.29M/27.0M [00:08<00:23, 901kB/s]\rDNSP2020.dbc:  24%|██▍       | 6.43M/27.0M [00:09<00:22, 906kB/s]\rDNSP2020.dbc:  24%|██▍       | 6.56M/27.0M [00:09<00:22, 905kB/s]\rDNSP2020.dbc:  25%|██▍       | 6.69M/27.0M [00:09<00:22, 908kB/s]\rDNSP2020.dbc:  25%|██▌       | 6.82M/27.0M [00:09<00:22, 904kB/s]\rDNSP2020.dbc:  26%|██▌       | 6.95M/27.0M [00:09<00:22, 905kB/s]\rDNSP2020.dbc:  26%|██▌       | 7.08M/27.0M [00:09<00:22, 902kB/s]\rDNSP2020.dbc:  27%|██▋       | 7.21M/27.0M [00:09<00:21, 911kB/s]\rDNSP2020.dbc:  27%|██▋       | 7.34M/27.0M [00:10<00:21, 903kB/s]\rDNSP2020.dbc:  28%|██▊       | 7.48M/27.0M [00:10<00:21, 903kB/s]\rDNSP2020.dbc:  28%|██▊       | 7.60M/27.0M [00:10<00:21, 889kB/s]\rDNSP2020.dbc:  29%|██▊       | 7.74M/27.0M [00:10<00:21, 905kB/s]\rDNSP2020.dbc:  29%|██▉       | 7.87M/27.0M [00:10<00:21, 894kB/s]\rDNSP2020.dbc:  30%|██▉       | 8.00M/27.0M [00:10<00:21, 896kB/s]\rDNSP2020.dbc:  30%|███       | 8.13M/27.0M [00:11<00:21, 900kB/s]\rDNSP2020.dbc:  31%|███       | 8.26M/27.0M [00:11<00:20, 902kB/s]\rDNSP2020.dbc:  31%|███       | 8.39M/27.0M [00:11<00:20, 904kB/s]\rDNSP2020.dbc:  32%|███▏      | 8.52M/27.0M [00:11<00:20, 908kB/s]\rDNSP2020.dbc:  32%|███▏      | 8.66M/27.0M [00:11<00:20, 916kB/s]\rDNSP2020.dbc:  32%|███▏      | 8.78M/27.0M [00:11<00:20, 899kB/s]\rDNSP2020.dbc:  33%|███▎      | 8.92M/27.0M [00:11<00:20, 904kB/s]\rDNSP2020.dbc:  33%|███▎      | 9.05M/27.0M [00:12<00:19, 901kB/s]\rDNSP2020.dbc:  34%|███▍      | 9.18M/27.0M [00:12<00:19, 905kB/s]\rDNSP2020.dbc:  34%|███▍      | 9.31M/27.0M [00:12<00:19, 905kB/s]\rDNSP2020.dbc:  35%|███▍      | 9.44M/27.0M [00:12<00:19, 902kB/s]\rDNSP2020.dbc:  35%|███▌      | 9.57M/27.0M [00:12<00:19, 904kB/s]\rDNSP2020.dbc:  36%|███▌      | 9.70M/27.0M [00:12<00:19, 908kB/s]\rDNSP2020.dbc:  36%|███▋      | 9.83M/27.0M [00:12<00:19, 905kB/s]\rDNSP2020.dbc:  37%|███▋      | 9.96M/27.0M [00:13<00:18, 907kB/s]\rDNSP2020.dbc:  37%|███▋      | 10.1M/27.0M [00:13<00:18, 907kB/s]\rDNSP2020.dbc:  38%|███▊      | 10.2M/27.0M [00:13<00:18, 910kB/s]\rDNSP2020.dbc:  38%|███▊      | 10.4M/27.0M [00:13<00:18, 904kB/s]\rDNSP2020.dbc:  39%|███▉      | 10.5M/27.0M [00:13<00:18, 906kB/s]\rDNSP2020.dbc:  39%|███▉      | 10.6M/27.0M [00:13<00:18, 908kB/s]\rDNSP2020.dbc:  40%|███▉      | 10.7M/27.0M [00:13<00:18, 905kB/s]\rDNSP2020.dbc:  40%|████      | 10.9M/27.0M [00:14<00:17, 902kB/s]\rDNSP2020.dbc:  41%|████      | 11.0M/27.0M [00:14<00:17, 905kB/s]\rDNSP2020.dbc:  41%|████      | 11.1M/27.0M [00:14<00:17, 915kB/s]\rDNSP2020.dbc:  42%|████▏     | 11.3M/27.0M [00:14<00:17, 905kB/s]\rDNSP2020.dbc:  42%|████▏     | 11.4M/27.0M [00:14<00:17, 907kB/s]\rDNSP2020.dbc:  43%|████▎     | 11.5M/27.0M [00:14<00:17, 901kB/s]\rDNSP2020.dbc:  43%|████▎     | 11.6M/27.0M [00:14<00:18, 827kB/s]\rDNSP2020.dbc:  43%|████▎     | 11.7M/27.0M [00:15<00:20, 763kB/s]\rDNSP2020.dbc:  44%|████▎     | 11.8M/27.0M [00:15<00:21, 694kB/s]\rDNSP2020.dbc:  44%|████▍     | 11.9M/27.0M [00:15<00:19, 762kB/s]\rDNSP2020.dbc:  45%|████▍     | 12.1M/27.0M [00:15<00:18, 802kB/s]\rDNSP2020.dbc:  45%|████▌     | 12.2M/27.0M [00:15<00:17, 837kB/s]\rDNSP2020.dbc:  46%|████▌     | 12.3M/27.0M [00:15<00:17, 848kB/s]\rDNSP2020.dbc:  46%|████▌     | 12.5M/27.0M [00:15<00:16, 866kB/s]\rDNSP2020.dbc:  47%|████▋     | 12.6M/27.0M [00:16<00:16, 881kB/s]\rDNSP2020.dbc:  47%|████▋     | 12.7M/27.0M [00:16<00:16, 884kB/s]\rDNSP2020.dbc:  47%|████▋     | 12.8M/27.0M [00:16<00:15, 889kB/s]\rDNSP2020.dbc:  48%|████▊     | 13.0M/27.0M [00:16<00:15, 898kB/s]\rDNSP2020.dbc:  48%|████▊     | 13.1M/27.0M [00:16<00:15, 904kB/s]\rDNSP2020.dbc:  49%|████▉     | 13.2M/27.0M [00:16<00:15, 903kB/s]\rDNSP2020.dbc:  49%|████▉     | 13.4M/27.0M [00:16<00:15, 899kB/s]\rDNSP2020.dbc:  50%|████▉     | 13.5M/27.0M [00:17<00:14, 905kB/s]\rDNSP2020.dbc:  50%|█████     | 13.6M/27.0M [00:17<00:14, 904kB/s]\rDNSP2020.dbc:  51%|█████     | 13.8M/27.0M [00:17<00:14, 909kB/s]\rDNSP2020.dbc:  51%|█████▏    | 13.9M/27.0M [00:17<00:14, 919kB/s]\rDNSP2020.dbc:  52%|█████▏    | 14.0M/27.0M [00:17<00:14, 900kB/s]\rDNSP2020.dbc:  52%|█████▏    | 14.2M/27.0M [00:17<00:14, 903kB/s]\rDNSP2020.dbc:  53%|█████▎    | 14.3M/27.0M [00:17<00:14, 905kB/s]\rDNSP2020.dbc:  53%|█████▎    | 14.4M/27.0M [00:18<00:13, 918kB/s]\rDNSP2020.dbc:  54%|█████▍    | 14.6M/27.0M [00:18<00:13, 897kB/s]\rDNSP2020.dbc:  54%|█████▍    | 14.7M/27.0M [00:18<00:13, 900kB/s]\rDNSP2020.dbc:  55%|█████▍    | 14.8M/27.0M [00:18<00:13, 888kB/s]\rDNSP2020.dbc:  55%|█████▌    | 14.9M/27.0M [00:18<00:13, 897kB/s]\rDNSP2020.dbc:  56%|█████▌    | 15.1M/27.0M [00:18<00:13, 909kB/s]\rDNSP2020.dbc:  56%|█████▌    | 15.2M/27.0M [00:18<00:13, 897kB/s]\rDNSP2020.dbc:  57%|█████▋    | 15.3M/27.0M [00:19<00:12, 903kB/s]\rDNSP2020.dbc:  57%|█████▋    | 15.5M/27.0M [00:19<00:12, 914kB/s]\rDNSP2020.dbc:  58%|█████▊    | 15.6M/27.0M [00:19<00:12, 893kB/s]\rDNSP2020.dbc:  58%|█████▊    | 15.7M/27.0M [00:19<00:12, 898kB/s]\rDNSP2020.dbc:  59%|█████▊    | 15.9M/27.0M [00:19<00:12, 907kB/s]\rDNSP2020.dbc:  59%|█████▉    | 16.0M/27.0M [00:19<00:12, 903kB/s]\rDNSP2020.dbc:  60%|█████▉    | 16.1M/27.0M [00:20<00:12, 903kB/s]\rDNSP2020.dbc:  60%|██████    | 16.3M/27.0M [00:20<00:11, 908kB/s]\rDNSP2020.dbc:  61%|██████    | 16.4M/27.0M [00:20<00:11, 913kB/s]\rDNSP2020.dbc:  61%|██████    | 16.5M/27.0M [00:20<00:11, 903kB/s]\rDNSP2020.dbc:  62%|██████▏   | 16.6M/27.0M [00:20<00:11, 905kB/s]\rDNSP2020.dbc:  62%|██████▏   | 16.8M/27.0M [00:20<00:11, 903kB/s]\rDNSP2020.dbc:  63%|██████▎   | 16.9M/27.0M [00:20<00:11, 907kB/s]\rDNSP2020.dbc:  63%|██████▎   | 17.0M/27.0M [00:21<00:11, 894kB/s]\rDNSP2020.dbc:  63%|██████▎   | 17.2M/27.0M [00:21<00:11, 896kB/s]\rDNSP2020.dbc:  64%|██████▍   | 17.3M/27.0M [00:21<00:10, 914kB/s]\rDNSP2020.dbc:  64%|██████▍   | 17.4M/27.0M [00:21<00:10, 898kB/s]\rDNSP2020.dbc:  65%|██████▍   | 17.6M/27.0M [00:21<00:10, 902kB/s]\rDNSP2020.dbc:  65%|██████▌   | 17.7M/27.0M [00:21<00:10, 906kB/s]\rDNSP2020.dbc:  66%|██████▌   | 17.8M/27.0M [00:21<00:10, 900kB/s]\rDNSP2020.dbc:  66%|██████▋   | 18.0M/27.0M [00:22<00:10, 903kB/s]\rDNSP2020.dbc:  67%|██████▋   | 18.1M/27.0M [00:22<00:09, 902kB/s]\rDNSP2020.dbc:  67%|██████▋   | 18.2M/27.0M [00:22<00:09, 905kB/s]\rDNSP2020.dbc:  68%|██████▊   | 18.4M/27.0M [00:22<00:09, 907kB/s]\rDNSP2020.dbc:  68%|██████▊   | 18.5M/27.0M [00:22<00:09, 915kB/s]\rDNSP2020.dbc:  69%|██████▉   | 18.6M/27.0M [00:22<00:09, 902kB/s]\rDNSP2020.dbc:  69%|██████▉   | 18.7M/27.0M [00:22<00:09, 907kB/s]\rDNSP2020.dbc:  70%|██████▉   | 18.9M/27.0M [00:23<00:08, 909kB/s]\rDNSP2020.dbc:  70%|███████   | 19.0M/27.0M [00:23<00:08, 906kB/s]\rDNSP2020.dbc:  71%|███████   | 19.1M/27.0M [00:23<00:08, 898kB/s]\rDNSP2020.dbc:  71%|███████   | 19.3M/27.0M [00:23<00:08, 899kB/s]\rDNSP2020.dbc:  72%|███████▏  | 19.4M/27.0M [00:23<00:08, 910kB/s]\rDNSP2020.dbc:  72%|███████▏  | 19.5M/27.0M [00:23<00:08, 898kB/s]\rDNSP2020.dbc:  73%|███████▎  | 19.7M/27.0M [00:23<00:08, 897kB/s]\rDNSP2020.dbc:  73%|███████▎  | 19.8M/27.0M [00:24<00:07, 913kB/s]\rDNSP2020.dbc:  74%|███████▎  | 19.9M/27.0M [00:24<00:07, 897kB/s]\rDNSP2020.dbc:  74%|███████▍  | 20.1M/27.0M [00:24<00:07, 901kB/s]\rDNSP2020.dbc:  75%|███████▍  | 20.2M/27.0M [00:24<00:07, 906kB/s]\rDNSP2020.dbc:  75%|███████▌  | 20.3M/27.0M [00:24<00:07, 914kB/s]\rDNSP2020.dbc:  76%|███████▌  | 20.4M/27.0M [00:24<00:07, 896kB/s]\rDNSP2020.dbc:  76%|███████▌  | 20.6M/27.0M [00:24<00:07, 903kB/s]\rDNSP2020.dbc:  77%|███████▋  | 20.7M/27.0M [00:25<00:07, 900kB/s]\rDNSP2020.dbc:  77%|███████▋  | 20.8M/27.0M [00:25<00:06, 903kB/s]\rDNSP2020.dbc:  78%|███████▊  | 21.0M/27.0M [00:25<00:06, 905kB/s]\rDNSP2020.dbc:  78%|███████▊  | 21.1M/27.0M [00:25<00:06, 903kB/s]\rDNSP2020.dbc:  79%|███████▊  | 21.2M/27.0M [00:25<00:06, 919kB/s]\rDNSP2020.dbc:  79%|███████▉  | 21.4M/27.0M [00:25<00:06, 899kB/s]\rDNSP2020.dbc:  79%|███████▉  | 21.5M/27.0M [00:25<00:06, 897kB/s]\rDNSP2020.dbc:  80%|███████▉  | 21.6M/27.0M [00:26<00:05, 909kB/s]\rDNSP2020.dbc:  80%|████████  | 21.8M/27.0M [00:26<00:05, 899kB/s]\rDNSP2020.dbc:  81%|████████  | 21.9M/27.0M [00:26<00:05, 910kB/s]\rDNSP2020.dbc:  81%|████████▏ | 22.0M/27.0M [00:26<00:05, 886kB/s]\rDNSP2020.dbc:  82%|████████▏ | 22.2M/27.0M [00:26<00:05, 891kB/s]\rDNSP2020.dbc:  82%|████████▏ | 22.3M/27.0M [00:26<00:05, 884kB/s]\rDNSP2020.dbc:  83%|████████▎ | 22.4M/27.0M [00:26<00:05, 891kB/s]\rDNSP2020.dbc:  83%|████████▎ | 22.5M/27.0M [00:27<00:05, 899kB/s]\rDNSP2020.dbc:  84%|████████▍ | 22.7M/27.0M [00:27<00:04, 899kB/s]\rDNSP2020.dbc:  84%|████████▍ | 22.8M/27.0M [00:27<00:04, 902kB/s]\rDNSP2020.dbc:  85%|████████▍ | 22.9M/27.0M [00:27<00:04, 912kB/s]\rDNSP2020.dbc:  85%|████████▌ | 23.1M/27.0M [00:27<00:04, 911kB/s]\rDNSP2020.dbc:  86%|████████▌ | 23.2M/27.0M [00:27<00:04, 903kB/s]\rDNSP2020.dbc:  86%|████████▋ | 23.3M/27.0M [00:27<00:04, 902kB/s]\rDNSP2020.dbc:  87%|████████▋ | 23.5M/27.0M [00:28<00:03, 901kB/s]\rDNSP2020.dbc:  87%|████████▋ | 23.6M/27.0M [00:28<00:03, 906kB/s]\rDNSP2020.dbc:  88%|████████▊ | 23.7M/27.0M [00:28<00:03, 916kB/s]\rDNSP2020.dbc:  88%|████████▊ | 23.9M/27.0M [00:28<00:03, 911kB/s]\rDNSP2020.dbc:  89%|████████▊ | 24.0M/27.0M [00:28<00:03, 897kB/s]\rDNSP2020.dbc:  89%|████████▉ | 24.1M/27.0M [00:28<00:03, 900kB/s]\rDNSP2020.dbc:  90%|████████▉ | 24.2M/27.0M [00:29<00:03, 903kB/s]\rDNSP2020.dbc:  90%|█████████ | 24.4M/27.0M [00:29<00:02, 908kB/s]\rDNSP2020.dbc:  91%|█████████ | 24.5M/27.0M [00:29<00:02, 917kB/s]\rDNSP2020.dbc:  91%|█████████ | 24.6M/27.0M [00:29<00:02, 906kB/s]\rDNSP2020.dbc:  92%|█████████▏| 24.8M/27.0M [00:29<00:02, 906kB/s]\rDNSP2020.dbc:  92%|█████████▏| 24.9M/27.0M [00:29<00:02, 906kB/s]\rDNSP2020.dbc:  93%|█████████▎| 25.0M/27.0M [00:29<00:02, 905kB/s]\rDNSP2020.dbc:  93%|█████████▎| 25.2M/27.0M [00:30<00:02, 906kB/s]\rDNSP2020.dbc:  94%|█████████▎| 25.3M/27.0M [00:30<00:01, 908kB/s]\rDNSP2020.dbc:  94%|█████████▍| 25.4M/27.0M [00:30<00:01, 919kB/s]\rDNSP2020.dbc:  95%|█████████▍| 25.6M/27.0M [00:30<00:01, 905kB/s]\rDNSP2020.dbc:  95%|█████████▍| 25.7M/27.0M [00:30<00:01, 905kB/s]\rDNSP2020.dbc:  95%|█████████▌| 25.8M/27.0M [00:30<00:01, 903kB/s]\rDNSP2020.dbc:  96%|█████████▌| 26.0M/27.0M [00:30<00:01, 901kB/s]\rDNSP2020.dbc:  96%|█████████▋| 26.1M/27.0M [00:31<00:01, 909kB/s]\rDNSP2020.dbc:  97%|█████████▋| 26.2M/27.0M [00:31<00:00, 915kB/s]\rDNSP2020.dbc:  97%|█████████▋| 26.3M/27.0M [00:31<00:00, 902kB/s]\rDNSP2020.dbc:  98%|█████████▊| 26.5M/27.0M [00:31<00:00, 917kB/s]\rDNSP2020.dbc:  98%|█████████▊| 26.6M/27.0M [00:31<00:00, 900kB/s]\rDNSP2020.dbc:  99%|█████████▉| 26.7M/27.0M [00:31<00:00, 902kB/s]\rDNSP2020.dbc:  99%|█████████▉| 26.9M/27.0M [00:31<00:00, 906kB/s]\rDNSP2020.dbc: 100%|█████████▉| 27.0M/27.0M [00:32<00:00, 903kB/s]\rDNSP2020.dbc:   0%|          | 0.00/1.00 [00:00<?, ?B/s]         \rDNSP2020.dbf:   0%|          | 0.00/1.00 [00:00<?, ?B/s]\rDNSP2020.dbf:   0%|          | 0.00/619k [00:00<?, ?B/s]\rDNSP2020.parquet:   0%|          | 0.00/619k [00:00<?, ?B/s]\rDNSP2020.parquet:  19%|█▉        | 120k/619k [00:08<00:34, 14.5kB/s]\rDNSP2020.parquet:  24%|██▍       | 150k/619k [00:09<00:30, 15.3kB/s]\rDNSP2020.parquet:  29%|██▉       | 180k/619k [00:11<00:27, 16.1kB/s]\rDNSP2020.parquet:  34%|███▍      | 210k/619k [00:13<00:24, 16.9kB/s]\rDNSP2020.parquet:  39%|███▉      | 240k/619k [00:14<00:21, 17.4kB/s]\rDNSP2020.parquet:  44%|████▎     | 270k/619k [00:16<00:19, 18.2kB/s]\rDNSP2020.parquet:  48%|████▊     | 300k/619k [00:17<00:17, 17.9kB/s]\rDNSP2020.parquet:  53%|█████▎    | 330k/619k [00:19<00:15, 18.2kB/s]\rDNSP2020.parquet:  58%|█████▊    | 360k/619k [00:21<00:14, 18.0kB/s]\rDNSP2020.parquet:  63%|██████▎   | 390k/619k [00:22<00:12, 18.4kB/s]\rDNSP2020.parquet:  68%|██████▊   | 420k/619k [00:24<00:10, 19.1kB/s]\rDNSP2020.parquet:  73%|███████▎  | 450k/619k [00:25<00:09, 18.6kB/s]\rDNSP2020.parquet:  78%|███████▊  | 480k/619k [00:27<00:07, 19.1kB/s]\rDNSP2020.parquet:  82%|████████▏ | 510k/619k [00:28<00:05, 19.4kB/s]\rDNSP2020.parquet:  87%|████████▋ | 540k/619k [00:30<00:04, 18.8kB/s]\rDNSP2020.parquet:  92%|█████████▏| 570k/619k [00:31<00:02, 20.2kB/s]\rDNSP2020.parquet: 100%|██████████| 619k/619k [00:32<00:00, 30.3kB/s]\rDNSP2020.parquet: 100%|██████████| 619k/619k [00:32<00:00, 19.2kB/s]\n"
     ]
    },
    {
     "output_type": "stream",
     "name": "stdout",
     "output_type": "stream",
     "text": [
      "✅ Spark dataframe created and saved: sudeste_2020 (1052399 records)\n"
     ]
    },
    {
     "output_type": "stream",
     "name": "stderr",
     "output_type": "stream",
     "text": [
      "\r  0%|          | 0/1 [00:00<?, ?it/s]\r  0%|          | 0.00/7.35M [00:00<?, ?B/s]\rDNPR2020.dbc:   0%|          | 0.00/7.35M [00:00<?, ?B/s]\rDNPR2020.dbc:   0%|          | 1.45k/7.35M [00:01<1:59:01, 1.03kB/s]\rDNPR2020.dbc:   0%|          | 7.24k/7.35M [00:01<20:19, 6.03kB/s]  \rDNPR2020.dbc:   0%|          | 18.8k/7.35M [00:01<06:59, 17.5kB/s]\rDNPR2020.dbc:   1%|          | 43.4k/7.35M [00:01<02:42, 45.1kB/s]\rDNPR2020.dbc:   1%|          | 86.9k/7.35M [00:01<01:14, 97.4kB/s]\rDNPR2020.dbc:   2%|▏         | 149k/7.35M [00:02<00:42, 171kB/s]  \rDNPR2020.dbc:   4%|▎         | 260k/7.35M [00:02<00:22, 317kB/s]\rDNPR2020.dbc:   4%|▍         | 329k/7.35M [00:02<00:19, 358kB/s]\rDNPR2020.dbc:   6%|▋         | 463k/7.35M [00:02<00:13, 509kB/s]\rDNPR2020.dbc:   8%|▊         | 591k/7.35M [00:02<00:11, 611kB/s]\rDNPR2020.dbc:  10%|▉         | 729k/7.35M [00:02<00:09, 704kB/s]\rDNPR2020.dbc:  12%|█▏        | 853k/7.35M [00:03<00:08, 747kB/s]\rDNPR2020.dbc:  13%|█▎        | 984k/7.35M [00:03<00:08, 789kB/s]\rDNPR2020.dbc:  15%|█▌        | 1.12M/7.35M [00:03<00:07, 824kB/s]\rDNPR2020.dbc:  17%|█▋        | 1.25M/7.35M [00:03<00:07, 843kB/s]\rDNPR2020.dbc:  19%|█▊        | 1.38M/7.35M [00:03<00:06, 858kB/s]\rDNPR2020.dbc:  21%|██        | 1.51M/7.35M [00:03<00:06, 869kB/s]\rDNPR2020.dbc:  22%|██▏       | 1.64M/7.35M [00:03<00:06, 878kB/s]\rDNPR2020.dbc:  24%|██▍       | 1.77M/7.35M [00:04<00:06, 879kB/s]\rDNPR2020.dbc:  26%|██▌       | 1.91M/7.35M [00:04<00:06, 893kB/s]\rDNPR2020.dbc:  28%|██▊       | 2.03M/7.35M [00:04<00:06, 872kB/s]\rDNPR2020.dbc:  30%|██▉       | 2.17M/7.35M [00:04<00:05, 893kB/s]\rDNPR2020.dbc:  31%|███       | 2.30M/7.35M [00:04<00:05, 883kB/s]\rDNPR2020.dbc:  33%|███▎      | 2.43M/7.35M [00:04<00:05, 884kB/s]\rDNPR2020.dbc:  35%|███▍      | 2.56M/7.35M [00:04<00:05, 888kB/s]\rDNPR2020.dbc:  37%|███▋      | 2.69M/7.35M [00:05<00:05, 891kB/s]\rDNPR2020.dbc:  38%|███▊      | 2.82M/7.35M [00:05<00:05, 894kB/s]\rDNPR2020.dbc:  40%|████      | 2.95M/7.35M [00:05<00:04, 895kB/s]\rDNPR2020.dbc:  42%|████▏     | 3.08M/7.35M [00:05<00:04, 894kB/s]\rDNPR2020.dbc:  44%|████▍     | 3.22M/7.35M [00:05<00:04, 906kB/s]\rDNPR2020.dbc:  45%|████▌     | 3.34M/7.35M [00:05<00:04, 889kB/s]\rDNPR2020.dbc:  47%|████▋     | 3.47M/7.35M [00:05<00:04, 891kB/s]\rDNPR2020.dbc:  49%|████▉     | 3.61M/7.35M [00:06<00:04, 891kB/s]\rDNPR2020.dbc:  51%|█████     | 3.74M/7.35M [00:06<00:04, 890kB/s]\rDNPR2020.dbc:  53%|█████▎    | 3.87M/7.35M [00:06<00:03, 892kB/s]\rDNPR2020.dbc:  54%|█████▍    | 4.00M/7.35M [00:06<00:03, 894kB/s]\rDNPR2020.dbc:  56%|█████▌    | 4.13M/7.35M [00:06<00:03, 895kB/s]\rDNPR2020.dbc:  58%|█████▊    | 4.27M/7.35M [00:06<00:03, 907kB/s]\rDNPR2020.dbc:  60%|█████▉    | 4.39M/7.35M [00:06<00:03, 887kB/s]\rDNPR2020.dbc:  62%|██████▏   | 4.53M/7.35M [00:07<00:03, 901kB/s]\rDNPR2020.dbc:  63%|██████▎   | 4.65M/7.35M [00:07<00:03, 879kB/s]\rDNPR2020.dbc:  65%|██████▌   | 4.79M/7.35M [00:07<00:02, 891kB/s]\rDNPR2020.dbc:  67%|██████▋   | 4.92M/7.35M [00:07<00:02, 877kB/s]\rDNPR2020.dbc:  69%|██████▊   | 5.05M/7.35M [00:07<00:02, 882kB/s]\rDNPR2020.dbc:  70%|███████   | 5.18M/7.35M [00:07<00:02, 889kB/s]\rDNPR2020.dbc:  72%|███████▏  | 5.31M/7.35M [00:08<00:02, 890kB/s]\rDNPR2020.dbc:  74%|███████▍  | 5.45M/7.35M [00:08<00:02, 904kB/s]\rDNPR2020.dbc:  76%|███████▌  | 5.58M/7.35M [00:08<00:01, 896kB/s]\rDNPR2020.dbc:  78%|███████▊  | 5.70M/7.35M [00:08<00:01, 884kB/s]\rDNPR2020.dbc:  79%|███████▉  | 5.83M/7.35M [00:08<00:01, 889kB/s]\rDNPR2020.dbc:  81%|████████  | 5.97M/7.35M [00:08<00:01, 889kB/s]\rDNPR2020.dbc:  83%|████████▎ | 6.10M/7.35M [00:08<00:01, 896kB/s]\rDNPR2020.dbc:  85%|████████▍ | 6.23M/7.35M [00:09<00:01, 878kB/s]\rDNPR2020.dbc:  86%|████████▋ | 6.36M/7.35M [00:09<00:01, 885kB/s]\rDNPR2020.dbc:  88%|████████▊ | 6.49M/7.35M [00:09<00:00, 889kB/s]\rDNPR2020.dbc:  90%|█████████ | 6.62M/7.35M [00:09<00:00, 892kB/s]\rDNPR2020.dbc:  92%|█████████▏| 6.75M/7.35M [00:09<00:00, 893kB/s]\rDNPR2020.dbc:  94%|█████████▎| 6.88M/7.35M [00:09<00:00, 895kB/s]\rDNPR2020.dbc:  95%|█████████▌| 7.01M/7.35M [00:09<00:00, 896kB/s]\rDNPR2020.dbc:  97%|█████████▋| 7.15M/7.35M [00:10<00:00, 903kB/s]\rDNPR2020.dbc:  99%|█████████▉| 7.28M/7.35M [00:10<00:00, 892kB/s]\rDNPR2020.dbc:   0%|          | 0.00/1.00 [00:00<?, ?B/s]         \rDNPR2020.dbf:   0%|          | 0.00/1.00 [00:00<?, ?B/s]\rDNPR2020.dbf:   0%|          | 0.00/164k [00:00<?, ?B/s]\rDNPR2020.parquet:   0%|          | 0.00/164k [00:00<?, ?B/s]\rDNPR2020.parquet:  55%|█████▍    | 90.0k/164k [00:03<00:02, 25.3kB/s]\rDNPR2020.parquet:  73%|███████▎  | 120k/164k [00:05<00:01, 22.8kB/s] \rDNPR2020.parquet:  92%|█████████▏| 150k/164k [00:06<00:00, 22.3kB/s]\rDNPR2020.parquet: 100%|██████████| 164k/164k [00:07<00:00, 20.2kB/s]\rDNPR2020.parquet: 100%|██████████| 164k/164k [00:07<00:00, 21.5kB/s]\n\r  0%|          | 0/1 [00:00<?, ?it/s]\r  0%|          | 0.00/6.53M [00:00<?, ?B/s]\rDNRS2020.dbc:   0%|          | 0.00/6.53M [00:00<?, ?B/s]\rDNRS2020.dbc:   0%|          | 1.45k/6.53M [00:01<1:40:17, 1.08kB/s]\rDNRS2020.dbc:   0%|          | 8.69k/6.53M [00:01<14:13, 7.64kB/s]  \rDNRS2020.dbc:   0%|          | 18.8k/6.53M [00:01<06:09, 17.6kB/s]\rDNRS2020.dbc:   1%|          | 43.4k/6.53M [00:01<02:20, 46.0kB/s]\rDNRS2020.dbc:   1%|▏         | 88.3k/6.53M [00:01<01:03, 101kB/s] \rDNRS2020.dbc:   2%|▏         | 152k/6.53M [00:02<00:35, 178kB/s] \rDNRS2020.dbc:   4%|▍         | 260k/6.53M [00:02<00:19, 326kB/s]\rDNRS2020.dbc:   5%|▌         | 331k/6.53M [00:02<00:17, 363kB/s]\rDNRS2020.dbc:   7%|▋         | 460k/6.53M [00:02<00:12, 503kB/s]\rDNRS2020.dbc:   9%|▉         | 598k/6.53M [00:02<00:09, 626kB/s]\rDNRS2020.dbc:  11%|█         | 729k/6.53M [00:02<00:08, 701kB/s]\rDNRS2020.dbc:  13%|█▎        | 859k/6.53M [00:02<00:07, 755kB/s]\rDNRS2020.dbc:  15%|█▌        | 984k/6.53M [00:03<00:07, 784kB/s]\rDNRS2020.dbc:  16%|█▋        | 1.07M/6.53M [00:03<00:07, 703kB/s]\rDNRS2020.dbc:  17%|█▋        | 1.14M/6.53M [00:03<00:08, 643kB/s]\rDNRS2020.dbc:  19%|█▉        | 1.25M/6.53M [00:03<00:07, 674kB/s]\rDNRS2020.dbc:  21%|██        | 1.38M/6.53M [00:03<00:06, 736kB/s]\rDNRS2020.dbc:  23%|██▎       | 1.51M/6.53M [00:03<00:06, 793kB/s]\rDNRS2020.dbc:  25%|██▌       | 1.64M/6.53M [00:03<00:06, 808kB/s]\rDNRS2020.dbc:  27%|██▋       | 1.77M/6.53M [00:04<00:05, 831kB/s]\rDNRS2020.dbc:  29%|██▉       | 1.90M/6.53M [00:04<00:05, 852kB/s]\rDNRS2020.dbc:  31%|███       | 2.03M/6.53M [00:04<00:05, 861kB/s]\rDNRS2020.dbc:  33%|███▎      | 2.17M/6.53M [00:04<00:05, 868kB/s]\rDNRS2020.dbc:  35%|███▌      | 2.30M/6.53M [00:04<00:04, 869kB/s]\rDNRS2020.dbc:  37%|███▋      | 2.43M/6.53M [00:04<00:04, 876kB/s]\rDNRS2020.dbc:  39%|███▉      | 2.56M/6.53M [00:05<00:04, 880kB/s]\rDNRS2020.dbc:  41%|████      | 2.69M/6.53M [00:05<00:04, 883kB/s]\rDNRS2020.dbc:  43%|████▎     | 2.82M/6.53M [00:05<00:04, 884kB/s]\rDNRS2020.dbc:  45%|████▌     | 2.95M/6.53M [00:05<00:04, 889kB/s]\rDNRS2020.dbc:  47%|████▋     | 3.08M/6.53M [00:05<00:03, 879kB/s]\rDNRS2020.dbc:  49%|████▉     | 3.21M/6.53M [00:05<00:03, 886kB/s]\rDNRS2020.dbc:  51%|█████     | 3.34M/6.53M [00:05<00:03, 884kB/s]\rDNRS2020.dbc:  53%|█████▎    | 3.48M/6.53M [00:06<00:03, 900kB/s]\rDNRS2020.dbc:  55%|█████▌    | 3.61M/6.53M [00:06<00:03, 897kB/s]\rDNRS2020.dbc:  57%|█████▋    | 3.74M/6.53M [00:06<00:03, 892kB/s]\rDNRS2020.dbc:  59%|█████▉    | 3.87M/6.53M [00:06<00:02, 891kB/s]\rDNRS2020.dbc:  61%|██████▏   | 4.00M/6.53M [00:06<00:02, 885kB/s]\rDNRS2020.dbc:  63%|██████▎   | 4.14M/6.53M [00:06<00:02, 897kB/s]\rDNRS2020.dbc:  65%|██████▌   | 4.26M/6.53M [00:06<00:02, 885kB/s]\rDNRS2020.dbc:  67%|██████▋   | 4.39M/6.53M [00:07<00:02, 886kB/s]\rDNRS2020.dbc:  69%|██████▉   | 4.52M/6.53M [00:07<00:02, 889kB/s]\rDNRS2020.dbc:  71%|███████▏  | 4.66M/6.53M [00:07<00:02, 889kB/s]\rDNRS2020.dbc:  73%|███████▎  | 4.79M/6.53M [00:07<00:01, 899kB/s]\rDNRS2020.dbc:  75%|███████▌  | 4.92M/6.53M [00:07<00:01, 893kB/s]\rDNRS2020.dbc:  77%|███████▋  | 5.05M/6.53M [00:07<00:01, 880kB/s]\rDNRS2020.dbc:  79%|███████▉  | 5.18M/6.53M [00:07<00:01, 885kB/s]\rDNRS2020.dbc:  81%|████████▏ | 5.31M/6.53M [00:08<00:01, 888kB/s]\rDNRS2020.dbc:  83%|████████▎ | 5.44M/6.53M [00:08<00:01, 887kB/s]\rDNRS2020.dbc:  85%|████████▌ | 5.58M/6.53M [00:08<00:01, 901kB/s]\rDNRS2020.dbc:  87%|████████▋ | 5.70M/6.53M [00:08<00:00, 885kB/s]\rDNRS2020.dbc:  89%|████████▉ | 5.83M/6.53M [00:08<00:00, 888kB/s]\rDNRS2020.dbc:  91%|█████████▏| 5.97M/6.53M [00:08<00:00, 893kB/s]\rDNRS2020.dbc:  94%|█████████▎| 6.10M/6.53M [00:08<00:00, 901kB/s]\rDNRS2020.dbc:  95%|█████████▌| 6.23M/6.53M [00:09<00:00, 896kB/s]\rDNRS2020.dbc:  97%|█████████▋| 6.36M/6.53M [00:09<00:00, 880kB/s]\rDNRS2020.dbc:  99%|█████████▉| 6.49M/6.53M [00:09<00:00, 881kB/s]\rDNRS2020.dbc:   0%|          | 0.00/1.00 [00:00<?, ?B/s]         \rDNRS2020.dbf:   0%|          | 0.00/1.00 [00:00<?, ?B/s]\rDNRS2020.dbf:   0%|          | 0.00/146k [00:00<?, ?B/s]\rDNRS2020.parquet:   0%|          | 0.00/146k [00:00<?, ?B/s]\rDNRS2020.parquet:  61%|██████▏   | 90.0k/146k [00:03<00:02, 24.7kB/s]\rDNRS2020.parquet:  82%|████████▏ | 120k/146k [00:05<00:01, 22.6kB/s] \rDNRS2020.parquet: : 150kB [00:06, 23.5kB/s]                         \rDNRS2020.parquet: 100%|██████████| 146k/146k [00:06<00:00, 21.4kB/s]\n\r  0%|          | 0/1 [00:00<?, ?it/s]\r  0%|          | 0.00/4.88M [00:00<?, ?B/s]\rDNSC2020.dbc:   0%|          | 0.00/4.88M [00:00<?, ?B/s]\rDNSC2020.dbc:   0%|          | 1.45k/4.88M [00:01<1:13:48, 1.10kB/s]\rDNSC2020.dbc:   0%|          | 7.24k/4.88M [00:01<12:42, 6.39kB/s]  \rDNSC2020.dbc:   0%|          | 20.3k/4.88M [00:01<04:03, 19.9kB/s]\rDNSC2020.dbc:   1%|          | 42.0k/4.88M [00:01<01:48, 44.4kB/s]\rDNSC2020.dbc:   2%|▏         | 88.3k/4.88M [00:01<00:46, 103kB/s] \rDNSC2020.dbc:   3%|▎         | 153k/4.88M [00:02<00:25, 183kB/s] \rDNSC2020.dbc:   5%|▌         | 264k/4.88M [00:02<00:14, 326kB/s]\rDNSC2020.dbc:   8%|▊         | 401k/4.88M [00:02<00:09, 452kB/s]\rDNSC2020.dbc:  11%|█         | 526k/4.88M [00:02<00:07, 555kB/s]\rDNSC2020.dbc:  14%|█▎        | 664k/4.88M [00:02<00:06, 659kB/s]\rDNSC2020.dbc:  16%|█▌        | 791k/4.88M [00:02<00:05, 720kB/s]\rDNSC2020.dbc:  19%|█▉        | 919k/4.88M [00:02<00:05, 765kB/s]\rDNSC2020.dbc:  22%|██▏       | 1.05M/4.88M [00:03<00:04, 803kB/s]\rDNSC2020.dbc:  23%|██▎       | 1.14M/4.88M [00:03<00:05, 732kB/s]\rDNSC2020.dbc:  25%|██▍       | 1.21M/4.88M [00:03<00:05, 664kB/s]\rDNSC2020.dbc:  27%|██▋       | 1.31M/4.88M [00:03<00:05, 672kB/s]\rDNSC2020.dbc:  30%|██▉       | 1.44M/4.88M [00:03<00:04, 738kB/s]\rDNSC2020.dbc:  32%|███▏      | 1.57M/4.88M [00:03<00:04, 786kB/s]\rDNSC2020.dbc:  35%|███▍      | 1.71M/4.88M [00:03<00:03, 822kB/s]\rDNSC2020.dbc:  38%|███▊      | 1.84M/4.88M [00:04<00:03, 846kB/s]\rDNSC2020.dbc:  40%|████      | 1.97M/4.88M [00:04<00:03, 845kB/s]\rDNSC2020.dbc:  43%|████▎     | 2.10M/4.88M [00:04<00:03, 863kB/s]\rDNSC2020.dbc:  46%|████▌     | 2.23M/4.88M [00:04<00:03, 870kB/s]\rDNSC2020.dbc:  48%|████▊     | 2.36M/4.88M [00:04<00:02, 879kB/s]\rDNSC2020.dbc:  51%|█████     | 2.49M/4.88M [00:04<00:02, 884kB/s]\rDNSC2020.dbc:  54%|█████▍    | 2.62M/4.88M [00:05<00:02, 888kB/s]\rDNSC2020.dbc:  56%|█████▋    | 2.76M/4.88M [00:05<00:02, 895kB/s]\rDNSC2020.dbc:  59%|█████▉    | 2.89M/4.88M [00:05<00:02, 892kB/s]\rDNSC2020.dbc:  62%|██████▏   | 3.02M/4.88M [00:05<00:02, 891kB/s]\rDNSC2020.dbc:  65%|██████▍   | 3.15M/4.88M [00:05<00:01, 894kB/s]\rDNSC2020.dbc:  67%|██████▋   | 3.28M/4.88M [00:05<00:01, 890kB/s]\rDNSC2020.dbc:  70%|██████▉   | 3.41M/4.88M [00:05<00:01, 893kB/s]\rDNSC2020.dbc:  73%|███████▎  | 3.54M/4.88M [00:06<00:01, 894kB/s]\rDNSC2020.dbc:  75%|███████▌  | 3.68M/4.88M [00:06<00:01, 891kB/s]\rDNSC2020.dbc:  78%|███████▊  | 3.80M/4.88M [00:06<00:01, 883kB/s]\rDNSC2020.dbc:  81%|████████  | 3.93M/4.88M [00:06<00:01, 887kB/s]\rDNSC2020.dbc:  83%|████████▎ | 4.06M/4.88M [00:06<00:00, 891kB/s]\rDNSC2020.dbc:  86%|████████▌ | 4.20M/4.88M [00:06<00:00, 892kB/s]\rDNSC2020.dbc:  89%|████████▊ | 4.33M/4.88M [00:06<00:00, 894kB/s]\rDNSC2020.dbc:  91%|█████████▏| 4.46M/4.88M [00:07<00:00, 894kB/s]\rDNSC2020.dbc:  94%|█████████▍| 4.59M/4.88M [00:07<00:00, 895kB/s]\rDNSC2020.dbc:  97%|█████████▋| 4.72M/4.88M [00:07<00:00, 896kB/s]\rDNSC2020.dbc:  99%|█████████▉| 4.85M/4.88M [00:07<00:00, 896kB/s]\rDNSC2020.dbc:   0%|          | 0.00/1.00 [00:00<?, ?B/s]         \rDNSC2020.dbf:   0%|          | 0.00/1.00 [00:00<?, ?B/s]\rDNSC2020.dbf:   0%|          | 0.00/110k [00:00<?, ?B/s]\rDNSC2020.parquet:   0%|          | 0.00/110k [00:00<?, ?B/s]\rDNSC2020.parquet:  82%|████████▏ | 90.0k/110k [00:03<00:00, 24.8kB/s]\rDNSC2020.parquet: : 120kB [00:04, 25.0kB/s]                          \rDNSC2020.parquet: 100%|██████████| 110k/110k [00:05<00:00, 21.4kB/s]\n"
     ]
    },
    {
     "output_type": "stream",
     "name": "stdout",
     "output_type": "stream",
     "text": [
      "✅ Spark dataframe created and saved: sul_2020 (374949 records)\n"
     ]
    }
   ],
   "source": [
    "# states by region\n",
    "regions = {\n",
    "    \"norte\": [\"AC\", \"AP\", \"AM\", \"PA\", \"RO\", \"RR\", \"TO\"],\n",
    "    \"nordeste\": [\"AL\", \"BA\", \"CE\", \"MA\", \"PB\", \"PE\", \"PI\", \"RN\", \"SE\"],\n",
    "    \"centro_oeste\": [\"DF\", \"GO\", \"MT\", \"MS\"],\n",
    "    \"sudeste\": [\"ES\", \"MG\", \"RJ\", \"SP\"],\n",
    "    \"sul\": [\"PR\", \"RS\", \"SC\"]\n",
    "}\n",
    "\n",
    "years = [2020]\n",
    "\n",
    "# loop for state and years\n",
    "dfs_region_year = {}\n",
    "\n",
    "for region, states in regions.items():\n",
    "    for year in years:\n",
    "        dfs_spark = []\n",
    "        \n",
    "        for state in states:\n",
    "            # pandas -> spark\n",
    "            df_pd = download(groups='DN', states=state, years=year).to_dataframe()\n",
    "            df_pd['STATE'] = state\n",
    "            df_pd['YEAR'] = year\n",
    "            dfs_spark.append(spark.createDataFrame(df_pd))\n",
    "        \n",
    "        # concatenate all states in the region in the year\n",
    "        df_spark_region_year = reduce(\n",
    "            lambda df1, df2: df1.unionByName(df2, allowMissingColumns=True), \n",
    "            dfs_spark\n",
    "        )\n",
    "        \n",
    "        # save in dictionary with clear name\n",
    "        key = f\"{region}_{year}\"\n",
    "        dfs_region_year[key] = df_spark_region_year\n",
    "        \n",
    "        table_name = f\"workspace.triggo.{key}_raw\"\n",
    "        df_spark_region_year.write.format(\"delta\").mode(\"overwrite\").saveAsTable(table_name)\n",
    "        \n",
    "        print(f\"✅ Spark dataframe created and saved: {key} ({df_spark_region_year.count()} records)\")\n",
    "\n"
   ]
  },
  {
   "cell_type": "code",
   "execution_count": 0,
   "metadata": {
    "application/vnd.databricks.v1+cell": {
     "cellMetadata": {
      "byteLimit": 2048000,
      "rowLimit": 10000
     },
     "inputWidgets": {},
     "nuid": "da61d790-7e73-4a75-b201-7886bb585364",
     "showTitle": false,
     "tableResultSettingsMap": {},
     "title": ""
    }
   },
   "outputs": [
    {
     "output_type": "display_data",
     "data": {
      "text/html": [
       "<style scoped>\n",
       "  .table-result-container {\n",
       "    max-height: 300px;\n",
       "    overflow: auto;\n",
       "  }\n",
       "  table, th, td {\n",
       "    border: 1px solid black;\n",
       "    border-collapse: collapse;\n",
       "  }\n",
       "  th, td {\n",
       "    padding: 5px;\n",
       "  }\n",
       "  th {\n",
       "    text-align: left;\n",
       "  }\n",
       "</style><div class='table-result-container'><table class='table-result'><thead style='background-color: white'><tr><th>ORIGEM</th><th>CODESTAB</th><th>CODMUNNASC</th><th>LOCNASC</th><th>IDADEMAE</th><th>ESTCIVMAE</th><th>ESCMAE</th><th>CODOCUPMAE</th><th>QTDFILVIVO</th><th>QTDFILMORT</th><th>CODMUNRES</th><th>GESTACAO</th><th>GRAVIDEZ</th><th>PARTO</th><th>CONSULTAS</th><th>DTNASC</th><th>HORANASC</th><th>SEXO</th><th>APGAR1</th><th>APGAR5</th><th>RACACOR</th><th>PESO</th><th>IDANOMAL</th><th>DTCADASTRO</th><th>CODANOMAL</th><th>NUMEROLOTE</th><th>VERSAOSIST</th><th>DTRECEBIM</th><th>DIFDATA</th><th>DTRECORIGA</th><th>NATURALMAE</th><th>CODMUNNATU</th><th>CODUFNATU</th><th>ESCMAE2010</th><th>SERIESCMAE</th><th>DTNASCMAE</th><th>RACACORMAE</th><th>QTDGESTANT</th><th>QTDPARTNOR</th><th>QTDPARTCES</th><th>IDADEPAI</th><th>DTULTMENST</th><th>SEMAGESTAC</th><th>TPMETESTIM</th><th>CONSPRENAT</th><th>MESPRENAT</th><th>TPAPRESENT</th><th>STTRABPART</th><th>STCESPARTO</th><th>TPNASCASSI</th><th>TPFUNCRESP</th><th>TPDOCRESP</th><th>DTDECLARAC</th><th>ESCMAEAGR1</th><th>STDNEPIDEM</th><th>STDNNOVA</th><th>CODPAISRES</th><th>TPROBSON</th><th>PARIDADE</th><th>KOTELCHUCK</th><th>CONTADOR</th><th>STATE</th><th>YEAR</th></tr></thead><tbody><tr><td>1</td><td>6943284</td><td>350320 </td><td>1</td><td>35</td><td>2</td><td>4</td><td>421125</td><td>03</td><td>00</td><td>350320</td><td>4</td><td>2</td><td>2</td><td>4</td><td>09092020</td><td>0144 </td><td>1</td><td>09</td><td>10</td><td>1</td><td>2240</td><td>2</td><td>21092020</td><td></td><td>20200018</td><td>3.2.01 </td><td>30092020</td><td>021     </td><td></td><td>835</td><td>350320 </td><td>35</td><td>3</td><td>3</td><td>26121984</td><td>1</td><td>03</td><td>03</td><td>00</td><td>31</td><td>29122019</td><td>36</td><td>8 </td><td>09</td><td>03</td><td>2 </td><td>2</td><td>1</td><td>1 </td><td>2</td><td>4</td><td>09092020</td><td>06</td><td>0</td><td>1</td><td>1  </td><td>08</td><td>1         </td><td>5</td><td>2180909 </td><td>SP</td><td>2020</td></tr><tr><td>1</td><td>3625087</td><td>350320 </td><td>1</td><td>36</td><td>5</td><td>5</td><td>422105</td><td>00</td><td>02</td><td>350320</td><td>5</td><td>1</td><td>2</td><td>4</td><td>17092020</td><td>0732 </td><td>1</td><td>10</td><td>10</td><td>1</td><td>4245</td><td>2</td><td>21092020</td><td></td><td>20200018</td><td>3.2.01 </td><td>30092020</td><td>013     </td><td></td><td>835</td><td>350320 </td><td>35</td><td>5</td><td></td><td>04061984</td><td>1</td><td>02</td><td>00</td><td>00</td><td>37</td><td>26122019</td><td>37</td><td>8 </td><td>10</td><td>01</td><td>1 </td><td>2</td><td>1</td><td>1 </td><td>2</td><td>4</td><td>17092020</td><td>08</td><td>0</td><td>1</td><td>1  </td><td>04</td><td>1         </td><td>5</td><td>2180910 </td><td>SP</td><td>2020</td></tr><tr><td>1</td><td>3625087</td><td>350320 </td><td>1</td><td>31</td><td>5</td><td>5</td><td>411010</td><td>00</td><td>00</td><td>350320</td><td>5</td><td>1</td><td>2</td><td>4</td><td>11092020</td><td>1518 </td><td>1</td><td>08</td><td>09</td><td>1</td><td>4030</td><td>2</td><td>21092020</td><td></td><td>20200018</td><td>3.2.01 </td><td>30092020</td><td>019     </td><td></td><td>835</td><td>350320 </td><td>35</td><td>5</td><td></td><td>13071989</td><td>1</td><td>00</td><td>00</td><td>00</td><td>28</td><td>06122019</td><td>39</td><td>8 </td><td>12</td><td>01</td><td>1 </td><td>2</td><td>2</td><td>1 </td><td>2</td><td>3</td><td>11092020</td><td>08</td><td>0</td><td>1</td><td>1  </td><td>01</td><td>0         </td><td>5</td><td>2180911 </td><td>SP</td><td>2020</td></tr><tr><td>1</td><td>3625087</td><td>350320 </td><td>1</td><td>33</td><td>5</td><td>4</td><td>141410</td><td>03</td><td>00</td><td>350320</td><td>5</td><td>1</td><td>2</td><td>4</td><td>11092020</td><td>0727 </td><td>1</td><td>09</td><td>10</td><td>3</td><td>3030</td><td>2</td><td>21092020</td><td></td><td>20200018</td><td>3.2.01 </td><td>30092020</td><td>019     </td><td></td><td></td><td></td><td></td><td>3</td><td>3</td><td>12051987</td><td>3</td><td>03</td><td>03</td><td>00</td><td>40</td><td>08122019</td><td>39</td><td>8 </td><td>07</td><td>02</td><td>1 </td><td>2</td><td>2</td><td>1 </td><td>2</td><td>3</td><td>11092020</td><td>06</td><td>0</td><td>1</td><td>1  </td><td>03</td><td>1         </td><td>5</td><td>2180912 </td><td>SP</td><td>2020</td></tr><tr><td>1</td><td>3625087</td><td>350320 </td><td>1</td><td>31</td><td>4</td><td>4</td><td>421125</td><td>00</td><td>00</td><td>350320</td><td>5</td><td>1</td><td>2</td><td>3</td><td>15092020</td><td>1635 </td><td>1</td><td>09</td><td>10</td><td>1</td><td>3650</td><td>2</td><td>21092020</td><td></td><td>20200018</td><td>3.2.01 </td><td>30092020</td><td>015     </td><td></td><td>842</td><td>421720 </td><td>42</td><td>3</td><td>3</td><td>20021989</td><td>1</td><td>00</td><td>00</td><td>00</td><td>46</td><td>23122019</td><td>37</td><td>8 </td><td>06</td><td>02</td><td>1 </td><td>2</td><td>2</td><td>1 </td><td>2</td><td>3</td><td>15092020</td><td>06</td><td>0</td><td>1</td><td>1  </td><td>01</td><td>0         </td><td>4</td><td>2180913 </td><td>SP</td><td>2020</td></tr></tbody></table></div>"
      ]
     },
     "metadata": {
      "application/vnd.databricks.v1+output": {
       "addedWidgets": {},
       "aggData": [],
       "aggError": "",
       "aggOverflow": false,
       "aggSchema": [],
       "aggSeriesLimitReached": false,
       "aggType": "",
       "arguments": {},
       "columnCustomDisplayInfos": {},
       "data": [
        [
         "1",
         "6943284",
         "350320 ",
         "1",
         "35",
         "2",
         "4",
         "421125",
         "03",
         "00",
         350320,
         "4",
         "2",
         "2",
         "4",
         "09092020",
         "0144 ",
         1,
         "09",
         "10",
         "1",
         "2240",
         "2",
         "21092020",
         "",
         "20200018",
         "3.2.01 ",
         "30092020",
         "021     ",
         "",
         "835",
         "350320 ",
         "35",
         "3",
         "3",
         "26121984",
         "1",
         "03",
         "03",
         "00",
         "31",
         "29122019",
         "36",
         "8 ",
         "09",
         "03",
         "2 ",
         "2",
         "1",
         "1 ",
         "2",
         "4",
         "09092020",
         "06",
         "0",
         "1",
         "1  ",
         "08",
         "1         ",
         "5",
         "2180909 ",
         "SP",
         2020
        ],
        [
         "1",
         "3625087",
         "350320 ",
         "1",
         "36",
         "5",
         "5",
         "422105",
         "00",
         "02",
         350320,
         "5",
         "1",
         "2",
         "4",
         "17092020",
         "0732 ",
         1,
         "10",
         "10",
         "1",
         "4245",
         "2",
         "21092020",
         "",
         "20200018",
         "3.2.01 ",
         "30092020",
         "013     ",
         "",
         "835",
         "350320 ",
         "35",
         "5",
         "",
         "04061984",
         "1",
         "02",
         "00",
         "00",
         "37",
         "26122019",
         "37",
         "8 ",
         "10",
         "01",
         "1 ",
         "2",
         "1",
         "1 ",
         "2",
         "4",
         "17092020",
         "08",
         "0",
         "1",
         "1  ",
         "04",
         "1         ",
         "5",
         "2180910 ",
         "SP",
         2020
        ],
        [
         "1",
         "3625087",
         "350320 ",
         "1",
         "31",
         "5",
         "5",
         "411010",
         "00",
         "00",
         350320,
         "5",
         "1",
         "2",
         "4",
         "11092020",
         "1518 ",
         1,
         "08",
         "09",
         "1",
         "4030",
         "2",
         "21092020",
         "",
         "20200018",
         "3.2.01 ",
         "30092020",
         "019     ",
         "",
         "835",
         "350320 ",
         "35",
         "5",
         "",
         "13071989",
         "1",
         "00",
         "00",
         "00",
         "28",
         "06122019",
         "39",
         "8 ",
         "12",
         "01",
         "1 ",
         "2",
         "2",
         "1 ",
         "2",
         "3",
         "11092020",
         "08",
         "0",
         "1",
         "1  ",
         "01",
         "0         ",
         "5",
         "2180911 ",
         "SP",
         2020
        ],
        [
         "1",
         "3625087",
         "350320 ",
         "1",
         "33",
         "5",
         "4",
         "141410",
         "03",
         "00",
         350320,
         "5",
         "1",
         "2",
         "4",
         "11092020",
         "0727 ",
         1,
         "09",
         "10",
         "3",
         "3030",
         "2",
         "21092020",
         "",
         "20200018",
         "3.2.01 ",
         "30092020",
         "019     ",
         "",
         "",
         "",
         "",
         "3",
         "3",
         "12051987",
         "3",
         "03",
         "03",
         "00",
         "40",
         "08122019",
         "39",
         "8 ",
         "07",
         "02",
         "1 ",
         "2",
         "2",
         "1 ",
         "2",
         "3",
         "11092020",
         "06",
         "0",
         "1",
         "1  ",
         "03",
         "1         ",
         "5",
         "2180912 ",
         "SP",
         2020
        ],
        [
         "1",
         "3625087",
         "350320 ",
         "1",
         "31",
         "4",
         "4",
         "421125",
         "00",
         "00",
         350320,
         "5",
         "1",
         "2",
         "3",
         "15092020",
         "1635 ",
         1,
         "09",
         "10",
         "1",
         "3650",
         "2",
         "21092020",
         "",
         "20200018",
         "3.2.01 ",
         "30092020",
         "015     ",
         "",
         "842",
         "421720 ",
         "42",
         "3",
         "3",
         "20021989",
         "1",
         "00",
         "00",
         "00",
         "46",
         "23122019",
         "37",
         "8 ",
         "06",
         "02",
         "1 ",
         "2",
         "2",
         "1 ",
         "2",
         "3",
         "15092020",
         "06",
         "0",
         "1",
         "1  ",
         "01",
         "0         ",
         "4",
         "2180913 ",
         "SP",
         2020
        ]
       ],
       "datasetInfos": [],
       "dbfsResultPath": null,
       "isJsonSchema": true,
       "metadata": {},
       "overflow": false,
       "plotOptions": {
        "customPlotOptions": {},
        "displayType": "table",
        "pivotAggregation": null,
        "pivotColumns": null,
        "xColumns": null,
        "yColumns": null
       },
       "removedWidgets": [],
       "schema": [
        {
         "metadata": "{}",
         "name": "ORIGEM",
         "type": "\"string\""
        },
        {
         "metadata": "{}",
         "name": "CODESTAB",
         "type": "\"string\""
        },
        {
         "metadata": "{}",
         "name": "CODMUNNASC",
         "type": "\"string\""
        },
        {
         "metadata": "{}",
         "name": "LOCNASC",
         "type": "\"string\""
        },
        {
         "metadata": "{}",
         "name": "IDADEMAE",
         "type": "\"string\""
        },
        {
         "metadata": "{}",
         "name": "ESTCIVMAE",
         "type": "\"string\""
        },
        {
         "metadata": "{}",
         "name": "ESCMAE",
         "type": "\"string\""
        },
        {
         "metadata": "{}",
         "name": "CODOCUPMAE",
         "type": "\"string\""
        },
        {
         "metadata": "{}",
         "name": "QTDFILVIVO",
         "type": "\"string\""
        },
        {
         "metadata": "{}",
         "name": "QTDFILMORT",
         "type": "\"string\""
        },
        {
         "metadata": "{}",
         "name": "CODMUNRES",
         "type": "\"long\""
        },
        {
         "metadata": "{}",
         "name": "GESTACAO",
         "type": "\"string\""
        },
        {
         "metadata": "{}",
         "name": "GRAVIDEZ",
         "type": "\"string\""
        },
        {
         "metadata": "{}",
         "name": "PARTO",
         "type": "\"string\""
        },
        {
         "metadata": "{}",
         "name": "CONSULTAS",
         "type": "\"string\""
        },
        {
         "metadata": "{}",
         "name": "DTNASC",
         "type": "\"string\""
        },
        {
         "metadata": "{}",
         "name": "HORANASC",
         "type": "\"string\""
        },
        {
         "metadata": "{}",
         "name": "SEXO",
         "type": "\"long\""
        },
        {
         "metadata": "{}",
         "name": "APGAR1",
         "type": "\"string\""
        },
        {
         "metadata": "{}",
         "name": "APGAR5",
         "type": "\"string\""
        },
        {
         "metadata": "{}",
         "name": "RACACOR",
         "type": "\"string\""
        },
        {
         "metadata": "{}",
         "name": "PESO",
         "type": "\"string\""
        },
        {
         "metadata": "{}",
         "name": "IDANOMAL",
         "type": "\"string\""
        },
        {
         "metadata": "{}",
         "name": "DTCADASTRO",
         "type": "\"string\""
        },
        {
         "metadata": "{}",
         "name": "CODANOMAL",
         "type": "\"string\""
        },
        {
         "metadata": "{}",
         "name": "NUMEROLOTE",
         "type": "\"string\""
        },
        {
         "metadata": "{}",
         "name": "VERSAOSIST",
         "type": "\"string\""
        },
        {
         "metadata": "{}",
         "name": "DTRECEBIM",
         "type": "\"string\""
        },
        {
         "metadata": "{}",
         "name": "DIFDATA",
         "type": "\"string\""
        },
        {
         "metadata": "{}",
         "name": "DTRECORIGA",
         "type": "\"string\""
        },
        {
         "metadata": "{}",
         "name": "NATURALMAE",
         "type": "\"string\""
        },
        {
         "metadata": "{}",
         "name": "CODMUNNATU",
         "type": "\"string\""
        },
        {
         "metadata": "{}",
         "name": "CODUFNATU",
         "type": "\"string\""
        },
        {
         "metadata": "{}",
         "name": "ESCMAE2010",
         "type": "\"string\""
        },
        {
         "metadata": "{}",
         "name": "SERIESCMAE",
         "type": "\"string\""
        },
        {
         "metadata": "{}",
         "name": "DTNASCMAE",
         "type": "\"string\""
        },
        {
         "metadata": "{}",
         "name": "RACACORMAE",
         "type": "\"string\""
        },
        {
         "metadata": "{}",
         "name": "QTDGESTANT",
         "type": "\"string\""
        },
        {
         "metadata": "{}",
         "name": "QTDPARTNOR",
         "type": "\"string\""
        },
        {
         "metadata": "{}",
         "name": "QTDPARTCES",
         "type": "\"string\""
        },
        {
         "metadata": "{}",
         "name": "IDADEPAI",
         "type": "\"string\""
        },
        {
         "metadata": "{}",
         "name": "DTULTMENST",
         "type": "\"string\""
        },
        {
         "metadata": "{}",
         "name": "SEMAGESTAC",
         "type": "\"string\""
        },
        {
         "metadata": "{}",
         "name": "TPMETESTIM",
         "type": "\"string\""
        },
        {
         "metadata": "{}",
         "name": "CONSPRENAT",
         "type": "\"string\""
        },
        {
         "metadata": "{}",
         "name": "MESPRENAT",
         "type": "\"string\""
        },
        {
         "metadata": "{}",
         "name": "TPAPRESENT",
         "type": "\"string\""
        },
        {
         "metadata": "{}",
         "name": "STTRABPART",
         "type": "\"string\""
        },
        {
         "metadata": "{}",
         "name": "STCESPARTO",
         "type": "\"string\""
        },
        {
         "metadata": "{}",
         "name": "TPNASCASSI",
         "type": "\"string\""
        },
        {
         "metadata": "{}",
         "name": "TPFUNCRESP",
         "type": "\"string\""
        },
        {
         "metadata": "{}",
         "name": "TPDOCRESP",
         "type": "\"string\""
        },
        {
         "metadata": "{}",
         "name": "DTDECLARAC",
         "type": "\"string\""
        },
        {
         "metadata": "{}",
         "name": "ESCMAEAGR1",
         "type": "\"string\""
        },
        {
         "metadata": "{}",
         "name": "STDNEPIDEM",
         "type": "\"string\""
        },
        {
         "metadata": "{}",
         "name": "STDNNOVA",
         "type": "\"string\""
        },
        {
         "metadata": "{}",
         "name": "CODPAISRES",
         "type": "\"string\""
        },
        {
         "metadata": "{}",
         "name": "TPROBSON",
         "type": "\"string\""
        },
        {
         "metadata": "{}",
         "name": "PARIDADE",
         "type": "\"string\""
        },
        {
         "metadata": "{}",
         "name": "KOTELCHUCK",
         "type": "\"string\""
        },
        {
         "metadata": "{}",
         "name": "CONTADOR",
         "type": "\"string\""
        },
        {
         "metadata": "{}",
         "name": "STATE",
         "type": "\"string\""
        },
        {
         "metadata": "{}",
         "name": "YEAR",
         "type": "\"long\""
        }
       ],
       "type": "table"
      }
     },
     "output_type": "display_data"
    }
   ],
   "source": [
    "df_sudeste_2022 = spark.read.table(\"workspace.triggo.sudeste_2022\")\n",
    "df_sudeste_2022.limit(5).display()\n"
   ]
  }
 ],
 "metadata": {
  "application/vnd.databricks.v1+notebook": {
   "computePreferences": null,
   "dashboards": [],
   "environmentMetadata": {
    "base_environment": "",
    "environment_version": "2"
   },
   "inputWidgetPreferences": null,
   "language": "python",
   "notebookMetadata": {
    "mostRecentlyExecutedCommandWithImplicitDF": {
     "commandId": 5008722403767026,
     "dataframes": [
      "_sqldf"
     ]
    },
    "pythonIndentUnit": 4
   },
   "notebookName": "(Clone) pysus_2025-08-06 03:55:46",
   "widgets": {}
  },
  "language_info": {
   "name": "python"
  }
 },
 "nbformat": 4,
 "nbformat_minor": 0
}